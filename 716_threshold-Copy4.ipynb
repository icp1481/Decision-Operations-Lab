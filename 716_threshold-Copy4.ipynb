{
 "cells": [
  {
   "cell_type": "markdown",
   "metadata": {
    "id": "e7cefd52-a0e3-4f44-924d-01122701ce31"
   },
   "source": [
    "# Setup"
   ]
  },
  {
   "cell_type": "code",
   "execution_count": 1,
   "metadata": {
    "colab": {
     "base_uri": "https://localhost:8080/"
    },
    "executionInfo": {
     "elapsed": 21560,
     "status": "ok",
     "timestamp": 1716947222586,
     "user": {
      "displayName": "Lee Minjik",
      "userId": "03992121075759719709"
     },
     "user_tz": -540
    },
    "id": "YlofSzWLwRJy",
    "outputId": "daa27587-d206-483b-9ec2-b30e1ee01282"
   },
   "outputs": [],
   "source": [
    "# !pip install optuna\n",
    "\n",
    "# import optuna\n",
    "# from optuna.samplers import TPESampler"
   ]
  },
  {
   "cell_type": "code",
   "execution_count": 2,
   "metadata": {},
   "outputs": [
    {
     "name": "stdout",
     "output_type": "stream",
     "text": [
      "Requirement already satisfied: xgboost in c:\\users\\sklee\\anaconda3\\lib\\site-packages (2.0.3)\n",
      "Requirement already satisfied: numpy in c:\\users\\sklee\\anaconda3\\lib\\site-packages (from xgboost) (1.26.4)\n",
      "Requirement already satisfied: scipy in c:\\users\\sklee\\anaconda3\\lib\\site-packages (from xgboost) (1.11.4)\n",
      "Note: you may need to restart the kernel to use updated packages.\n"
     ]
    }
   ],
   "source": [
    "pip install xgboost"
   ]
  },
  {
   "cell_type": "code",
   "execution_count": 3,
   "metadata": {},
   "outputs": [
    {
     "name": "stdout",
     "output_type": "stream",
     "text": [
      "Requirement already satisfied: lightgbm in c:\\users\\sklee\\anaconda3\\lib\\site-packages (4.4.0)\n",
      "Requirement already satisfied: numpy>=1.17.0 in c:\\users\\sklee\\anaconda3\\lib\\site-packages (from lightgbm) (1.26.4)\n",
      "Requirement already satisfied: scipy in c:\\users\\sklee\\anaconda3\\lib\\site-packages (from lightgbm) (1.11.4)\n",
      "Note: you may need to restart the kernel to use updated packages.\n"
     ]
    }
   ],
   "source": [
    "pip install lightgbm"
   ]
  },
  {
   "cell_type": "code",
   "execution_count": 4,
   "metadata": {},
   "outputs": [
    {
     "name": "stdout",
     "output_type": "stream",
     "text": [
      "Requirement already satisfied: catboost in c:\\users\\sklee\\anaconda3\\lib\\site-packages (1.2.5)Note: you may need to restart the kernel to use updated packages.\n",
      "\n",
      "Requirement already satisfied: graphviz in c:\\users\\sklee\\anaconda3\\lib\\site-packages (from catboost) (0.20.3)\n",
      "Requirement already satisfied: matplotlib in c:\\users\\sklee\\anaconda3\\lib\\site-packages (from catboost) (3.8.0)\n",
      "Requirement already satisfied: numpy>=1.16.0 in c:\\users\\sklee\\anaconda3\\lib\\site-packages (from catboost) (1.26.4)\n",
      "Requirement already satisfied: pandas>=0.24 in c:\\users\\sklee\\anaconda3\\lib\\site-packages (from catboost) (2.1.4)\n",
      "Requirement already satisfied: scipy in c:\\users\\sklee\\anaconda3\\lib\\site-packages (from catboost) (1.11.4)\n",
      "Requirement already satisfied: plotly in c:\\users\\sklee\\anaconda3\\lib\\site-packages (from catboost) (5.9.0)\n",
      "Requirement already satisfied: six in c:\\users\\sklee\\anaconda3\\lib\\site-packages (from catboost) (1.16.0)\n",
      "Requirement already satisfied: python-dateutil>=2.8.2 in c:\\users\\sklee\\anaconda3\\lib\\site-packages (from pandas>=0.24->catboost) (2.8.2)\n",
      "Requirement already satisfied: pytz>=2020.1 in c:\\users\\sklee\\anaconda3\\lib\\site-packages (from pandas>=0.24->catboost) (2023.3.post1)\n",
      "Requirement already satisfied: tzdata>=2022.1 in c:\\users\\sklee\\anaconda3\\lib\\site-packages (from pandas>=0.24->catboost) (2023.3)\n",
      "Requirement already satisfied: contourpy>=1.0.1 in c:\\users\\sklee\\anaconda3\\lib\\site-packages (from matplotlib->catboost) (1.2.0)\n",
      "Requirement already satisfied: cycler>=0.10 in c:\\users\\sklee\\anaconda3\\lib\\site-packages (from matplotlib->catboost) (0.11.0)\n",
      "Requirement already satisfied: fonttools>=4.22.0 in c:\\users\\sklee\\anaconda3\\lib\\site-packages (from matplotlib->catboost) (4.25.0)\n",
      "Requirement already satisfied: kiwisolver>=1.0.1 in c:\\users\\sklee\\anaconda3\\lib\\site-packages (from matplotlib->catboost) (1.4.4)\n",
      "Requirement already satisfied: packaging>=20.0 in c:\\users\\sklee\\anaconda3\\lib\\site-packages (from matplotlib->catboost) (23.1)\n",
      "Requirement already satisfied: pillow>=6.2.0 in c:\\users\\sklee\\anaconda3\\lib\\site-packages (from matplotlib->catboost) (10.2.0)\n",
      "Requirement already satisfied: pyparsing>=2.3.1 in c:\\users\\sklee\\anaconda3\\lib\\site-packages (from matplotlib->catboost) (3.0.9)\n",
      "Requirement already satisfied: tenacity>=6.2.0 in c:\\users\\sklee\\anaconda3\\lib\\site-packages (from plotly->catboost) (8.2.2)\n"
     ]
    }
   ],
   "source": [
    "pip install catboost"
   ]
  },
  {
   "cell_type": "code",
   "execution_count": 5,
   "metadata": {
    "executionInfo": {
     "elapsed": 3663,
     "status": "ok",
     "timestamp": 1716947226237,
     "user": {
      "displayName": "Lee Minjik",
      "userId": "03992121075759719709"
     },
     "user_tz": -540
    },
    "id": "070c252b-82a8-465f-9002-72334399b6ef"
   },
   "outputs": [],
   "source": [
    "import numpy as np\n",
    "import pandas as pd\n",
    "\n",
    "import xgboost as xgb\n",
    "import lightgbm as lgb\n",
    "from xgboost import XGBRegressor, XGBClassifier\n",
    "from lightgbm import LGBMRegressor, LGBMClassifier\n",
    "from catboost import CatBoostRegressor, CatBoostClassifier\n",
    "from sklearn.ensemble import RandomForestRegressor, RandomForestClassifier\n",
    "\n",
    "from sklearn.model_selection import KFold, StratifiedKFold\n",
    "from sklearn.model_selection import cross_val_score\n",
    "from sklearn.metrics import mean_absolute_error, mean_squared_error, mean_squared_log_error\n",
    "from sklearn.metrics import accuracy_score, f1_score, roc_auc_score, log_loss\n",
    "from sklearn.metrics import confusion_matrix\n",
    "from sklearn.preprocessing import LabelEncoder"
   ]
  },
  {
   "cell_type": "code",
   "execution_count": 6,
   "metadata": {
    "executionInfo": {
     "elapsed": 1924,
     "status": "ok",
     "timestamp": 1716947228150,
     "user": {
      "displayName": "Lee Minjik",
      "userId": "03992121075759719709"
     },
     "user_tz": -540
    },
    "id": "W54s2Qkf9eTw"
   },
   "outputs": [],
   "source": [
    "import plotly.express as px\n",
    "import plotly.graph_objects as go\n",
    "import plotly.io as pio\n",
    "from plotly.subplots import make_subplots\n",
    "\n",
    "import matplotlib.pyplot as plt\n",
    "import seaborn as sns\n",
    "\n",
    "pio.templates.default = 'plotly_dark'\n",
    "# pio.templates['plotly_dark'].layout['height'] = 500"
   ]
  },
  {
   "cell_type": "code",
   "execution_count": 7,
   "metadata": {},
   "outputs": [],
   "source": [
    "import dask.dataframe as dd"
   ]
  },
  {
   "cell_type": "code",
   "execution_count": 8,
   "metadata": {},
   "outputs": [
    {
     "data": {
      "text/plain": [
       "554"
      ]
     },
     "execution_count": 8,
     "metadata": {},
     "output_type": "execute_result"
    }
   ],
   "source": [
    "import gc\n",
    "gc.collect()"
   ]
  },
  {
   "cell_type": "code",
   "execution_count": 9,
   "metadata": {
    "executionInfo": {
     "elapsed": 17,
     "status": "ok",
     "timestamp": 1716947228151,
     "user": {
      "displayName": "Lee Minjik",
      "userId": "03992121075759719709"
     },
     "user_tz": -540
    },
    "id": "_VW7SLYq84X6"
   },
   "outputs": [],
   "source": [
    "# import warnings\n",
    "# warnings.filterwarnings(action='ignore')"
   ]
  },
  {
   "cell_type": "code",
   "execution_count": 10,
   "metadata": {},
   "outputs": [
    {
     "name": "stderr",
     "output_type": "stream",
     "text": [
      "ERROR: Ignored the following versions that require a different python version: 1.21.2 Requires-Python >=3.7,<3.11; 1.21.3 Requires-Python >=3.7,<3.11; 1.21.4 Requires-Python >=3.7,<3.11; 1.21.5 Requires-Python >=3.7,<3.11; 1.21.6 Requires-Python >=3.7,<3.11\n",
      "ERROR: Could not find a version that satisfies the requirement numpy==1.21.4 (from versions: 1.3.0, 1.4.1, 1.5.0, 1.5.1, 1.6.0, 1.6.1, 1.6.2, 1.7.0, 1.7.1, 1.7.2, 1.8.0, 1.8.1, 1.8.2, 1.9.0, 1.9.1, 1.9.2, 1.9.3, 1.10.0.post2, 1.10.1, 1.10.2, 1.10.4, 1.11.0, 1.11.1, 1.11.2, 1.11.3, 1.12.0, 1.12.1, 1.13.0, 1.13.1, 1.13.3, 1.14.0, 1.14.1, 1.14.2, 1.14.3, 1.14.4, 1.14.5, 1.14.6, 1.15.0, 1.15.1, 1.15.2, 1.15.3, 1.15.4, 1.16.0, 1.16.1, 1.16.2, 1.16.3, 1.16.4, 1.16.5, 1.16.6, 1.17.0, 1.17.1, 1.17.2, 1.17.3, 1.17.4, 1.17.5, 1.18.0, 1.18.1, 1.18.2, 1.18.3, 1.18.4, 1.18.5, 1.19.0, 1.19.1, 1.19.2, 1.19.3, 1.19.4, 1.19.5, 1.20.0, 1.20.1, 1.20.2, 1.20.3, 1.21.0, 1.21.1, 1.22.0, 1.22.1, 1.22.2, 1.22.3, 1.22.4, 1.23.0rc1, 1.23.0rc2, 1.23.0rc3, 1.23.0, 1.23.1, 1.23.2, 1.23.3, 1.23.4, 1.23.5, 1.24.0rc1, 1.24.0rc2, 1.24.0, 1.24.1, 1.24.2, 1.24.3, 1.24.4, 1.25.0rc1, 1.25.0, 1.25.1, 1.25.2, 1.26.0b1, 1.26.0rc1, 1.26.0, 1.26.1, 1.26.2, 1.26.3, 1.26.4, 2.0.0b1, 2.0.0rc1, 2.0.0rc2, 2.0.0)\n",
      "ERROR: No matching distribution found for numpy==1.21.4\n"
     ]
    }
   ],
   "source": [
    "!pip install numpy==1.21.4"
   ]
  },
  {
   "cell_type": "code",
   "execution_count": 11,
   "metadata": {},
   "outputs": [
    {
     "name": "stdout",
     "output_type": "stream",
     "text": [
      "1.26.4\n"
     ]
    }
   ],
   "source": [
    "import numpy as np\n",
    "print(np.__version__)"
   ]
  },
  {
   "cell_type": "markdown",
   "metadata": {
    "id": "4VYY_A45Qi-i"
   },
   "source": [
    "# Dataset"
   ]
  },
  {
   "cell_type": "code",
   "execution_count": 12,
   "metadata": {},
   "outputs": [],
   "source": [
    "# dtypes = {\n",
    "#         'ip'            : 'uint32',\n",
    "#         'app'           : 'uint16',\n",
    "#         'device'        : 'uint16',\n",
    "#         'os'            : 'uint16',\n",
    "#         'channel'       : 'uint16',\n",
    "#         'is_attributed' : 'uint8',\n",
    "#         }\n",
    "\n",
    "# columns = ['ip', 'app', 'device', 'os', 'channel', 'click_time', 'is_attributed']\n",
    "\n",
    "# train_df = pd.read_csv(\"train_new3\", usecols=columns, dtype=dtypes)\n",
    "\n",
    "# train_df.info()"
   ]
  },
  {
   "cell_type": "code",
   "execution_count": 13,
   "metadata": {},
   "outputs": [
    {
     "data": {
      "text/plain": [
       "[('ip',),\n",
       " ('app',),\n",
       " ('os',),\n",
       " ('channel',),\n",
       " ('device',),\n",
       " ('ip', 'app'),\n",
       " ('ip', 'os'),\n",
       " ('ip', 'channel'),\n",
       " ('ip', 'device'),\n",
       " ('app', 'os'),\n",
       " ('app', 'channel'),\n",
       " ('app', 'device'),\n",
       " ('os', 'channel'),\n",
       " ('os', 'device'),\n",
       " ('channel', 'device'),\n",
       " ('ip', 'app', 'os'),\n",
       " ('ip', 'app', 'channel'),\n",
       " ('ip', 'app', 'device'),\n",
       " ('ip', 'os', 'channel'),\n",
       " ('ip', 'os', 'device'),\n",
       " ('ip', 'channel', 'device'),\n",
       " ('app', 'os', 'channel'),\n",
       " ('app', 'os', 'device'),\n",
       " ('app', 'channel', 'device'),\n",
       " ('os', 'channel', 'device'),\n",
       " ('ip', 'app', 'os', 'channel'),\n",
       " ('ip', 'app', 'os', 'device'),\n",
       " ('ip', 'app', 'channel', 'device'),\n",
       " ('ip', 'os', 'channel', 'device'),\n",
       " ('app', 'os', 'channel', 'device'),\n",
       " ('ip', 'app', 'os', 'channel', 'device')]"
      ]
     },
     "execution_count": 13,
     "metadata": {},
     "output_type": "execute_result"
    }
   ],
   "source": [
    "import itertools\n",
    "col = ['ip', 'app', 'os', 'channel', 'device']\n",
    "all_combinations = []\n",
    "\n",
    "# Generate all combinations from length 1 to length of col\n",
    "for r in range(1, len(col) + 1):\n",
    "    combinations = itertools.combinations(col, r)\n",
    "    for combination in combinations:\n",
    "        all_combinations.append(combination)\n",
    "        \n",
    "all_combinations"
   ]
  },
  {
   "cell_type": "code",
   "execution_count": 14,
   "metadata": {},
   "outputs": [
    {
     "name": "stdout",
     "output_type": "stream",
     "text": [
      "prev_click_time_diff_ip\n",
      "prev_click_time_diff_app\n",
      "prev_click_time_diff_os\n",
      "prev_click_time_diff_channel\n",
      "prev_click_time_diff_device\n",
      "prev_click_time_diff_ip+app\n",
      "prev_click_time_diff_ip+os\n",
      "prev_click_time_diff_ip+channel\n",
      "prev_click_time_diff_ip+device\n",
      "prev_click_time_diff_app+os\n",
      "prev_click_time_diff_app+channel\n",
      "prev_click_time_diff_app+device\n",
      "prev_click_time_diff_os+channel\n",
      "prev_click_time_diff_os+device\n",
      "prev_click_time_diff_channel+device\n",
      "prev_click_time_diff_ip+app+os\n",
      "prev_click_time_diff_ip+app+channel\n",
      "prev_click_time_diff_ip+app+device\n",
      "prev_click_time_diff_ip+os+channel\n",
      "prev_click_time_diff_ip+os+device\n",
      "prev_click_time_diff_ip+channel+device\n",
      "prev_click_time_diff_app+os+channel\n",
      "prev_click_time_diff_app+os+device\n",
      "prev_click_time_diff_app+channel+device\n",
      "prev_click_time_diff_os+channel+device\n",
      "prev_click_time_diff_ip+app+os+channel\n",
      "prev_click_time_diff_ip+app+os+device\n",
      "prev_click_time_diff_ip+app+channel+device\n",
      "prev_click_time_diff_ip+os+channel+device\n",
      "prev_click_time_diff_app+os+channel+device\n",
      "prev_click_time_diff_ip+app+os+channel+device\n"
     ]
    }
   ],
   "source": [
    "for combo in all_combinations:\n",
    "    combo_list = list(combo)\n",
    "    print(f'prev_click_time_diff_{\"+\".join(combo_list)}')"
   ]
  },
  {
   "cell_type": "code",
   "execution_count": 15,
   "metadata": {},
   "outputs": [
    {
     "data": {
      "text/plain": [
       "['prev_click_time_diff_ip',\n",
       " 'prev_click_time_diff_app',\n",
       " 'prev_click_time_diff_os',\n",
       " 'prev_click_time_diff_channel',\n",
       " 'prev_click_time_diff_device',\n",
       " 'prev_click_time_diff_ip_app',\n",
       " 'prev_click_time_diff_ip_os',\n",
       " 'prev_click_time_diff_ip_channel',\n",
       " 'prev_click_time_diff_ip_device',\n",
       " 'prev_click_time_diff_app_os',\n",
       " 'prev_click_time_diff_app_channel',\n",
       " 'prev_click_time_diff_app_device',\n",
       " 'prev_click_time_diff_os_channel',\n",
       " 'prev_click_time_diff_os_device',\n",
       " 'prev_click_time_diff_channel_device',\n",
       " 'prev_click_time_diff_ip_app_os',\n",
       " 'prev_click_time_diff_ip_app_channel',\n",
       " 'prev_click_time_diff_ip_app_device',\n",
       " 'prev_click_time_diff_ip_os_channel',\n",
       " 'prev_click_time_diff_ip_os_device',\n",
       " 'prev_click_time_diff_ip_channel_device',\n",
       " 'prev_click_time_diff_app_os_channel',\n",
       " 'prev_click_time_diff_app_os_device',\n",
       " 'prev_click_time_diff_app_channel_device',\n",
       " 'prev_click_time_diff_os_channel_device',\n",
       " 'prev_click_time_diff_ip_app_os_channel',\n",
       " 'prev_click_time_diff_ip_app_os_device',\n",
       " 'prev_click_time_diff_ip_app_channel_device',\n",
       " 'prev_click_time_diff_ip_os_channel_device',\n",
       " 'prev_click_time_diff_app_os_channel_device',\n",
       " 'prev_click_time_diff_ip_app_os_channel_device']"
      ]
     },
     "execution_count": 15,
     "metadata": {},
     "output_type": "execute_result"
    }
   ],
   "source": [
    "prev_click_columns = []\n",
    "for combo in all_combinations:\n",
    "    combo_list = list(combo)\n",
    "    prev_click_columns += [f'prev_click_time_diff_{\"_\".join(combo_list)}']\n",
    "    \n",
    "prev_click_columns"
   ]
  },
  {
   "cell_type": "code",
   "execution_count": 16,
   "metadata": {},
   "outputs": [],
   "source": [
    "from itertools import permutations\n",
    "topic_columns = []\n",
    "for i, (var1, var2) in enumerate(permutations(col, 2), start=1):\n",
    "    for j in range(5) :\n",
    "        topic_columns.append(f'topic_{var1}+{var2}_{j+1}')"
   ]
  },
  {
   "cell_type": "code",
   "execution_count": 17,
   "metadata": {},
   "outputs": [
    {
     "data": {
      "text/plain": [
       "100"
      ]
     },
     "execution_count": 17,
     "metadata": {},
     "output_type": "execute_result"
    }
   ],
   "source": [
    "len(topic_columns)"
   ]
  },
  {
   "cell_type": "code",
   "execution_count": 18,
   "metadata": {},
   "outputs": [],
   "source": [
    "# dtypes = {\n",
    "#         'ip'            : 'uint32',\n",
    "#         'app'           : 'uint16',\n",
    "#         'device'        : 'uint16',\n",
    "#         'os'            : 'uint16',\n",
    "#         'channel'       : 'uint16',\n",
    "#         'is_attributed' : 'uint8',\n",
    "#         }\n",
    "\n",
    "# columns = ['ip', 'app', 'device', 'os', 'channel', 'click_time', 'is_attributed']\n",
    "\n",
    "# #train_df = pd.read_csv(\"train_full_click.csv\", usecols=columns, dtype=dtypes)\n",
    "# train_df = pd.read_csv(\"train_small_20.csv\", usecols=columns, dtype=dtypes)\n",
    "\n",
    "# train_df.info()"
   ]
  },
  {
   "cell_type": "code",
   "execution_count": 19,
   "metadata": {},
   "outputs": [],
   "source": [
    "# dtypes = {\n",
    "#     'ip'            : 'uint32',\n",
    "#     'app'           : 'uint16',\n",
    "#     'device'        : 'uint16',\n",
    "#     'os'            : 'uint16',\n",
    "#     'channel'       : 'uint16',\n",
    "#     'is_attributed' : 'uint8',\n",
    "# }\n",
    "\n",
    "# file_name = \"train_small_20.csv\"\n",
    "# columns = ['ip', 'app', 'device', 'os', 'channel', 'click_time', 'is_attributed']\n",
    "\n",
    "# # Assuming 'prev_click_time_diff_' columns are generated or known\n",
    "# # For example, let's assume we have prev_click_time_diff_1, prev_click_time_diff_2\n",
    "\n",
    "# # Read the first row of the CSV to get the existing columns\n",
    "# sample_df = pd.read_csv(file_name, nrows=1)\n",
    "# existing_columns = sample_df.columns.tolist()\n",
    "\n",
    "# # Filter the columns and dtypes based on existing columns\n",
    "# valid_columns = [col for col in columns if col in existing_columns]\n",
    "# valid_prev_click_columns = [col for col in topic_columns if col in existing_columns]\n",
    "# valid_prev_click_columns += [col for col in prev_click_columns if col in existing_columns]\n",
    "\n",
    "# # Update the columns and dtypes\n",
    "# valid_columns += valid_prev_click_columns\n",
    "\n",
    "# # Include 'prev_click_time_diff_' columns as uint32\n",
    "# #for col in valid_prev_click_columns:\n",
    "# #    dtypes[col] = 'uint32'\n",
    "\n",
    "# # Create valid_dtypes for columns that exist in the CSV\n",
    "# #valid_dtypes = {col: dtype for col, dtype in dtypes.items() if col in valid_columns}\n",
    "\n",
    "# # Read the CSV file with the updated dtypes and columns\n",
    "# train_df = pd.read_csv(file_name, usecols=valid_columns, dtype=dtypes)\n",
    "\n",
    "# st = len(valid_prev_click_columns)\n",
    "\n",
    "# # Display the DataFrame info\n",
    "# train_df.info()"
   ]
  },
  {
   "cell_type": "code",
   "execution_count": 20,
   "metadata": {},
   "outputs": [],
   "source": [
    "# valid_prev_click_columns"
   ]
  },
  {
   "cell_type": "code",
   "execution_count": 21,
   "metadata": {},
   "outputs": [],
   "source": [
    "# len(valid_prev_click_columns)"
   ]
  },
  {
   "cell_type": "code",
   "execution_count": null,
   "metadata": {},
   "outputs": [],
   "source": []
  },
  {
   "cell_type": "code",
   "execution_count": 22,
   "metadata": {},
   "outputs": [],
   "source": [
    "# dtypes = {\n",
    "#     'ip'            : 'uint32',\n",
    "#     'app'           : 'uint16',\n",
    "#     'device'        : 'uint16',\n",
    "#     'os'            : 'uint16',\n",
    "#     'channel'       : 'uint16',\n",
    "#     'is_attributed' : 'uint8',\n",
    "# }\n",
    "\n",
    "# file_name = \"train_new4\"\n",
    "# columns = ['ip', 'app', 'device', 'os', 'channel', 'click_time', 'is_attributed']\n",
    "\n",
    "# # Assuming 'prev_click_time_diff_' columns are generated or known\n",
    "# # For example, let's assume we have prev_click_time_diff_1, prev_click_time_diff_2\n",
    "\n",
    "# # Read the first row of the CSV to get the existing columns\n",
    "# sample_df = pd.read_csv(file_name, nrows=1)\n",
    "# existing_columns = sample_df.columns.tolist()\n",
    "\n",
    "# # Filter the columns and dtypes based on existing columns\n",
    "# valid_columns = [col for col in columns if col in existing_columns]\n",
    "# valid_prev_click_columns = [col for col in prev_click_columns if col in existing_columns]\n",
    "\n",
    "# # Update the columns and dtypes\n",
    "# valid_columns += valid_prev_click_columns\n",
    "\n",
    "# # Include 'prev_click_time_diff_' columns as uint32\n",
    "# #for col in valid_prev_click_columns:\n",
    "# #    dtypes[col] = 'uint32'\n",
    "\n",
    "# # Create valid_dtypes for columns that exist in the CSV\n",
    "# #valid_dtypes = {col: dtype for col, dtype in dtypes.items() if col in valid_columns}\n",
    "\n",
    "# # Read the CSV file with the updated dtypes and columns\n",
    "# train_df = pd.read_csv(file_name, usecols=valid_columns, dtype=dtypes)\n",
    "\n",
    "#st = len(valid_prev_click_columns)\n",
    "\n",
    "# # Display the DataFrame info\n",
    "# train_df.info()"
   ]
  },
  {
   "cell_type": "markdown",
   "metadata": {},
   "source": [
    "## input"
   ]
  },
  {
   "cell_type": "code",
   "execution_count": 23,
   "metadata": {},
   "outputs": [],
   "source": [
    "dtypes = {\n",
    "        'ip'            : 'uint32',\n",
    "        'app'           : 'uint16',\n",
    "        'device'        : 'uint16',\n",
    "        'os'            : 'uint16',\n",
    "        'channel'       : 'uint16',\n",
    "        'is_attributed' : 'uint8',\n",
    "        }\n"
   ]
  },
  {
   "cell_type": "code",
   "execution_count": 24,
   "metadata": {},
   "outputs": [],
   "source": [
    "# %%time\n",
    "# train_df = pd.read_csv(\"full_train_final_only_click.csv\", dtype = dtypes)\n",
    "# train_df"
   ]
  },
  {
   "cell_type": "code",
   "execution_count": 25,
   "metadata": {},
   "outputs": [
    {
     "name": "stdout",
     "output_type": "stream",
     "text": [
      "CPU times: total: 62.5 ms\n",
      "Wall time: 139 ms\n"
     ]
    },
    {
     "data": {
      "text/html": [
       "<div>\n",
       "<style scoped>\n",
       "    .dataframe tbody tr th:only-of-type {\n",
       "        vertical-align: middle;\n",
       "    }\n",
       "\n",
       "    .dataframe tbody tr th {\n",
       "        vertical-align: top;\n",
       "    }\n",
       "\n",
       "    .dataframe thead th {\n",
       "        text-align: right;\n",
       "    }\n",
       "</style>\n",
       "<table border=\"1\" class=\"dataframe\">\n",
       "  <thead>\n",
       "    <tr style=\"text-align: right;\">\n",
       "      <th></th>\n",
       "      <th>ip</th>\n",
       "      <th>app</th>\n",
       "      <th>device</th>\n",
       "      <th>os</th>\n",
       "      <th>channel</th>\n",
       "      <th>click_time</th>\n",
       "      <th>attributed_time</th>\n",
       "      <th>is_attributed</th>\n",
       "    </tr>\n",
       "  </thead>\n",
       "  <tbody>\n",
       "    <tr>\n",
       "      <th>0</th>\n",
       "      <td>87540</td>\n",
       "      <td>12</td>\n",
       "      <td>1</td>\n",
       "      <td>13</td>\n",
       "      <td>497</td>\n",
       "      <td>2017-11-07 09:30:38</td>\n",
       "      <td>NaN</td>\n",
       "      <td>0</td>\n",
       "    </tr>\n",
       "    <tr>\n",
       "      <th>1</th>\n",
       "      <td>105560</td>\n",
       "      <td>25</td>\n",
       "      <td>1</td>\n",
       "      <td>17</td>\n",
       "      <td>259</td>\n",
       "      <td>2017-11-07 13:40:27</td>\n",
       "      <td>NaN</td>\n",
       "      <td>0</td>\n",
       "    </tr>\n",
       "    <tr>\n",
       "      <th>2</th>\n",
       "      <td>101424</td>\n",
       "      <td>12</td>\n",
       "      <td>1</td>\n",
       "      <td>19</td>\n",
       "      <td>212</td>\n",
       "      <td>2017-11-07 18:05:24</td>\n",
       "      <td>NaN</td>\n",
       "      <td>0</td>\n",
       "    </tr>\n",
       "    <tr>\n",
       "      <th>3</th>\n",
       "      <td>94584</td>\n",
       "      <td>13</td>\n",
       "      <td>1</td>\n",
       "      <td>13</td>\n",
       "      <td>477</td>\n",
       "      <td>2017-11-07 04:58:08</td>\n",
       "      <td>NaN</td>\n",
       "      <td>0</td>\n",
       "    </tr>\n",
       "    <tr>\n",
       "      <th>4</th>\n",
       "      <td>68413</td>\n",
       "      <td>12</td>\n",
       "      <td>1</td>\n",
       "      <td>1</td>\n",
       "      <td>178</td>\n",
       "      <td>2017-11-09 09:00:09</td>\n",
       "      <td>NaN</td>\n",
       "      <td>0</td>\n",
       "    </tr>\n",
       "    <tr>\n",
       "      <th>...</th>\n",
       "      <td>...</td>\n",
       "      <td>...</td>\n",
       "      <td>...</td>\n",
       "      <td>...</td>\n",
       "      <td>...</td>\n",
       "      <td>...</td>\n",
       "      <td>...</td>\n",
       "      <td>...</td>\n",
       "    </tr>\n",
       "    <tr>\n",
       "      <th>99995</th>\n",
       "      <td>124883</td>\n",
       "      <td>11</td>\n",
       "      <td>1</td>\n",
       "      <td>19</td>\n",
       "      <td>122</td>\n",
       "      <td>2017-11-09 13:25:41</td>\n",
       "      <td>NaN</td>\n",
       "      <td>0</td>\n",
       "    </tr>\n",
       "    <tr>\n",
       "      <th>99996</th>\n",
       "      <td>85150</td>\n",
       "      <td>9</td>\n",
       "      <td>1</td>\n",
       "      <td>13</td>\n",
       "      <td>244</td>\n",
       "      <td>2017-11-07 11:25:43</td>\n",
       "      <td>NaN</td>\n",
       "      <td>0</td>\n",
       "    </tr>\n",
       "    <tr>\n",
       "      <th>99997</th>\n",
       "      <td>18839</td>\n",
       "      <td>3</td>\n",
       "      <td>1</td>\n",
       "      <td>13</td>\n",
       "      <td>19</td>\n",
       "      <td>2017-11-08 11:38:42</td>\n",
       "      <td>NaN</td>\n",
       "      <td>0</td>\n",
       "    </tr>\n",
       "    <tr>\n",
       "      <th>99998</th>\n",
       "      <td>114276</td>\n",
       "      <td>15</td>\n",
       "      <td>1</td>\n",
       "      <td>12</td>\n",
       "      <td>245</td>\n",
       "      <td>2017-11-08 17:55:21</td>\n",
       "      <td>NaN</td>\n",
       "      <td>0</td>\n",
       "    </tr>\n",
       "    <tr>\n",
       "      <th>99999</th>\n",
       "      <td>119349</td>\n",
       "      <td>14</td>\n",
       "      <td>1</td>\n",
       "      <td>15</td>\n",
       "      <td>401</td>\n",
       "      <td>2017-11-07 14:32:27</td>\n",
       "      <td>NaN</td>\n",
       "      <td>0</td>\n",
       "    </tr>\n",
       "  </tbody>\n",
       "</table>\n",
       "<p>100000 rows × 8 columns</p>\n",
       "</div>"
      ],
      "text/plain": [
       "           ip  app  device  os  channel           click_time attributed_time  \\\n",
       "0       87540   12       1  13      497  2017-11-07 09:30:38             NaN   \n",
       "1      105560   25       1  17      259  2017-11-07 13:40:27             NaN   \n",
       "2      101424   12       1  19      212  2017-11-07 18:05:24             NaN   \n",
       "3       94584   13       1  13      477  2017-11-07 04:58:08             NaN   \n",
       "4       68413   12       1   1      178  2017-11-09 09:00:09             NaN   \n",
       "...       ...  ...     ...  ..      ...                  ...             ...   \n",
       "99995  124883   11       1  19      122  2017-11-09 13:25:41             NaN   \n",
       "99996   85150    9       1  13      244  2017-11-07 11:25:43             NaN   \n",
       "99997   18839    3       1  13       19  2017-11-08 11:38:42             NaN   \n",
       "99998  114276   15       1  12      245  2017-11-08 17:55:21             NaN   \n",
       "99999  119349   14       1  15      401  2017-11-07 14:32:27             NaN   \n",
       "\n",
       "       is_attributed  \n",
       "0                  0  \n",
       "1                  0  \n",
       "2                  0  \n",
       "3                  0  \n",
       "4                  0  \n",
       "...              ...  \n",
       "99995              0  \n",
       "99996              0  \n",
       "99997              0  \n",
       "99998              0  \n",
       "99999              0  \n",
       "\n",
       "[100000 rows x 8 columns]"
      ]
     },
     "execution_count": 25,
     "metadata": {},
     "output_type": "execute_result"
    }
   ],
   "source": [
    "%%time\n",
    "train_df = pd.read_csv(\"train_sample.csv\", dtype = dtypes)\n",
    "train_df"
   ]
  },
  {
   "cell_type": "code",
   "execution_count": 26,
   "metadata": {},
   "outputs": [],
   "source": [
    "# for col in train_df.columns:\n",
    "#     if col not in dtypes:\n",
    "#         if col != 'click_time' :\n",
    "#             train_df[col] = train_df[col].fillna(-1).astype('int16').replace({-1: np.nan})\n"
   ]
  },
  {
   "cell_type": "code",
   "execution_count": 27,
   "metadata": {},
   "outputs": [
    {
     "data": {
      "text/html": [
       "<div>\n",
       "<style scoped>\n",
       "    .dataframe tbody tr th:only-of-type {\n",
       "        vertical-align: middle;\n",
       "    }\n",
       "\n",
       "    .dataframe tbody tr th {\n",
       "        vertical-align: top;\n",
       "    }\n",
       "\n",
       "    .dataframe thead th {\n",
       "        text-align: right;\n",
       "    }\n",
       "</style>\n",
       "<table border=\"1\" class=\"dataframe\">\n",
       "  <thead>\n",
       "    <tr style=\"text-align: right;\">\n",
       "      <th></th>\n",
       "      <th>ip</th>\n",
       "      <th>app</th>\n",
       "      <th>device</th>\n",
       "      <th>os</th>\n",
       "      <th>channel</th>\n",
       "      <th>is_attributed</th>\n",
       "    </tr>\n",
       "  </thead>\n",
       "  <tbody>\n",
       "    <tr>\n",
       "      <th>count</th>\n",
       "      <td>100000.000000</td>\n",
       "      <td>100000.00000</td>\n",
       "      <td>100000.000000</td>\n",
       "      <td>100000.000000</td>\n",
       "      <td>100000.000000</td>\n",
       "      <td>100000.000000</td>\n",
       "    </tr>\n",
       "    <tr>\n",
       "      <th>mean</th>\n",
       "      <td>91255.879670</td>\n",
       "      <td>12.04788</td>\n",
       "      <td>21.771250</td>\n",
       "      <td>22.818280</td>\n",
       "      <td>268.832460</td>\n",
       "      <td>0.002270</td>\n",
       "    </tr>\n",
       "    <tr>\n",
       "      <th>std</th>\n",
       "      <td>69835.553661</td>\n",
       "      <td>14.94150</td>\n",
       "      <td>259.667767</td>\n",
       "      <td>55.943136</td>\n",
       "      <td>129.724248</td>\n",
       "      <td>0.047591</td>\n",
       "    </tr>\n",
       "    <tr>\n",
       "      <th>min</th>\n",
       "      <td>9.000000</td>\n",
       "      <td>1.00000</td>\n",
       "      <td>0.000000</td>\n",
       "      <td>0.000000</td>\n",
       "      <td>3.000000</td>\n",
       "      <td>0.000000</td>\n",
       "    </tr>\n",
       "    <tr>\n",
       "      <th>25%</th>\n",
       "      <td>40552.000000</td>\n",
       "      <td>3.00000</td>\n",
       "      <td>1.000000</td>\n",
       "      <td>13.000000</td>\n",
       "      <td>145.000000</td>\n",
       "      <td>0.000000</td>\n",
       "    </tr>\n",
       "    <tr>\n",
       "      <th>50%</th>\n",
       "      <td>79827.000000</td>\n",
       "      <td>12.00000</td>\n",
       "      <td>1.000000</td>\n",
       "      <td>18.000000</td>\n",
       "      <td>258.000000</td>\n",
       "      <td>0.000000</td>\n",
       "    </tr>\n",
       "    <tr>\n",
       "      <th>75%</th>\n",
       "      <td>118252.000000</td>\n",
       "      <td>15.00000</td>\n",
       "      <td>1.000000</td>\n",
       "      <td>19.000000</td>\n",
       "      <td>379.000000</td>\n",
       "      <td>0.000000</td>\n",
       "    </tr>\n",
       "    <tr>\n",
       "      <th>max</th>\n",
       "      <td>364757.000000</td>\n",
       "      <td>551.00000</td>\n",
       "      <td>3867.000000</td>\n",
       "      <td>866.000000</td>\n",
       "      <td>498.000000</td>\n",
       "      <td>1.000000</td>\n",
       "    </tr>\n",
       "  </tbody>\n",
       "</table>\n",
       "</div>"
      ],
      "text/plain": [
       "                  ip           app         device             os  \\\n",
       "count  100000.000000  100000.00000  100000.000000  100000.000000   \n",
       "mean    91255.879670      12.04788      21.771250      22.818280   \n",
       "std     69835.553661      14.94150     259.667767      55.943136   \n",
       "min         9.000000       1.00000       0.000000       0.000000   \n",
       "25%     40552.000000       3.00000       1.000000      13.000000   \n",
       "50%     79827.000000      12.00000       1.000000      18.000000   \n",
       "75%    118252.000000      15.00000       1.000000      19.000000   \n",
       "max    364757.000000     551.00000    3867.000000     866.000000   \n",
       "\n",
       "             channel  is_attributed  \n",
       "count  100000.000000  100000.000000  \n",
       "mean      268.832460       0.002270  \n",
       "std       129.724248       0.047591  \n",
       "min         3.000000       0.000000  \n",
       "25%       145.000000       0.000000  \n",
       "50%       258.000000       0.000000  \n",
       "75%       379.000000       0.000000  \n",
       "max       498.000000       1.000000  "
      ]
     },
     "execution_count": 27,
     "metadata": {},
     "output_type": "execute_result"
    }
   ],
   "source": [
    "train_df.describe()"
   ]
  },
  {
   "cell_type": "code",
   "execution_count": 28,
   "metadata": {},
   "outputs": [
    {
     "name": "stdout",
     "output_type": "stream",
     "text": [
      "<class 'pandas.core.frame.DataFrame'>\n",
      "RangeIndex: 100000 entries, 0 to 99999\n",
      "Data columns (total 8 columns):\n",
      " #   Column           Non-Null Count   Dtype \n",
      "---  ------           --------------   ----- \n",
      " 0   ip               100000 non-null  uint32\n",
      " 1   app              100000 non-null  uint16\n",
      " 2   device           100000 non-null  uint16\n",
      " 3   os               100000 non-null  uint16\n",
      " 4   channel          100000 non-null  uint16\n",
      " 5   click_time       100000 non-null  object\n",
      " 6   attributed_time  227 non-null     object\n",
      " 7   is_attributed    100000 non-null  uint8 \n",
      "dtypes: object(2), uint16(4), uint32(1), uint8(1)\n",
      "memory usage: 2.8+ MB\n"
     ]
    }
   ],
   "source": [
    "train_df.info()"
   ]
  },
  {
   "cell_type": "code",
   "execution_count": 29,
   "metadata": {},
   "outputs": [
    {
     "data": {
      "text/html": [
       "<div>\n",
       "<style scoped>\n",
       "    .dataframe tbody tr th:only-of-type {\n",
       "        vertical-align: middle;\n",
       "    }\n",
       "\n",
       "    .dataframe tbody tr th {\n",
       "        vertical-align: top;\n",
       "    }\n",
       "\n",
       "    .dataframe thead th {\n",
       "        text-align: right;\n",
       "    }\n",
       "</style>\n",
       "<table border=\"1\" class=\"dataframe\">\n",
       "  <thead>\n",
       "    <tr style=\"text-align: right;\">\n",
       "      <th></th>\n",
       "      <th>click_id</th>\n",
       "      <th>ip</th>\n",
       "      <th>app</th>\n",
       "      <th>device</th>\n",
       "      <th>os</th>\n",
       "      <th>channel</th>\n",
       "      <th>click_time</th>\n",
       "    </tr>\n",
       "  </thead>\n",
       "  <tbody>\n",
       "    <tr>\n",
       "      <th>0</th>\n",
       "      <td>0</td>\n",
       "      <td>5744</td>\n",
       "      <td>9</td>\n",
       "      <td>1</td>\n",
       "      <td>3</td>\n",
       "      <td>107</td>\n",
       "      <td>2017-11-10 04:00:00</td>\n",
       "    </tr>\n",
       "    <tr>\n",
       "      <th>1</th>\n",
       "      <td>1</td>\n",
       "      <td>119901</td>\n",
       "      <td>9</td>\n",
       "      <td>1</td>\n",
       "      <td>3</td>\n",
       "      <td>466</td>\n",
       "      <td>2017-11-10 04:00:00</td>\n",
       "    </tr>\n",
       "    <tr>\n",
       "      <th>2</th>\n",
       "      <td>2</td>\n",
       "      <td>72287</td>\n",
       "      <td>21</td>\n",
       "      <td>1</td>\n",
       "      <td>19</td>\n",
       "      <td>128</td>\n",
       "      <td>2017-11-10 04:00:00</td>\n",
       "    </tr>\n",
       "    <tr>\n",
       "      <th>3</th>\n",
       "      <td>3</td>\n",
       "      <td>78477</td>\n",
       "      <td>15</td>\n",
       "      <td>1</td>\n",
       "      <td>13</td>\n",
       "      <td>111</td>\n",
       "      <td>2017-11-10 04:00:00</td>\n",
       "    </tr>\n",
       "    <tr>\n",
       "      <th>4</th>\n",
       "      <td>4</td>\n",
       "      <td>123080</td>\n",
       "      <td>12</td>\n",
       "      <td>1</td>\n",
       "      <td>13</td>\n",
       "      <td>328</td>\n",
       "      <td>2017-11-10 04:00:00</td>\n",
       "    </tr>\n",
       "    <tr>\n",
       "      <th>...</th>\n",
       "      <td>...</td>\n",
       "      <td>...</td>\n",
       "      <td>...</td>\n",
       "      <td>...</td>\n",
       "      <td>...</td>\n",
       "      <td>...</td>\n",
       "      <td>...</td>\n",
       "    </tr>\n",
       "    <tr>\n",
       "      <th>18790464</th>\n",
       "      <td>18790464</td>\n",
       "      <td>99442</td>\n",
       "      <td>9</td>\n",
       "      <td>1</td>\n",
       "      <td>13</td>\n",
       "      <td>127</td>\n",
       "      <td>2017-11-10 15:00:00</td>\n",
       "    </tr>\n",
       "    <tr>\n",
       "      <th>18790465</th>\n",
       "      <td>18790465</td>\n",
       "      <td>88046</td>\n",
       "      <td>23</td>\n",
       "      <td>1</td>\n",
       "      <td>37</td>\n",
       "      <td>153</td>\n",
       "      <td>2017-11-10 15:00:00</td>\n",
       "    </tr>\n",
       "    <tr>\n",
       "      <th>18790466</th>\n",
       "      <td>18790467</td>\n",
       "      <td>81398</td>\n",
       "      <td>18</td>\n",
       "      <td>1</td>\n",
       "      <td>17</td>\n",
       "      <td>265</td>\n",
       "      <td>2017-11-10 15:00:00</td>\n",
       "    </tr>\n",
       "    <tr>\n",
       "      <th>18790467</th>\n",
       "      <td>18790466</td>\n",
       "      <td>123236</td>\n",
       "      <td>27</td>\n",
       "      <td>1</td>\n",
       "      <td>13</td>\n",
       "      <td>122</td>\n",
       "      <td>2017-11-10 15:00:00</td>\n",
       "    </tr>\n",
       "    <tr>\n",
       "      <th>18790468</th>\n",
       "      <td>18790468</td>\n",
       "      <td>73516</td>\n",
       "      <td>12</td>\n",
       "      <td>2</td>\n",
       "      <td>27</td>\n",
       "      <td>265</td>\n",
       "      <td>2017-11-10 15:00:00</td>\n",
       "    </tr>\n",
       "  </tbody>\n",
       "</table>\n",
       "<p>18790469 rows × 7 columns</p>\n",
       "</div>"
      ],
      "text/plain": [
       "          click_id      ip  app  device  os  channel           click_time\n",
       "0                0    5744    9       1   3      107  2017-11-10 04:00:00\n",
       "1                1  119901    9       1   3      466  2017-11-10 04:00:00\n",
       "2                2   72287   21       1  19      128  2017-11-10 04:00:00\n",
       "3                3   78477   15       1  13      111  2017-11-10 04:00:00\n",
       "4                4  123080   12       1  13      328  2017-11-10 04:00:00\n",
       "...            ...     ...  ...     ...  ..      ...                  ...\n",
       "18790464  18790464   99442    9       1  13      127  2017-11-10 15:00:00\n",
       "18790465  18790465   88046   23       1  37      153  2017-11-10 15:00:00\n",
       "18790466  18790467   81398   18       1  17      265  2017-11-10 15:00:00\n",
       "18790467  18790466  123236   27       1  13      122  2017-11-10 15:00:00\n",
       "18790468  18790468   73516   12       2  27      265  2017-11-10 15:00:00\n",
       "\n",
       "[18790469 rows x 7 columns]"
      ]
     },
     "execution_count": 29,
     "metadata": {},
     "output_type": "execute_result"
    }
   ],
   "source": [
    "dtypes = {\n",
    "        'ip'            : 'uint32',\n",
    "        'app'           : 'uint16',\n",
    "        'device'        : 'uint16',\n",
    "        'os'            : 'uint16',\n",
    "        'channel'       : 'uint16',\n",
    "        'is_attributed' : 'uint8',\n",
    "        }\n",
    "\n",
    "#test_df = pd.read_csv(\"test_click.csv\", dtype = dtypes)\n",
    "test_df = pd.read_csv(\"test.csv\", dtype = dtypes)\n",
    "test_df"
   ]
  },
  {
   "cell_type": "code",
   "execution_count": 30,
   "metadata": {},
   "outputs": [],
   "source": [
    "# for col in train_df.columns:\n",
    "#     if col not in dtypes:\n",
    "#         if col != 'click_time' :\n",
    "#             test_df[col] = test_df[col].fillna(-1).astype('int16').replace({-1: np.nan})\n"
   ]
  },
  {
   "cell_type": "code",
   "execution_count": 31,
   "metadata": {},
   "outputs": [],
   "source": [
    "# # train = pd.read_csv('small_train_fea106.csv', nrows = 1)\n",
    "# # train\n",
    "# train_df = pd.read_csv(\"train_sample.csv\")"
   ]
  },
  {
   "cell_type": "code",
   "execution_count": 32,
   "metadata": {},
   "outputs": [],
   "source": [
    "# train = pd.read_csv('small_train_fea106.csv')\n",
    "# train"
   ]
  },
  {
   "cell_type": "code",
   "execution_count": 33,
   "metadata": {},
   "outputs": [],
   "source": [
    "# train.info()"
   ]
  },
  {
   "cell_type": "code",
   "execution_count": 34,
   "metadata": {},
   "outputs": [],
   "source": [
    "# uint8_cols = ['is_attributed', 'click_time_hour', 'click_time_minute', 'real_clicks_1hr', 'real_clicks_6hr']\n",
    "# train_df[uint8_cols] = train_df[uint8_cols].astype(np.uint8)\n",
    "\n",
    "# # 나머지 모든 열을 float32로 변환\n",
    "# exclude_cols = uint8_cols + ['click_time']\n",
    "# float32_cols = train_df.columns.difference(exclude_cols)\n",
    "# train_df[float32_cols] = train_df[float32_cols].astype(np.float32)"
   ]
  },
  {
   "cell_type": "code",
   "execution_count": 35,
   "metadata": {},
   "outputs": [
    {
     "name": "stdout",
     "output_type": "stream",
     "text": [
      "<class 'pandas.core.frame.DataFrame'>\n",
      "RangeIndex: 100000 entries, 0 to 99999\n",
      "Data columns (total 8 columns):\n",
      " #   Column           Non-Null Count   Dtype \n",
      "---  ------           --------------   ----- \n",
      " 0   ip               100000 non-null  uint32\n",
      " 1   app              100000 non-null  uint16\n",
      " 2   device           100000 non-null  uint16\n",
      " 3   os               100000 non-null  uint16\n",
      " 4   channel          100000 non-null  uint16\n",
      " 5   click_time       100000 non-null  object\n",
      " 6   attributed_time  227 non-null     object\n",
      " 7   is_attributed    100000 non-null  uint8 \n",
      "dtypes: object(2), uint16(4), uint32(1), uint8(1)\n",
      "memory usage: 2.8+ MB\n"
     ]
    }
   ],
   "source": [
    "train_df.info()"
   ]
  },
  {
   "cell_type": "code",
   "execution_count": 36,
   "metadata": {},
   "outputs": [],
   "source": [
    "# np.sum(train_df['topic_ip+os+_1'] + train['topic_ip+os+_2'] + train['topic_ip+os+_3'] + train['topic_ip+os+_4'] + train['topic_ip+os+_5'])"
   ]
  },
  {
   "cell_type": "code",
   "execution_count": 37,
   "metadata": {},
   "outputs": [],
   "source": [
    "dtypes = {\n",
    "        'ip'            : 'uint32',\n",
    "        'app'           : 'uint16',\n",
    "        'device'        : 'uint16',\n",
    "        'os'            : 'uint16',\n",
    "        'channel'       : 'uint16',\n",
    "        'is_attributed' : 'uint8',\n",
    "        }"
   ]
  },
  {
   "cell_type": "code",
   "execution_count": 38,
   "metadata": {},
   "outputs": [],
   "source": [
    "\n",
    "#train_df = pd.read_csv(\"small_train_final.csv\")\n",
    "#test_df = pd.read_csv(\"test_final.csv\")\n",
    "\n",
    "#train_df = pd.read_csv(\"full_train_final_only_click.csv\")\n",
    "#test_df = pd.read_csv(\"full_test_final_only_click.csv\")\n",
    "\n",
    "#train_df = pd.read_csv(\"train.csv\")"
   ]
  },
  {
   "cell_type": "code",
   "execution_count": 39,
   "metadata": {},
   "outputs": [
    {
     "name": "stdout",
     "output_type": "stream",
     "text": [
      "<class 'pandas.core.frame.DataFrame'>\n",
      "RangeIndex: 18790469 entries, 0 to 18790468\n",
      "Data columns (total 7 columns):\n",
      " #   Column      Dtype \n",
      "---  ------      ----- \n",
      " 0   click_id    int64 \n",
      " 1   ip          uint32\n",
      " 2   app         uint16\n",
      " 3   device      uint16\n",
      " 4   os          uint16\n",
      " 5   channel     uint16\n",
      " 6   click_time  object\n",
      "dtypes: int64(1), object(1), uint16(4), uint32(1)\n",
      "memory usage: 501.8+ MB\n"
     ]
    }
   ],
   "source": [
    "test_df.info()"
   ]
  },
  {
   "cell_type": "code",
   "execution_count": 40,
   "metadata": {},
   "outputs": [
    {
     "data": {
      "text/plain": [
       "(18790469, 7)"
      ]
     },
     "execution_count": 40,
     "metadata": {},
     "output_type": "execute_result"
    }
   ],
   "source": [
    "test_df.shape"
   ]
  },
  {
   "cell_type": "code",
   "execution_count": 41,
   "metadata": {},
   "outputs": [],
   "source": [
    "# st = 17"
   ]
  },
  {
   "cell_type": "code",
   "execution_count": 42,
   "metadata": {},
   "outputs": [],
   "source": [
    "# dtypes_test = {\n",
    "#         'ip'            : 'uint32',\n",
    "#         'app'           : 'uint16',\n",
    "#         'device'        : 'uint16',\n",
    "#         'os'            : 'uint16',\n",
    "#         'channel'       : 'uint16',\n",
    "#         }\n",
    "\n",
    "# columns_test = ['ip', 'app', 'device', 'os', 'channel', 'click_time']\n",
    "\n",
    "\n",
    "# test_df = pd.read_csv(\"test.csv\", usecols=columns_test, dtype=dtypes_test)\n",
    "\n",
    "# test_df.info()"
   ]
  },
  {
   "cell_type": "code",
   "execution_count": 43,
   "metadata": {},
   "outputs": [],
   "source": [
    "# dtypes = {\n",
    "#     'ip'            : 'uint32',\n",
    "#     'app'           : 'uint16',\n",
    "#     'device'        : 'uint16',\n",
    "#     'os'            : 'uint16',\n",
    "#     'channel'       : 'uint16',\n",
    "#     'is_attributed' : 'uint8',\n",
    "# }\n",
    "\n",
    "# file_name = \"test_small_20.csv\"\n",
    "# columns = ['ip', 'app', 'device', 'os', 'channel', 'click_time', 'is_attributed']\n",
    "\n",
    "# # Assuming 'prev_click_time_diff_' columns are generated or known\n",
    "# # For example, let's assume we have prev_click_time_diff_1, prev_click_time_diff_2\n",
    "\n",
    "# # Read the first row of the CSV to get the existing columns\n",
    "# sample_df = pd.read_csv(file_name, nrows=1)\n",
    "# existing_columns = sample_df.columns.tolist()\n",
    "\n",
    "# # Filter the columns and dtypes based on existing columns\n",
    "# valid_columns = [col for col in columns if col in existing_columns]\n",
    "# valid_prev_click_columns = [col for col in topic_columns if col in existing_columns]\n",
    "# valid_prev_click_columns += [col for col in prev_click_columns if col in existing_columns]\n",
    "\n",
    "# # Update the columns and dtypes\n",
    "# valid_columns += valid_prev_click_columns\n",
    "\n",
    "# # Include 'prev_click_time_diff_' columns as uint32\n",
    "# #for col in valid_prev_click_columns:\n",
    "# #    dtypes[col] = 'uint32'\n",
    "\n",
    "# # Create valid_dtypes for columns that exist in the CSV\n",
    "# #valid_dtypes = {col: dtype for col, dtype in dtypes.items() if col in valid_columns}\n",
    "\n",
    "# # Read the CSV file with the updated dtypes and columns\n",
    "# test_df = pd.read_csv(file_name, usecols=valid_columns, dtype=dtypes)\n",
    "\n",
    "# #st = len(valid_prev_click_columns)\n",
    "\n",
    "# # Display the DataFrame info\n",
    "# test_df.info()"
   ]
  },
  {
   "cell_type": "code",
   "execution_count": 44,
   "metadata": {
    "executionInfo": {
     "elapsed": 2015,
     "status": "ok",
     "timestamp": 1716947230151,
     "user": {
      "displayName": "Lee Minjik",
      "userId": "03992121075759719709"
     },
     "user_tz": -540
    },
    "id": "iBvpuUgnS8j3"
   },
   "outputs": [],
   "source": [
    "submission_df = pd.read_csv(\"sample_submission.csv\")"
   ]
  },
  {
   "cell_type": "code",
   "execution_count": 45,
   "metadata": {},
   "outputs": [],
   "source": [
    "# import pandas as pd\n",
    "\n",
    "# chunk_size = 10**6  # 1백만 행씩 읽기 (적절한 크기로 조정)\n",
    "\n",
    "# file_path = 'train.csv'\n",
    "# train_df = pd.DataFrame()  # 빈 DataFrame 생성\n",
    "\n",
    "# chunks = pd.read_csv(file_path, chunksize=chunk_size)\n",
    "\n",
    "# for chunk in chunks:\n",
    "#     # 각 청크를 train_df에 추가합니다.\n",
    "#     train_df = pd.concat([train_df, chunk], ignore_index=True)\n",
    "\n",
    "# # 모든 청크를 처리한 후에 train_df가 완성됩니다.\n",
    "# print(\"완료된 DataFrame 크기:\", train_df.shape)\n"
   ]
  },
  {
   "cell_type": "markdown",
   "metadata": {
    "id": "Dnnri-1e__Zh"
   },
   "source": [
    "## Setting"
   ]
  },
  {
   "cell_type": "code",
   "execution_count": 285,
   "metadata": {
    "executionInfo": {
     "elapsed": 269,
     "status": "ok",
     "timestamp": 1716950893551,
     "user": {
      "displayName": "Lee Minjik",
      "userId": "03992121075759719709"
     },
     "user_tz": -540
    },
    "id": "o3WshrQgkTp1"
   },
   "outputs": [],
   "source": [
    "Objective = 'binary'        # regression, binary, multi\n",
    "Eval_Metric = 'roc_auc'   # mae, rmse, rmsle, acc, f1, roc_auc, log_loss\n",
    "N_Class = 2 ## !!!! 주의\n",
    "\n",
    "Target = 'is_attributed'\n",
    "cat_fts = []\n",
    "\n",
    "EDA_Mode = 'OFF' # OFF, ON\n",
    "\n",
    "LGBM_Mode = 'OFF'           # OFF, ON, TUNING\n",
    "LGBM_learning_rate = 0.1   # LGBM default: 0.1\n",
    "LGBM_n_estimators = 1000   # LGBM default: 100\n",
    "LGBM_ESR = 100\n",
    "LGBM_Tuning_Tries = 10\n",
    "LGBM_model = LGBMRegressor if Objective=='regression' else LGBMClassifier\n",
    "\n",
    "XGB_Mode = 'ON'\n",
    "XGB_learning_rate = 0.1   # XGB default: 0.3\n",
    "XGB_n_estimators = 5000   # XGB default: 100\n",
    "XGB_ESR = 100\n",
    "XGB_tree_method = 'exact'    # auto, exact, approx, hist\n",
    "XGB_Tuning_Tries = 10\n",
    "XGB_model = XGBRegressor if Objective=='regression' else XGBClassifier\n",
    "\n",
    "CB_Mode = 'OFF'\n",
    "CB_n_estimators = 1000   # CB default: 1000\n",
    "CB_ESR = 100\n",
    "CB_Tuning_Tries = 10\n",
    "CB_model = CatBoostRegressor if Objective=='regression' else CatBoostClassifier\n",
    "\n",
    "RF_Mode = 'OFF'\n",
    "RF_Tuning_Tries = 10\n",
    "RF_model = RandomForestRegressor if Objective=='regression' else RandomForestClassifier\n",
    "\n",
    "RBWA_Mode = 'OFF'           # OFF, ON, TUNING\n",
    "\n",
    "RNN_Mode = 'OFF' # OFF, ON, TUNING\n",
    "\n",
    "Ensemble_Mode = 'OFF'\n",
    "Stacking_Mode = 'OFF'\n",
    "\n",
    "down_samp_Mode = 'OFF' # OFF, ON\n",
    "LDA_Mode = 'OFF' # OFF, ON\n",
    "\n",
    "add_click_train = 'OFF' # OFF, ON\n",
    "add_click_test = 'OFF' # OFF, ON\n",
    "\n",
    "clicks_hr_Mode = 'ON' # OFF, ON"
   ]
  },
  {
   "cell_type": "markdown",
   "metadata": {
    "id": "KYQF3susg_Ek"
   },
   "source": [
    "## Data Overview"
   ]
  },
  {
   "cell_type": "code",
   "execution_count": 47,
   "metadata": {},
   "outputs": [],
   "source": [
    "# train = train_df.copy()\n",
    "# train"
   ]
  },
  {
   "cell_type": "code",
   "execution_count": 48,
   "metadata": {
    "colab": {
     "base_uri": "https://localhost:8080/"
    },
    "executionInfo": {
     "elapsed": 5,
     "status": "ok",
     "timestamp": 1716950893987,
     "user": {
      "displayName": "Lee Minjik",
      "userId": "03992121075759719709"
     },
     "user_tz": -540
    },
    "id": "fejF2uPLvCbF",
    "outputId": "5721e7eb-ea0a-45af-c8c6-ebfd17806c6c"
   },
   "outputs": [],
   "source": [
    "train = train_df.copy()\n",
    "test = test_df.copy()\n",
    "submission = submission_df.copy()\n",
    "\n",
    "#train.shape, test.shape, submission.shape"
   ]
  },
  {
   "cell_type": "code",
   "execution_count": 49,
   "metadata": {},
   "outputs": [],
   "source": [
    "# selected_columns = [col for col in train.columns if col.startswith('prev_click_time_diff') or col.startswith('next_click_time_diff')]\n",
    "# selected_columns"
   ]
  },
  {
   "cell_type": "code",
   "execution_count": 50,
   "metadata": {},
   "outputs": [],
   "source": [
    "# len(selected_columns)"
   ]
  },
  {
   "cell_type": "code",
   "execution_count": 51,
   "metadata": {},
   "outputs": [],
   "source": [
    "# train = train.drop(selected_columns, axis = 1)\n",
    "# train"
   ]
  },
  {
   "cell_type": "code",
   "execution_count": 52,
   "metadata": {},
   "outputs": [],
   "source": [
    "# test = test.drop(selected_columns, axis = 1)\n",
    "# test"
   ]
  },
  {
   "cell_type": "code",
   "execution_count": 53,
   "metadata": {},
   "outputs": [
    {
     "data": {
      "text/html": [
       "<div>\n",
       "<style scoped>\n",
       "    .dataframe tbody tr th:only-of-type {\n",
       "        vertical-align: middle;\n",
       "    }\n",
       "\n",
       "    .dataframe tbody tr th {\n",
       "        vertical-align: top;\n",
       "    }\n",
       "\n",
       "    .dataframe thead th {\n",
       "        text-align: right;\n",
       "    }\n",
       "</style>\n",
       "<table border=\"1\" class=\"dataframe\">\n",
       "  <thead>\n",
       "    <tr style=\"text-align: right;\">\n",
       "      <th></th>\n",
       "      <th>ip</th>\n",
       "      <th>app</th>\n",
       "      <th>device</th>\n",
       "      <th>os</th>\n",
       "      <th>channel</th>\n",
       "      <th>click_time</th>\n",
       "      <th>attributed_time</th>\n",
       "      <th>is_attributed</th>\n",
       "    </tr>\n",
       "  </thead>\n",
       "  <tbody>\n",
       "    <tr>\n",
       "      <th>0</th>\n",
       "      <td>87540</td>\n",
       "      <td>12</td>\n",
       "      <td>1</td>\n",
       "      <td>13</td>\n",
       "      <td>497</td>\n",
       "      <td>2017-11-07 09:30:38</td>\n",
       "      <td>NaN</td>\n",
       "      <td>0</td>\n",
       "    </tr>\n",
       "    <tr>\n",
       "      <th>1</th>\n",
       "      <td>105560</td>\n",
       "      <td>25</td>\n",
       "      <td>1</td>\n",
       "      <td>17</td>\n",
       "      <td>259</td>\n",
       "      <td>2017-11-07 13:40:27</td>\n",
       "      <td>NaN</td>\n",
       "      <td>0</td>\n",
       "    </tr>\n",
       "    <tr>\n",
       "      <th>2</th>\n",
       "      <td>101424</td>\n",
       "      <td>12</td>\n",
       "      <td>1</td>\n",
       "      <td>19</td>\n",
       "      <td>212</td>\n",
       "      <td>2017-11-07 18:05:24</td>\n",
       "      <td>NaN</td>\n",
       "      <td>0</td>\n",
       "    </tr>\n",
       "    <tr>\n",
       "      <th>3</th>\n",
       "      <td>94584</td>\n",
       "      <td>13</td>\n",
       "      <td>1</td>\n",
       "      <td>13</td>\n",
       "      <td>477</td>\n",
       "      <td>2017-11-07 04:58:08</td>\n",
       "      <td>NaN</td>\n",
       "      <td>0</td>\n",
       "    </tr>\n",
       "    <tr>\n",
       "      <th>4</th>\n",
       "      <td>68413</td>\n",
       "      <td>12</td>\n",
       "      <td>1</td>\n",
       "      <td>1</td>\n",
       "      <td>178</td>\n",
       "      <td>2017-11-09 09:00:09</td>\n",
       "      <td>NaN</td>\n",
       "      <td>0</td>\n",
       "    </tr>\n",
       "    <tr>\n",
       "      <th>...</th>\n",
       "      <td>...</td>\n",
       "      <td>...</td>\n",
       "      <td>...</td>\n",
       "      <td>...</td>\n",
       "      <td>...</td>\n",
       "      <td>...</td>\n",
       "      <td>...</td>\n",
       "      <td>...</td>\n",
       "    </tr>\n",
       "    <tr>\n",
       "      <th>99995</th>\n",
       "      <td>124883</td>\n",
       "      <td>11</td>\n",
       "      <td>1</td>\n",
       "      <td>19</td>\n",
       "      <td>122</td>\n",
       "      <td>2017-11-09 13:25:41</td>\n",
       "      <td>NaN</td>\n",
       "      <td>0</td>\n",
       "    </tr>\n",
       "    <tr>\n",
       "      <th>99996</th>\n",
       "      <td>85150</td>\n",
       "      <td>9</td>\n",
       "      <td>1</td>\n",
       "      <td>13</td>\n",
       "      <td>244</td>\n",
       "      <td>2017-11-07 11:25:43</td>\n",
       "      <td>NaN</td>\n",
       "      <td>0</td>\n",
       "    </tr>\n",
       "    <tr>\n",
       "      <th>99997</th>\n",
       "      <td>18839</td>\n",
       "      <td>3</td>\n",
       "      <td>1</td>\n",
       "      <td>13</td>\n",
       "      <td>19</td>\n",
       "      <td>2017-11-08 11:38:42</td>\n",
       "      <td>NaN</td>\n",
       "      <td>0</td>\n",
       "    </tr>\n",
       "    <tr>\n",
       "      <th>99998</th>\n",
       "      <td>114276</td>\n",
       "      <td>15</td>\n",
       "      <td>1</td>\n",
       "      <td>12</td>\n",
       "      <td>245</td>\n",
       "      <td>2017-11-08 17:55:21</td>\n",
       "      <td>NaN</td>\n",
       "      <td>0</td>\n",
       "    </tr>\n",
       "    <tr>\n",
       "      <th>99999</th>\n",
       "      <td>119349</td>\n",
       "      <td>14</td>\n",
       "      <td>1</td>\n",
       "      <td>15</td>\n",
       "      <td>401</td>\n",
       "      <td>2017-11-07 14:32:27</td>\n",
       "      <td>NaN</td>\n",
       "      <td>0</td>\n",
       "    </tr>\n",
       "  </tbody>\n",
       "</table>\n",
       "<p>100000 rows × 8 columns</p>\n",
       "</div>"
      ],
      "text/plain": [
       "           ip  app  device  os  channel           click_time attributed_time  \\\n",
       "0       87540   12       1  13      497  2017-11-07 09:30:38             NaN   \n",
       "1      105560   25       1  17      259  2017-11-07 13:40:27             NaN   \n",
       "2      101424   12       1  19      212  2017-11-07 18:05:24             NaN   \n",
       "3       94584   13       1  13      477  2017-11-07 04:58:08             NaN   \n",
       "4       68413   12       1   1      178  2017-11-09 09:00:09             NaN   \n",
       "...       ...  ...     ...  ..      ...                  ...             ...   \n",
       "99995  124883   11       1  19      122  2017-11-09 13:25:41             NaN   \n",
       "99996   85150    9       1  13      244  2017-11-07 11:25:43             NaN   \n",
       "99997   18839    3       1  13       19  2017-11-08 11:38:42             NaN   \n",
       "99998  114276   15       1  12      245  2017-11-08 17:55:21             NaN   \n",
       "99999  119349   14       1  15      401  2017-11-07 14:32:27             NaN   \n",
       "\n",
       "       is_attributed  \n",
       "0                  0  \n",
       "1                  0  \n",
       "2                  0  \n",
       "3                  0  \n",
       "4                  0  \n",
       "...              ...  \n",
       "99995              0  \n",
       "99996              0  \n",
       "99997              0  \n",
       "99998              0  \n",
       "99999              0  \n",
       "\n",
       "[100000 rows x 8 columns]"
      ]
     },
     "execution_count": 53,
     "metadata": {},
     "output_type": "execute_result"
    }
   ],
   "source": [
    "train"
   ]
  },
  {
   "cell_type": "code",
   "execution_count": 54,
   "metadata": {},
   "outputs": [],
   "source": [
    "# dtypes = {\n",
    "#     'ip'            : 'uint32',\n",
    "#     'app'           : 'uint16',\n",
    "#     'device'        : 'uint16',\n",
    "#     'os'            : 'uint16',\n",
    "#     'channel'       : 'uint16',\n",
    "#     'is_attributed' : 'uint8',\n",
    "# }\n",
    "\n",
    "# train_full = pd.read_csv(\"train_full_click.csv\", dtype=dtypes)\n",
    "\n",
    "# train_full.head()"
   ]
  },
  {
   "cell_type": "code",
   "execution_count": 55,
   "metadata": {},
   "outputs": [],
   "source": [
    "# %%time\n",
    "# dtypes = {\n",
    "#     'ip'            : 'uint32',\n",
    "#     'app'           : 'uint16',\n",
    "#     'device'        : 'uint16',\n",
    "#     'os'            : 'uint16',\n",
    "#     'channel'       : 'uint16',\n",
    "#     'is_attributed' : 'uint8',\n",
    "# }\n",
    "\n",
    "# test_full = pd.read_csv(\"full_test_final_only_click.csv\", dtype=dtypes)\n",
    "\n",
    "# test_full.head()"
   ]
  },
  {
   "cell_type": "code",
   "execution_count": 56,
   "metadata": {},
   "outputs": [],
   "source": [
    "# t2 = set(train_full.columns)\n",
    "# t2"
   ]
  },
  {
   "cell_type": "code",
   "execution_count": 57,
   "metadata": {},
   "outputs": [],
   "source": [
    "# t1 = set(train.columns)\n",
    "# t1"
   ]
  },
  {
   "cell_type": "code",
   "execution_count": 58,
   "metadata": {},
   "outputs": [],
   "source": [
    "# common_columns = t1 & t2\n",
    "# common_columns = list(common_columns)\n",
    "# common_columns"
   ]
  },
  {
   "cell_type": "code",
   "execution_count": 59,
   "metadata": {},
   "outputs": [],
   "source": [
    "# train_full.shape"
   ]
  },
  {
   "cell_type": "code",
   "execution_count": null,
   "metadata": {},
   "outputs": [],
   "source": []
  },
  {
   "cell_type": "code",
   "execution_count": 60,
   "metadata": {},
   "outputs": [
    {
     "data": {
      "text/html": [
       "<div>\n",
       "<style scoped>\n",
       "    .dataframe tbody tr th:only-of-type {\n",
       "        vertical-align: middle;\n",
       "    }\n",
       "\n",
       "    .dataframe tbody tr th {\n",
       "        vertical-align: top;\n",
       "    }\n",
       "\n",
       "    .dataframe thead th {\n",
       "        text-align: right;\n",
       "    }\n",
       "</style>\n",
       "<table border=\"1\" class=\"dataframe\">\n",
       "  <thead>\n",
       "    <tr style=\"text-align: right;\">\n",
       "      <th></th>\n",
       "      <th>ip</th>\n",
       "      <th>app</th>\n",
       "      <th>device</th>\n",
       "      <th>os</th>\n",
       "      <th>channel</th>\n",
       "      <th>click_time</th>\n",
       "      <th>attributed_time</th>\n",
       "      <th>is_attributed</th>\n",
       "    </tr>\n",
       "  </thead>\n",
       "  <tbody>\n",
       "    <tr>\n",
       "      <th>0</th>\n",
       "      <td>87540</td>\n",
       "      <td>12</td>\n",
       "      <td>1</td>\n",
       "      <td>13</td>\n",
       "      <td>497</td>\n",
       "      <td>2017-11-07 09:30:38</td>\n",
       "      <td>NaN</td>\n",
       "      <td>0</td>\n",
       "    </tr>\n",
       "    <tr>\n",
       "      <th>1</th>\n",
       "      <td>105560</td>\n",
       "      <td>25</td>\n",
       "      <td>1</td>\n",
       "      <td>17</td>\n",
       "      <td>259</td>\n",
       "      <td>2017-11-07 13:40:27</td>\n",
       "      <td>NaN</td>\n",
       "      <td>0</td>\n",
       "    </tr>\n",
       "    <tr>\n",
       "      <th>2</th>\n",
       "      <td>101424</td>\n",
       "      <td>12</td>\n",
       "      <td>1</td>\n",
       "      <td>19</td>\n",
       "      <td>212</td>\n",
       "      <td>2017-11-07 18:05:24</td>\n",
       "      <td>NaN</td>\n",
       "      <td>0</td>\n",
       "    </tr>\n",
       "    <tr>\n",
       "      <th>3</th>\n",
       "      <td>94584</td>\n",
       "      <td>13</td>\n",
       "      <td>1</td>\n",
       "      <td>13</td>\n",
       "      <td>477</td>\n",
       "      <td>2017-11-07 04:58:08</td>\n",
       "      <td>NaN</td>\n",
       "      <td>0</td>\n",
       "    </tr>\n",
       "    <tr>\n",
       "      <th>4</th>\n",
       "      <td>68413</td>\n",
       "      <td>12</td>\n",
       "      <td>1</td>\n",
       "      <td>1</td>\n",
       "      <td>178</td>\n",
       "      <td>2017-11-09 09:00:09</td>\n",
       "      <td>NaN</td>\n",
       "      <td>0</td>\n",
       "    </tr>\n",
       "  </tbody>\n",
       "</table>\n",
       "</div>"
      ],
      "text/plain": [
       "       ip  app  device  os  channel           click_time attributed_time  \\\n",
       "0   87540   12       1  13      497  2017-11-07 09:30:38             NaN   \n",
       "1  105560   25       1  17      259  2017-11-07 13:40:27             NaN   \n",
       "2  101424   12       1  19      212  2017-11-07 18:05:24             NaN   \n",
       "3   94584   13       1  13      477  2017-11-07 04:58:08             NaN   \n",
       "4   68413   12       1   1      178  2017-11-09 09:00:09             NaN   \n",
       "\n",
       "   is_attributed  \n",
       "0              0  \n",
       "1              0  \n",
       "2              0  \n",
       "3              0  \n",
       "4              0  "
      ]
     },
     "execution_count": 60,
     "metadata": {},
     "output_type": "execute_result"
    }
   ],
   "source": [
    "train.head()"
   ]
  },
  {
   "cell_type": "code",
   "execution_count": 61,
   "metadata": {},
   "outputs": [
    {
     "data": {
      "text/plain": [
       "7"
      ]
     },
     "execution_count": 61,
     "metadata": {},
     "output_type": "execute_result"
    }
   ],
   "source": [
    "len(test.columns)"
   ]
  },
  {
   "cell_type": "code",
   "execution_count": 62,
   "metadata": {
    "colab": {
     "base_uri": "https://localhost:8080/",
     "height": 382
    },
    "executionInfo": {
     "elapsed": 513,
     "status": "ok",
     "timestamp": 1716950894497,
     "user": {
      "displayName": "Lee Minjik",
      "userId": "03992121075759719709"
     },
     "user_tz": -540
    },
    "id": "HAGFXT2uQn4K",
    "outputId": "c1427cab-ab1b-435d-e5b2-94085fd69c1b"
   },
   "outputs": [],
   "source": [
    "# train.head()"
   ]
  },
  {
   "cell_type": "code",
   "execution_count": 63,
   "metadata": {
    "colab": {
     "base_uri": "https://localhost:8080/",
     "height": 417
    },
    "executionInfo": {
     "elapsed": 34,
     "status": "ok",
     "timestamp": 1716950894498,
     "user": {
      "displayName": "Lee Minjik",
      "userId": "03992121075759719709"
     },
     "user_tz": -540
    },
    "id": "2Xeq7L9VQtaJ",
    "outputId": "9d387c6c-9bea-4742-a776-fe8f129b8c37"
   },
   "outputs": [],
   "source": [
    "# test.head()"
   ]
  },
  {
   "cell_type": "code",
   "execution_count": 64,
   "metadata": {
    "colab": {
     "base_uri": "https://localhost:8080/",
     "height": 206
    },
    "executionInfo": {
     "elapsed": 32,
     "status": "ok",
     "timestamp": 1716950894499,
     "user": {
      "displayName": "Lee Minjik",
      "userId": "03992121075759719709"
     },
     "user_tz": -540
    },
    "id": "YTbUG_ldOBrx",
    "outputId": "15812e52-9fec-4364-e21a-c4ef5b8165c0"
   },
   "outputs": [],
   "source": [
    "# submission.head()"
   ]
  },
  {
   "cell_type": "code",
   "execution_count": 65,
   "metadata": {
    "colab": {
     "base_uri": "https://localhost:8080/"
    },
    "executionInfo": {
     "elapsed": 31,
     "status": "ok",
     "timestamp": 1716950894500,
     "user": {
      "displayName": "Lee Minjik",
      "userId": "03992121075759719709"
     },
     "user_tz": -540
    },
    "id": "W4R7a1jzRwqK",
    "outputId": "05554684-c8ee-48ab-944e-653fcfd6dfd3"
   },
   "outputs": [],
   "source": [
    "# train.info()"
   ]
  },
  {
   "cell_type": "code",
   "execution_count": 66,
   "metadata": {
    "colab": {
     "base_uri": "https://localhost:8080/"
    },
    "executionInfo": {
     "elapsed": 28,
     "status": "ok",
     "timestamp": 1716950894501,
     "user": {
      "displayName": "Lee Minjik",
      "userId": "03992121075759719709"
     },
     "user_tz": -540
    },
    "id": "ynlUT51DgtQm",
    "outputId": "db3a7b5b-b3ae-4cda-b334-125639e24dda"
   },
   "outputs": [],
   "source": [
    "# test.isna().sum()"
   ]
  },
  {
   "cell_type": "code",
   "execution_count": 67,
   "metadata": {
    "colab": {
     "base_uri": "https://localhost:8080/",
     "height": 426
    },
    "executionInfo": {
     "elapsed": 639,
     "status": "ok",
     "timestamp": 1716950895117,
     "user": {
      "displayName": "Lee Minjik",
      "userId": "03992121075759719709"
     },
     "user_tz": -540
    },
    "id": "IzPuYP2ORzU5",
    "outputId": "320b7cf3-7045-457d-b08a-f108ada8e71b"
   },
   "outputs": [],
   "source": [
    "# train.describe().T"
   ]
  },
  {
   "cell_type": "code",
   "execution_count": 68,
   "metadata": {
    "colab": {
     "base_uri": "https://localhost:8080/",
     "height": 300
    },
    "executionInfo": {
     "elapsed": 22,
     "status": "ok",
     "timestamp": 1716950895119,
     "user": {
      "displayName": "Lee Minjik",
      "userId": "03992121075759719709"
     },
     "user_tz": -540
    },
    "id": "dKppRn8NR1xN",
    "outputId": "3809c6da-4743-425e-9534-90455445ea6f"
   },
   "outputs": [],
   "source": [
    "# train.describe(include='object').T"
   ]
  },
  {
   "cell_type": "code",
   "execution_count": 69,
   "metadata": {},
   "outputs": [
    {
     "data": {
      "text/plain": [
       "Index(['ip', 'app', 'device', 'os', 'channel', 'click_time', 'attributed_time',\n",
       "       'is_attributed'],\n",
       "      dtype='object')"
      ]
     },
     "execution_count": 69,
     "metadata": {},
     "output_type": "execute_result"
    }
   ],
   "source": [
    "train.columns"
   ]
  },
  {
   "cell_type": "markdown",
   "metadata": {},
   "source": [
    "## click time"
   ]
  },
  {
   "cell_type": "code",
   "execution_count": 70,
   "metadata": {},
   "outputs": [],
   "source": [
    "# train['click_time'] = pd.to_datetime(train['click_time'])\n",
    "\n",
    "# # 년도, 시간, 초로 쪼개서 새로운 열에 저장\n",
    "\n",
    "# train['click_time_hour'] = train['click_time'].dt.hour\n",
    "# train['click_time_minute'] = train['click_time'].dt.minute\n",
    "# #train['click_time_second'] = train['click_time'].dt.second\n",
    "\n",
    "# train['click_time_hour'] = train['click_time_hour'].astype('uint8')\n",
    "# train['click_time_minute'] = train['click_time_minute'].astype('uint8')\n",
    "# #train['click_time_second'] = train['click_time_second'].astype('uint8')\n",
    "\n",
    "# if EDA_Mode == 'ON' :\n",
    "#     train.head()"
   ]
  },
  {
   "cell_type": "code",
   "execution_count": 71,
   "metadata": {},
   "outputs": [
    {
     "data": {
      "text/plain": [
       "Index(['click_id', 'ip', 'app', 'device', 'os', 'channel', 'click_time'], dtype='object')"
      ]
     },
     "execution_count": 71,
     "metadata": {},
     "output_type": "execute_result"
    }
   ],
   "source": [
    "test.columns"
   ]
  },
  {
   "cell_type": "code",
   "execution_count": 72,
   "metadata": {},
   "outputs": [],
   "source": [
    "# test['click_time'] = pd.to_datetime(test['click_time'])\n",
    "\n",
    "# # 년도, 시간, 초로 쪼개서 새로운 열에 저장\n",
    "\n",
    "# test['click_time_hour'] = test['click_time'].dt.hour\n",
    "# test['click_time_minute'] = test['click_time'].dt.minute\n",
    "# #test['click_time_second'] = test['click_time'].dt.second\n",
    "\n",
    "# test['click_time_hour'] = test['click_time_hour'].astype('uint8')\n",
    "# test['click_time_minute'] = test['click_time_minute'].astype('uint8')\n",
    "# #test['click_time_second'] = test['click_time_second'].astype('uint8')\n",
    "\n",
    "# if EDA_Mode == 'ON' :\n",
    "#     test.head()\n",
    "\n",
    "# is_sorted = test['click_time'].is_monotonic_increasing\n",
    "# is_sorted"
   ]
  },
  {
   "cell_type": "markdown",
   "metadata": {},
   "source": [
    "## attributed_time"
   ]
  },
  {
   "cell_type": "code",
   "execution_count": 73,
   "metadata": {},
   "outputs": [],
   "source": [
    "# if EDA_Mode == 'ON' :\n",
    "#     df = pd.to_datetime(train['attributed_time'], errors='coerce')\n",
    "    \n",
    "#     # 최솟값과 최댓값 찾기\n",
    "#     min_time = df.min()\n",
    "#     max_time = df.max()\n",
    "#     print(min_time, max_time)"
   ]
  },
  {
   "cell_type": "code",
   "execution_count": 74,
   "metadata": {},
   "outputs": [],
   "source": [
    "# train['attributed_time'] = pd.to_datetime(train['attributed_time'])\n",
    "\n",
    "# # 년도, 시간, 초로 쪼개서 새로운 열에 저장\n",
    "# train['attributed_time_year'] = train['attributed_time'].dt.year\n",
    "# train['attributed_time_month'] = train['attributed_time'].dt.month\n",
    "# train['attributed_time_day'] = train['attributed_time'].dt.day\n",
    "\n",
    "# train['attributed_time_hour'] = train['attributed_time'].dt.hour\n",
    "# train['attributed_time_minute'] = train['attributed_time'].dt.minute\n",
    "# train['attributed_time_second'] = train['attributed_time'].dt.second\n",
    "\n",
    "# if EDA_Mode == 'ON' :\n",
    "#     train.head()"
   ]
  },
  {
   "cell_type": "code",
   "execution_count": 75,
   "metadata": {},
   "outputs": [],
   "source": [
    "# filtered_data = train[train['attributed_time'].notna()]\n",
    "\n",
    "# # Calculate the difference in time (in seconds)\n",
    "# train['time_diff'] = (filtered_data['attributed_time'] - filtered_data['click_time']).dt.total_seconds() / 3600\n",
    "\n",
    "# if EDA_Mode == 'ON' :\n",
    "#     # Plot the distribution using Plotly\n",
    "#     fig = px.histogram(train, x='time_diff', nbins=50, title='Distribution of Attributed Time - Click Time')\n",
    "#     fig.update_layout(xaxis_title='Time Difference (hours)', yaxis_title='Count')\n",
    "#     fig.show()"
   ]
  },
  {
   "cell_type": "markdown",
   "metadata": {
    "id": "oHmQqYh9icAG"
   },
   "source": [
    "## Corr. Matrix"
   ]
  },
  {
   "cell_type": "code",
   "execution_count": 76,
   "metadata": {
    "colab": {
     "base_uri": "https://localhost:8080/",
     "height": 1000
    },
    "executionInfo": {
     "elapsed": 1012,
     "status": "ok",
     "timestamp": 1716950896114,
     "user": {
      "displayName": "Lee Minjik",
      "userId": "03992121075759719709"
     },
     "user_tz": -540
    },
    "id": "QEyshoxH8rLT",
    "outputId": "ba69a22b-8b04-44f4-f786-271f2c850fdb"
   },
   "outputs": [],
   "source": [
    "def corr_matrix(df, ft, count):\n",
    "    corr = df.corr()\n",
    "    top_corr = abs(corr[ft]).sort_values(ascending=False).iloc[:count]\n",
    "\n",
    "    sz = min(15, count)\n",
    "    plt.figure(figsize=(sz, sz-3))\n",
    "    sns.heatmap(train[top_corr.index].corr(), vmax=1, vmin=-1, center=0, annot=True, cmap='coolwarm')\n",
    "    plt.title('Correlation Matrix')\n",
    "    plt.show()\n",
    "\n",
    "if EDA_Mode == 'ON' :\n",
    "    corr_matrix(train, Target, 15)"
   ]
  },
  {
   "cell_type": "code",
   "execution_count": 77,
   "metadata": {
    "colab": {
     "base_uri": "https://localhost:8080/"
    },
    "executionInfo": {
     "elapsed": 52,
     "status": "ok",
     "timestamp": 1716950896114,
     "user": {
      "displayName": "Lee Minjik",
      "userId": "03992121075759719709"
     },
     "user_tz": -540
    },
    "id": "CfGoKK5XWPZy",
    "outputId": "c6dff012-5c90-4a47-f913-fcb2c22de646"
   },
   "outputs": [],
   "source": [
    "def corr_top(count):\n",
    "    corr = train.corr().replace(1.0, 0)\n",
    "    top = abs(corr).unstack().sort_values(ascending=False).drop_duplicates()[:count]\n",
    "\n",
    "    print(f\"[Correlation Top {count}]\")\n",
    "    for index, value in top.items():\n",
    "        value = corr.loc[index[0], index[1]]\n",
    "        print(f\"{index[0]:<15} {index[1]:<15} {value:>10.3f}\")\n",
    "\n",
    "if EDA_Mode == 'ON' :\n",
    "    corr_top(10)"
   ]
  },
  {
   "cell_type": "code",
   "execution_count": 78,
   "metadata": {
    "colab": {
     "base_uri": "https://localhost:8080/",
     "height": 542
    },
    "executionInfo": {
     "elapsed": 47,
     "status": "ok",
     "timestamp": 1716950896116,
     "user": {
      "displayName": "Lee Minjik",
      "userId": "03992121075759719709"
     },
     "user_tz": -540
    },
    "id": "uAJwVwuVBfPw",
    "outputId": "78171636-a0d8-4892-b84b-462a6f07cf75"
   },
   "outputs": [],
   "source": [
    "def corr_ft(df, ft, count):\n",
    "    corr = df.corr()[ft].reset_index()\n",
    "    corr.columns = ['feature', 'corr']\n",
    "    corr['corr_abs'] = corr['corr'].abs()\n",
    "    corr = corr.sort_values(by='corr_abs', ascending=False)\n",
    "    corr = corr[corr['feature'] != ft].head(count)\n",
    "\n",
    "    fig = px.bar(corr,\n",
    "        x='corr_abs',\n",
    "        y='feature',\n",
    "        orientation='h',\n",
    "        text=round(corr['corr'], 2),\n",
    "        color='feature',\n",
    "        title='Correlation: ' + ft\n",
    "    )\n",
    "    fig.update_traces(textposition='outside')\n",
    "    fig.show()\n",
    "\n",
    "if EDA_Mode == 'ON' :\n",
    "    corr_ft(train, Target, 10)"
   ]
  },
  {
   "cell_type": "markdown",
   "metadata": {
    "id": "Cpht2uTYkvxZ"
   },
   "source": [
    "# Features"
   ]
  },
  {
   "cell_type": "markdown",
   "metadata": {},
   "source": [
    "## EDA"
   ]
  },
  {
   "cell_type": "code",
   "execution_count": 79,
   "metadata": {},
   "outputs": [
    {
     "data": {
      "text/plain": [
       "Index(['ip', 'app', 'device', 'os', 'channel', 'click_time', 'attributed_time',\n",
       "       'is_attributed'],\n",
       "      dtype='object')"
      ]
     },
     "execution_count": 79,
     "metadata": {},
     "output_type": "execute_result"
    }
   ],
   "source": [
    "train.columns"
   ]
  },
  {
   "cell_type": "code",
   "execution_count": 80,
   "metadata": {},
   "outputs": [],
   "source": [
    "# train[['ip', 'app', 'device', 'os', 'channel']].drop_duplicates()"
   ]
  },
  {
   "cell_type": "code",
   "execution_count": 81,
   "metadata": {},
   "outputs": [],
   "source": [
    "# # 고유한 조합의 수 계산\n",
    "# #col = ['ip', 'app', 'device', 'os', 'channel']\n",
    "# col = ['ip']\n",
    "# train_unique_combinations = train[col].drop_duplicates()\n",
    "# test_unique_combinations = test[col].drop_duplicates()\n",
    "\n",
    "# train_unique_count = train_unique_combinations.shape[0]\n",
    "# test_unique_count = test_unique_combinations.shape[0]\n",
    "\n",
    "# print(f'Train 데이터에서 고유 조합의 수: {train_unique_count}')\n",
    "# print(f'Test 데이터에서 고유 조합의 수: {test_unique_count}')\n",
    "\n",
    "# # train과 test에서 중복으로 나오는 조합 찾기\n",
    "# common_combinations = pd.merge(train_unique_combinations, test_unique_combinations, on=col)\n",
    "\n",
    "# common_count = common_combinations.shape[0]\n",
    "\n",
    "# print(f'Train과 Test 데이터에서 중복으로 나오는 조합의 수: {common_count}')"
   ]
  },
  {
   "cell_type": "markdown",
   "metadata": {
    "id": "_cRWSNaKwxZM"
   },
   "source": [
    "## 함수"
   ]
  },
  {
   "cell_type": "code",
   "execution_count": 82,
   "metadata": {
    "executionInfo": {
     "elapsed": 44,
     "status": "ok",
     "timestamp": 1716950896116,
     "user": {
      "displayName": "Lee Minjik",
      "userId": "03992121075759719709"
     },
     "user_tz": -540
    },
    "id": "PM9ynWTSNlMI"
   },
   "outputs": [],
   "source": [
    "def table_cnt_avg(df, ft, target):\n",
    "    return df.groupby(ft)[target].agg(['count', 'mean']).sort_values(by='mean').reset_index()"
   ]
  },
  {
   "cell_type": "code",
   "execution_count": 83,
   "metadata": {
    "executionInfo": {
     "elapsed": 44,
     "status": "ok",
     "timestamp": 1716950896117,
     "user": {
      "displayName": "Lee Minjik",
      "userId": "03992121075759719709"
     },
     "user_tz": -540
    },
    "id": "2C0AWpA2MR-u"
   },
   "outputs": [],
   "source": [
    "def graph_cnt_avg(df, ft, target):\n",
    "    fig1 = px.histogram(df, x=ft)\n",
    "\n",
    "    grouped_df = df.groupby(ft)[target].mean().reset_index()\n",
    "    fig2 = px.line(grouped_df, x=ft, y=target)\n",
    "\n",
    "    fig = make_subplots(rows=1, cols=2, subplot_titles=('Count', 'Average'))\n",
    "    for trace in fig1.data:\n",
    "        fig.add_trace(trace, row=1, col=1)\n",
    "    for trace in fig2.data:\n",
    "        fig.add_trace(trace, row=1, col=2)\n",
    "\n",
    "    fig.update_layout(title_text=ft)\n",
    "    fig.show()"
   ]
  },
  {
   "cell_type": "code",
   "execution_count": 84,
   "metadata": {
    "executionInfo": {
     "elapsed": 44,
     "status": "ok",
     "timestamp": 1716950896118,
     "user": {
      "displayName": "Lee Minjik",
      "userId": "03992121075759719709"
     },
     "user_tz": -540
    },
    "id": "A-bdXRjkyTwh"
   },
   "outputs": [],
   "source": [
    "def add_mean_ft(gr, ft_name, target):\n",
    "    grouped_df = train.groupby(gr)[target].mean().reset_index()\n",
    "    grouped_df.columns = gr + [ft_name]\n",
    "    trn = train.merge(grouped_df, on=gr, how='left')\n",
    "    tst = test.merge(grouped_df, on=gr, how='left')\n",
    "    return trn, tst"
   ]
  },
  {
   "cell_type": "code",
   "execution_count": 85,
   "metadata": {},
   "outputs": [],
   "source": [
    "def add_median_ft(gr, ft_name, target):\n",
    "    grouped_df = train.groupby(gr)[target].median().reset_index()\n",
    "    grouped_df.columns = gr + [ft_name]\n",
    "    trn = train.merge(grouped_df, on=gr, how='left')\n",
    "    tst = test.merge(grouped_df, on=gr, how='left')\n",
    "    return trn, tst"
   ]
  },
  {
   "cell_type": "markdown",
   "metadata": {
    "id": "rKGFLNKCEa7f",
    "jp-MarkdownHeadingCollapsed": true
   },
   "source": [
    "## (Sample) Target\n"
   ]
  },
  {
   "cell_type": "code",
   "execution_count": 86,
   "metadata": {
    "colab": {
     "base_uri": "https://localhost:8080/",
     "height": 417
    },
    "executionInfo": {
     "elapsed": 45,
     "status": "ok",
     "timestamp": 1716950896119,
     "user": {
      "displayName": "Lee Minjik",
      "userId": "03992121075759719709"
     },
     "user_tz": -540
    },
    "id": "ZM8q4SyOEh8-",
    "outputId": "f81ae01e-e447-4aa6-b6b1-638883de5129"
   },
   "outputs": [],
   "source": [
    "df = train[Target].value_counts()\n",
    "\n",
    "if EDA_Mode == 'ON' :\n",
    "    fig = px.pie(df,\n",
    "        names = df.index,\n",
    "        values = df.values,\n",
    "        title = Target,\n",
    "    )\n",
    "    \n",
    "    fig.update_layout(\n",
    "        width = 600,\n",
    "        height = 400,\n",
    "    )\n",
    "    fig.show()"
   ]
  },
  {
   "cell_type": "markdown",
   "metadata": {
    "id": "dVMQzOJSl6ww",
    "jp-MarkdownHeadingCollapsed": true
   },
   "source": [
    "## 결측치"
   ]
  },
  {
   "cell_type": "code",
   "execution_count": 87,
   "metadata": {},
   "outputs": [],
   "source": [
    "#table_cnt_avg(train, 'Embarked', Target)"
   ]
  },
  {
   "cell_type": "markdown",
   "metadata": {
    "id": "TFFIghDbmhJ5"
   },
   "source": [
    "## (Sample) 파생피쳐"
   ]
  },
  {
   "cell_type": "code",
   "execution_count": 88,
   "metadata": {
    "colab": {
     "base_uri": "https://localhost:8080/"
    },
    "executionInfo": {
     "elapsed": 492,
     "status": "ok",
     "timestamp": 1716950896582,
     "user": {
      "displayName": "Lee Minjik",
      "userId": "03992121075759719709"
     },
     "user_tz": -540
    },
    "id": "V5TQhjraUrSs",
    "outputId": "8ae047a0-0186-4ebf-87ec-28d0308208f7"
   },
   "outputs": [],
   "source": [
    "# cols = train.columns.tolist()\n",
    "# cols_remove = ['index', 'FLAG_MOBIL', 'begin_month', 'credit']\n",
    "\n",
    "# for col in cols_remove:\n",
    "#     if col in cols:\n",
    "#         cols.remove(col)\n",
    "\n",
    "# print(len(cols), cols)"
   ]
  },
  {
   "cell_type": "code",
   "execution_count": 89,
   "metadata": {
    "executionInfo": {
     "elapsed": 57,
     "status": "ok",
     "timestamp": 1716950896582,
     "user": {
      "displayName": "Lee Minjik",
      "userId": "03992121075759719709"
     },
     "user_tz": -540
    },
    "id": "EmmHJcLzTvtD"
   },
   "outputs": [],
   "source": [
    "# for df in [train, test]:\n",
    "#     str_all = ''\n",
    "#     for col in cols:\n",
    "#         str_all += df[col].astype(str) + '_'\n",
    "#     df['ID'] = str_all"
   ]
  },
  {
   "cell_type": "markdown",
   "metadata": {},
   "source": [
    "## Click 파생피쳐 (개수 관련)"
   ]
  },
  {
   "cell_type": "code",
   "execution_count": 90,
   "metadata": {},
   "outputs": [],
   "source": [
    "# train_df['index'] = train_df.index\n",
    "\n",
    "# # Plotly를 사용하여 시각화\n",
    "# fig = px.scatter(train_df, x='index', y='click_time', title='Click Time Over Rows', labels={'index': 'Row Index', 'click_time': 'Click Time'})\n",
    "\n",
    "# # 그래프 표시\n",
    "# fig.show()"
   ]
  },
  {
   "cell_type": "code",
   "execution_count": 91,
   "metadata": {},
   "outputs": [
    {
     "data": {
      "text/plain": [
       "False"
      ]
     },
     "execution_count": 91,
     "metadata": {},
     "output_type": "execute_result"
    }
   ],
   "source": [
    "is_sorted = train['click_time'].is_monotonic_increasing\n",
    "is_sorted"
   ]
  },
  {
   "cell_type": "code",
   "execution_count": 92,
   "metadata": {},
   "outputs": [
    {
     "data": {
      "text/plain": [
       "True"
      ]
     },
     "execution_count": 92,
     "metadata": {},
     "output_type": "execute_result"
    }
   ],
   "source": [
    "is_sorted = test['click_time'].is_monotonic_increasing\n",
    "is_sorted"
   ]
  },
  {
   "cell_type": "code",
   "execution_count": 93,
   "metadata": {},
   "outputs": [
    {
     "data": {
      "text/plain": [
       "Index(['ip', 'app', 'device', 'os', 'channel', 'click_time', 'attributed_time',\n",
       "       'is_attributed'],\n",
       "      dtype='object')"
      ]
     },
     "execution_count": 93,
     "metadata": {},
     "output_type": "execute_result"
    }
   ],
   "source": [
    "train.columns"
   ]
  },
  {
   "cell_type": "code",
   "execution_count": 94,
   "metadata": {},
   "outputs": [
    {
     "data": {
      "text/plain": [
       "count                  100000\n",
       "unique                  80350\n",
       "top       2017-11-08 12:01:02\n",
       "freq                        7\n",
       "Name: click_time, dtype: object"
      ]
     },
     "execution_count": 94,
     "metadata": {},
     "output_type": "execute_result"
    }
   ],
   "source": [
    "train['click_time'].describe()"
   ]
  },
  {
   "cell_type": "code",
   "execution_count": 95,
   "metadata": {},
   "outputs": [],
   "source": [
    "# # 'click_time'을 기준으로 데이터프레임을 시간순으로 정렬\n",
    "train = train.sort_values(by='click_time')\n",
    "\n",
    "# train['clicks_1hr'] = train.groupby('ip')['click_time'].apply(lambda x: (abs(x - x.shift(1)) <= pd.Timedelta(hours=1)).sum())\n",
    "# # 각 ip에 대해 1시간 내의 등장 횟수를 계산하는 rolling window 적용\n",
    "# #train['ip_count_within_1h'] = train.groupby('ip')['click_time'].rolling('1h').count().reset_index(level=0, drop=True)\n",
    "# #train['ip_count_within_1h'] = train.groupby('ip')['click_time'].rolling(window='3600s').count().reset_index(level=0, drop=True)\n",
    "# #train['ip_count_within_1h'] = train.groupby('ip')['click_time'].rolling('1h', on='click_time').count().reset_index(0, drop=True)\n",
    "# #train['ip_count_within_1h_future'] = train.groupby('ip')['click_time'].rolling('-1h', on='click_time').count().reset_index(0, drop=True)\n",
    "\n",
    "# # 결과 출력\n",
    "# #print(train)\n",
    "# train"
   ]
  },
  {
   "cell_type": "code",
   "execution_count": 96,
   "metadata": {},
   "outputs": [
    {
     "data": {
      "text/plain": [
       "True"
      ]
     },
     "execution_count": 96,
     "metadata": {},
     "output_type": "execute_result"
    }
   ],
   "source": [
    "is_sorted = train['click_time'].is_monotonic_increasing\n",
    "is_sorted"
   ]
  },
  {
   "cell_type": "code",
   "execution_count": 97,
   "metadata": {},
   "outputs": [
    {
     "data": {
      "text/html": [
       "<div>\n",
       "<style scoped>\n",
       "    .dataframe tbody tr th:only-of-type {\n",
       "        vertical-align: middle;\n",
       "    }\n",
       "\n",
       "    .dataframe tbody tr th {\n",
       "        vertical-align: top;\n",
       "    }\n",
       "\n",
       "    .dataframe thead th {\n",
       "        text-align: right;\n",
       "    }\n",
       "</style>\n",
       "<table border=\"1\" class=\"dataframe\">\n",
       "  <thead>\n",
       "    <tr style=\"text-align: right;\">\n",
       "      <th></th>\n",
       "      <th>ip</th>\n",
       "      <th>app</th>\n",
       "      <th>device</th>\n",
       "      <th>os</th>\n",
       "      <th>channel</th>\n",
       "      <th>click_time</th>\n",
       "      <th>attributed_time</th>\n",
       "      <th>is_attributed</th>\n",
       "    </tr>\n",
       "  </thead>\n",
       "  <tbody>\n",
       "    <tr>\n",
       "      <th>54955</th>\n",
       "      <td>48646</td>\n",
       "      <td>12</td>\n",
       "      <td>1</td>\n",
       "      <td>19</td>\n",
       "      <td>178</td>\n",
       "      <td>2017-11-06 16:00:00</td>\n",
       "      <td>NaN</td>\n",
       "      <td>0</td>\n",
       "    </tr>\n",
       "    <tr>\n",
       "      <th>28314</th>\n",
       "      <td>93836</td>\n",
       "      <td>12</td>\n",
       "      <td>1</td>\n",
       "      <td>30</td>\n",
       "      <td>328</td>\n",
       "      <td>2017-11-06 16:00:09</td>\n",
       "      <td>NaN</td>\n",
       "      <td>0</td>\n",
       "    </tr>\n",
       "    <tr>\n",
       "      <th>31830</th>\n",
       "      <td>5314</td>\n",
       "      <td>8</td>\n",
       "      <td>1</td>\n",
       "      <td>13</td>\n",
       "      <td>145</td>\n",
       "      <td>2017-11-06 16:00:09</td>\n",
       "      <td>NaN</td>\n",
       "      <td>0</td>\n",
       "    </tr>\n",
       "    <tr>\n",
       "      <th>99357</th>\n",
       "      <td>73954</td>\n",
       "      <td>23</td>\n",
       "      <td>1</td>\n",
       "      <td>19</td>\n",
       "      <td>153</td>\n",
       "      <td>2017-11-06 16:00:11</td>\n",
       "      <td>NaN</td>\n",
       "      <td>0</td>\n",
       "    </tr>\n",
       "    <tr>\n",
       "      <th>83228</th>\n",
       "      <td>91574</td>\n",
       "      <td>3</td>\n",
       "      <td>1</td>\n",
       "      <td>17</td>\n",
       "      <td>135</td>\n",
       "      <td>2017-11-06 16:00:11</td>\n",
       "      <td>NaN</td>\n",
       "      <td>0</td>\n",
       "    </tr>\n",
       "    <tr>\n",
       "      <th>...</th>\n",
       "      <td>...</td>\n",
       "      <td>...</td>\n",
       "      <td>...</td>\n",
       "      <td>...</td>\n",
       "      <td>...</td>\n",
       "      <td>...</td>\n",
       "      <td>...</td>\n",
       "      <td>...</td>\n",
       "    </tr>\n",
       "    <tr>\n",
       "      <th>75024</th>\n",
       "      <td>85592</td>\n",
       "      <td>12</td>\n",
       "      <td>1</td>\n",
       "      <td>13</td>\n",
       "      <td>145</td>\n",
       "      <td>2017-11-09 15:59:42</td>\n",
       "      <td>NaN</td>\n",
       "      <td>0</td>\n",
       "    </tr>\n",
       "    <tr>\n",
       "      <th>83818</th>\n",
       "      <td>91779</td>\n",
       "      <td>18</td>\n",
       "      <td>1</td>\n",
       "      <td>41</td>\n",
       "      <td>379</td>\n",
       "      <td>2017-11-09 15:59:43</td>\n",
       "      <td>NaN</td>\n",
       "      <td>0</td>\n",
       "    </tr>\n",
       "    <tr>\n",
       "      <th>17634</th>\n",
       "      <td>81374</td>\n",
       "      <td>14</td>\n",
       "      <td>1</td>\n",
       "      <td>25</td>\n",
       "      <td>118</td>\n",
       "      <td>2017-11-09 15:59:44</td>\n",
       "      <td>NaN</td>\n",
       "      <td>0</td>\n",
       "    </tr>\n",
       "    <tr>\n",
       "      <th>41817</th>\n",
       "      <td>11911</td>\n",
       "      <td>1</td>\n",
       "      <td>1</td>\n",
       "      <td>22</td>\n",
       "      <td>115</td>\n",
       "      <td>2017-11-09 15:59:46</td>\n",
       "      <td>NaN</td>\n",
       "      <td>0</td>\n",
       "    </tr>\n",
       "    <tr>\n",
       "      <th>23038</th>\n",
       "      <td>44018</td>\n",
       "      <td>13</td>\n",
       "      <td>1</td>\n",
       "      <td>19</td>\n",
       "      <td>477</td>\n",
       "      <td>2017-11-09 15:59:51</td>\n",
       "      <td>NaN</td>\n",
       "      <td>0</td>\n",
       "    </tr>\n",
       "  </tbody>\n",
       "</table>\n",
       "<p>100000 rows × 8 columns</p>\n",
       "</div>"
      ],
      "text/plain": [
       "          ip  app  device  os  channel           click_time attributed_time  \\\n",
       "54955  48646   12       1  19      178  2017-11-06 16:00:00             NaN   \n",
       "28314  93836   12       1  30      328  2017-11-06 16:00:09             NaN   \n",
       "31830   5314    8       1  13      145  2017-11-06 16:00:09             NaN   \n",
       "99357  73954   23       1  19      153  2017-11-06 16:00:11             NaN   \n",
       "83228  91574    3       1  17      135  2017-11-06 16:00:11             NaN   \n",
       "...      ...  ...     ...  ..      ...                  ...             ...   \n",
       "75024  85592   12       1  13      145  2017-11-09 15:59:42             NaN   \n",
       "83818  91779   18       1  41      379  2017-11-09 15:59:43             NaN   \n",
       "17634  81374   14       1  25      118  2017-11-09 15:59:44             NaN   \n",
       "41817  11911    1       1  22      115  2017-11-09 15:59:46             NaN   \n",
       "23038  44018   13       1  19      477  2017-11-09 15:59:51             NaN   \n",
       "\n",
       "       is_attributed  \n",
       "54955              0  \n",
       "28314              0  \n",
       "31830              0  \n",
       "99357              0  \n",
       "83228              0  \n",
       "...              ...  \n",
       "75024              0  \n",
       "83818              0  \n",
       "17634              0  \n",
       "41817              0  \n",
       "23038              0  \n",
       "\n",
       "[100000 rows x 8 columns]"
      ]
     },
     "execution_count": 97,
     "metadata": {},
     "output_type": "execute_result"
    }
   ],
   "source": [
    "# click_time을 초 단위의 자연수로 변환하는 함수\n",
    "def convert_to_seconds(row):\n",
    "    return row['click_time_day'] * 24 * 60 * 60 + row['click_time_hour'] * 60 * 60 + row['click_time_minute'] * 60 + row['click_time_second']\n",
    "\n",
    "# click_time을 초 단위 자연수로 변환하여 'click_time_seconds' 열에 저장\n",
    "# train['click_time_seconds'] = train.apply(convert_to_seconds, axis=1)\n",
    "\n",
    "# IP 주소(ip)를 기준으로 그룹화하고, 각 그룹에서 시간 간격이 3600초 이내인 행의 개수를 세는 함수\n",
    "def count_within_1hr(group):\n",
    "    return (group['click_time_seconds'].diff() <= 3600).sum()\n",
    "\n",
    "# 각 IP 주소별로 그룹화하고, 시간 간격이 3600초(1시간) 이내인 행의 개수를 계산하여 'clicks_within_1hr' 열에 저장\n",
    "#train['clicks_within_1hr'] = train.groupby('ip').apply(count_within_1hr)\n",
    "\n",
    "#train['clicks_within_1hr'] = train.groupby('ip')['click_time_seconds'].transform(lambda x: (x.diff() <= 3600).cumsum())\n",
    "\n",
    "train"
   ]
  },
  {
   "cell_type": "code",
   "execution_count": 98,
   "metadata": {},
   "outputs": [],
   "source": [
    "train['click_time'] = pd.to_datetime(train['click_time'])"
   ]
  },
  {
   "cell_type": "code",
   "execution_count": 99,
   "metadata": {},
   "outputs": [
    {
     "name": "stdout",
     "output_type": "stream",
     "text": [
      "CPU times: total: 31.2 ms\n",
      "Wall time: 88.3 ms\n"
     ]
    },
    {
     "data": {
      "text/html": [
       "<div>\n",
       "<style scoped>\n",
       "    .dataframe tbody tr th:only-of-type {\n",
       "        vertical-align: middle;\n",
       "    }\n",
       "\n",
       "    .dataframe tbody tr th {\n",
       "        vertical-align: top;\n",
       "    }\n",
       "\n",
       "    .dataframe thead th {\n",
       "        text-align: right;\n",
       "    }\n",
       "</style>\n",
       "<table border=\"1\" class=\"dataframe\">\n",
       "  <thead>\n",
       "    <tr style=\"text-align: right;\">\n",
       "      <th></th>\n",
       "      <th>ip</th>\n",
       "      <th>app</th>\n",
       "      <th>device</th>\n",
       "      <th>os</th>\n",
       "      <th>channel</th>\n",
       "      <th>click_time</th>\n",
       "      <th>attributed_time</th>\n",
       "      <th>is_attributed</th>\n",
       "      <th>real_clicks_1hr</th>\n",
       "      <th>real_clicks_6hr</th>\n",
       "    </tr>\n",
       "  </thead>\n",
       "  <tbody>\n",
       "    <tr>\n",
       "      <th>54955</th>\n",
       "      <td>48646</td>\n",
       "      <td>12</td>\n",
       "      <td>1</td>\n",
       "      <td>19</td>\n",
       "      <td>178</td>\n",
       "      <td>2017-11-06 16:00:00</td>\n",
       "      <td>NaN</td>\n",
       "      <td>0</td>\n",
       "      <td>2</td>\n",
       "      <td>2</td>\n",
       "    </tr>\n",
       "    <tr>\n",
       "      <th>28314</th>\n",
       "      <td>93836</td>\n",
       "      <td>12</td>\n",
       "      <td>1</td>\n",
       "      <td>30</td>\n",
       "      <td>328</td>\n",
       "      <td>2017-11-06 16:00:09</td>\n",
       "      <td>NaN</td>\n",
       "      <td>0</td>\n",
       "      <td>2</td>\n",
       "      <td>2</td>\n",
       "    </tr>\n",
       "    <tr>\n",
       "      <th>31830</th>\n",
       "      <td>5314</td>\n",
       "      <td>8</td>\n",
       "      <td>1</td>\n",
       "      <td>13</td>\n",
       "      <td>145</td>\n",
       "      <td>2017-11-06 16:00:09</td>\n",
       "      <td>NaN</td>\n",
       "      <td>0</td>\n",
       "      <td>3</td>\n",
       "      <td>3</td>\n",
       "    </tr>\n",
       "    <tr>\n",
       "      <th>99357</th>\n",
       "      <td>73954</td>\n",
       "      <td>23</td>\n",
       "      <td>1</td>\n",
       "      <td>19</td>\n",
       "      <td>153</td>\n",
       "      <td>2017-11-06 16:00:11</td>\n",
       "      <td>NaN</td>\n",
       "      <td>0</td>\n",
       "      <td>2</td>\n",
       "      <td>3</td>\n",
       "    </tr>\n",
       "    <tr>\n",
       "      <th>83228</th>\n",
       "      <td>91574</td>\n",
       "      <td>3</td>\n",
       "      <td>1</td>\n",
       "      <td>17</td>\n",
       "      <td>135</td>\n",
       "      <td>2017-11-06 16:00:11</td>\n",
       "      <td>NaN</td>\n",
       "      <td>0</td>\n",
       "      <td>1</td>\n",
       "      <td>1</td>\n",
       "    </tr>\n",
       "    <tr>\n",
       "      <th>...</th>\n",
       "      <td>...</td>\n",
       "      <td>...</td>\n",
       "      <td>...</td>\n",
       "      <td>...</td>\n",
       "      <td>...</td>\n",
       "      <td>...</td>\n",
       "      <td>...</td>\n",
       "      <td>...</td>\n",
       "      <td>...</td>\n",
       "      <td>...</td>\n",
       "    </tr>\n",
       "    <tr>\n",
       "      <th>75024</th>\n",
       "      <td>85592</td>\n",
       "      <td>12</td>\n",
       "      <td>1</td>\n",
       "      <td>13</td>\n",
       "      <td>145</td>\n",
       "      <td>2017-11-09 15:59:42</td>\n",
       "      <td>NaN</td>\n",
       "      <td>0</td>\n",
       "      <td>1</td>\n",
       "      <td>2</td>\n",
       "    </tr>\n",
       "    <tr>\n",
       "      <th>83818</th>\n",
       "      <td>91779</td>\n",
       "      <td>18</td>\n",
       "      <td>1</td>\n",
       "      <td>41</td>\n",
       "      <td>379</td>\n",
       "      <td>2017-11-09 15:59:43</td>\n",
       "      <td>NaN</td>\n",
       "      <td>0</td>\n",
       "      <td>1</td>\n",
       "      <td>1</td>\n",
       "    </tr>\n",
       "    <tr>\n",
       "      <th>17634</th>\n",
       "      <td>81374</td>\n",
       "      <td>14</td>\n",
       "      <td>1</td>\n",
       "      <td>25</td>\n",
       "      <td>118</td>\n",
       "      <td>2017-11-09 15:59:44</td>\n",
       "      <td>NaN</td>\n",
       "      <td>0</td>\n",
       "      <td>1</td>\n",
       "      <td>1</td>\n",
       "    </tr>\n",
       "    <tr>\n",
       "      <th>41817</th>\n",
       "      <td>11911</td>\n",
       "      <td>1</td>\n",
       "      <td>1</td>\n",
       "      <td>22</td>\n",
       "      <td>115</td>\n",
       "      <td>2017-11-09 15:59:46</td>\n",
       "      <td>NaN</td>\n",
       "      <td>0</td>\n",
       "      <td>1</td>\n",
       "      <td>1</td>\n",
       "    </tr>\n",
       "    <tr>\n",
       "      <th>23038</th>\n",
       "      <td>44018</td>\n",
       "      <td>13</td>\n",
       "      <td>1</td>\n",
       "      <td>19</td>\n",
       "      <td>477</td>\n",
       "      <td>2017-11-09 15:59:51</td>\n",
       "      <td>NaN</td>\n",
       "      <td>0</td>\n",
       "      <td>1</td>\n",
       "      <td>1</td>\n",
       "    </tr>\n",
       "  </tbody>\n",
       "</table>\n",
       "<p>100000 rows × 10 columns</p>\n",
       "</div>"
      ],
      "text/plain": [
       "          ip  app  device  os  channel          click_time attributed_time  \\\n",
       "54955  48646   12       1  19      178 2017-11-06 16:00:00             NaN   \n",
       "28314  93836   12       1  30      328 2017-11-06 16:00:09             NaN   \n",
       "31830   5314    8       1  13      145 2017-11-06 16:00:09             NaN   \n",
       "99357  73954   23       1  19      153 2017-11-06 16:00:11             NaN   \n",
       "83228  91574    3       1  17      135 2017-11-06 16:00:11             NaN   \n",
       "...      ...  ...     ...  ..      ...                 ...             ...   \n",
       "75024  85592   12       1  13      145 2017-11-09 15:59:42             NaN   \n",
       "83818  91779   18       1  41      379 2017-11-09 15:59:43             NaN   \n",
       "17634  81374   14       1  25      118 2017-11-09 15:59:44             NaN   \n",
       "41817  11911    1       1  22      115 2017-11-09 15:59:46             NaN   \n",
       "23038  44018   13       1  19      477 2017-11-09 15:59:51             NaN   \n",
       "\n",
       "       is_attributed  real_clicks_1hr  real_clicks_6hr  \n",
       "54955              0                2                2  \n",
       "28314              0                2                2  \n",
       "31830              0                3                3  \n",
       "99357              0                2                3  \n",
       "83228              0                1                1  \n",
       "...              ...              ...              ...  \n",
       "75024              0                1                2  \n",
       "83818              0                1                1  \n",
       "17634              0                1                1  \n",
       "41817              0                1                1  \n",
       "23038              0                1                1  \n",
       "\n",
       "[100000 rows x 10 columns]"
      ]
     },
     "execution_count": 99,
     "metadata": {},
     "output_type": "execute_result"
    }
   ],
   "source": [
    "%%time\n",
    "# datetime 형식으로 변환\n",
    "# train['click_time'] = pd.to_datetime(train['click_time'])\n",
    "\n",
    "# # 새로운 열 생성\n",
    "# train['real_clicks_1hr'] = 0\n",
    "\n",
    "# # 반복문을 통해 각 행 처리\n",
    "# for i, row in train.iterrows():\n",
    "#     # 현재 행의 IP\n",
    "#     curr_ip = row['ip']\n",
    "    \n",
    "#     # 현재 행의 click_time\n",
    "#     curr_time = row['click_time']\n",
    "    \n",
    "#     # 현재 행과 1시간 이내의 같은 IP 클릭 횟수 계산\n",
    "#     same_ip_clicks = train.loc[(train['ip'] == curr_ip) & (abs(train['click_time'] - curr_time) <= pd.Timedelta(hours=1)), 'click_time'].count()\n",
    "    \n",
    "#     # 결과 저장\n",
    "#     train.at[i, 'real_clicks_1hr'] = same_ip_clicks\n",
    "\n",
    "if clicks_hr_Mode == 'ON' :\n",
    "    train['real_clicks_1hr'] = train.groupby(['ip', pd.Grouper(key='click_time', freq='1H')])['click_time'].transform('count')\n",
    "\n",
    "    train['real_clicks_6hr'] = train.groupby(['ip', pd.Grouper(key='click_time', freq='6H')])['click_time'].transform('count')\n",
    "\n",
    "#train['real_clicks_3hr'] = train.groupby(['ip', pd.Grouper(key='click_time', freq='3H')])['click_time'].transform('count')\n",
    "train"
   ]
  },
  {
   "cell_type": "code",
   "execution_count": 100,
   "metadata": {},
   "outputs": [],
   "source": [
    "if clicks_hr_Mode == 'ON' :\n",
    "    train['real_clicks_1hr'].describe()"
   ]
  },
  {
   "cell_type": "code",
   "execution_count": 101,
   "metadata": {},
   "outputs": [],
   "source": [
    "if clicks_hr_Mode == 'ON' :\n",
    "    train['real_clicks_6hr'].describe()"
   ]
  },
  {
   "cell_type": "code",
   "execution_count": 102,
   "metadata": {},
   "outputs": [],
   "source": [
    "# %%time\n",
    "# # datetime 형식으로 변환\n",
    "# test['click_time'] = pd.to_datetime(test['click_time'])\n",
    "\n",
    "# # 새로운 열 생성\n",
    "# test['real_clicks_1hr'] = 0\n",
    "\n",
    "# # 반복문을 통해 각 행 처리\n",
    "# for i, row in test.iterrows():\n",
    "#     # 현재 행의 IP\n",
    "#     curr_ip = row['ip']\n",
    "    \n",
    "#     # 현재 행의 click_time\n",
    "#     curr_time = row['click_time']\n",
    "    \n",
    "#     # 현재 행과 1시간 이내의 같은 IP 클릭 횟수 계산\n",
    "#     same_ip_clicks = test.loc[(test['ip'] == curr_ip) & (abs(test['click_time'] - curr_time) <= pd.Timedelta(hours=1)), 'click_time'].count()\n",
    "    \n",
    "#     # 결과 저장\n",
    "#     test.at[i, 'real_clicks_1hr'] = same_ip_clicks\n",
    "\n",
    "# test"
   ]
  },
  {
   "cell_type": "code",
   "execution_count": 103,
   "metadata": {},
   "outputs": [],
   "source": [
    "if clicks_hr_Mode == 'ON' :\n",
    "    # datetime 형식으로 변환\n",
    "    test['click_time'] = pd.to_datetime(test['click_time'])\n",
    "\n",
    "    # 1시간 이내의 같은 IP 클릭 횟수 계산\n",
    "    test['real_clicks_1hr'] = test.groupby(['ip', pd.Grouper(key='click_time', freq='1H')])['click_time'].transform('count')\n",
    "    test['real_clicks_6hr'] = test.groupby(['ip', pd.Grouper(key='click_time', freq='6H')])['click_time'].transform('count')\n",
    "    #test['real_clicks_3hr'] = test.groupby(['ip', pd.Grouper(key='click_time', freq='3H')])['click_time'].transform('count')\n",
    "    test"
   ]
  },
  {
   "cell_type": "code",
   "execution_count": 104,
   "metadata": {},
   "outputs": [],
   "source": [
    "# !!!!!왜 안 맞는걸까\n",
    "# # datetime 형식으로 변환\n",
    "# train['click_time'] = pd.to_datetime(train['click_time'])\n",
    "\n",
    "# # 1시간 이내의 같은 IP 클릭 횟수 계산\n",
    "# train['real_clicks_1hr2'] = train.groupby(['ip', pd.Grouper(key='click_time', freq='1H')])['click_time'].transform('count')\n",
    "# train"
   ]
  },
  {
   "cell_type": "code",
   "execution_count": 105,
   "metadata": {},
   "outputs": [],
   "source": [
    "if clicks_hr_Mode == 'ON' :\n",
    "    test['real_clicks_1hr'].describe()"
   ]
  },
  {
   "cell_type": "code",
   "execution_count": 106,
   "metadata": {},
   "outputs": [],
   "source": [
    "if clicks_hr_Mode == 'ON' :\n",
    "    test['real_clicks_6hr'].describe()"
   ]
  },
  {
   "cell_type": "code",
   "execution_count": 107,
   "metadata": {},
   "outputs": [
    {
     "data": {
      "text/plain": [
       "Index(['ip', 'app', 'device', 'os', 'channel', 'click_time', 'attributed_time',\n",
       "       'is_attributed', 'real_clicks_1hr', 'real_clicks_6hr'],\n",
       "      dtype='object')"
      ]
     },
     "execution_count": 107,
     "metadata": {},
     "output_type": "execute_result"
    }
   ],
   "source": [
    "train.columns"
   ]
  },
  {
   "cell_type": "code",
   "execution_count": 108,
   "metadata": {},
   "outputs": [
    {
     "data": {
      "text/plain": [
       "(18790469, 9)"
      ]
     },
     "execution_count": 108,
     "metadata": {},
     "output_type": "execute_result"
    }
   ],
   "source": [
    "test.shape"
   ]
  },
  {
   "cell_type": "code",
   "execution_count": 109,
   "metadata": {},
   "outputs": [],
   "source": [
    "# train = train.drop('attributed_time', axis = 1)"
   ]
  },
  {
   "cell_type": "markdown",
   "metadata": {},
   "source": [
    "## type-re"
   ]
  },
  {
   "cell_type": "code",
   "execution_count": 110,
   "metadata": {},
   "outputs": [],
   "source": [
    "# uint8_cols = ['is_attributed', 'click_time_hour', 'click_time_minute', 'real_clicks_1hr', 'real_clicks_6hr']\n",
    "# train[uint8_cols] = train[uint8_cols].astype(np.uint8)\n",
    "\n",
    "# # 나머지 모든 열을 float32로 변환\n",
    "# exclude_cols = uint8_cols + ['click_time']\n",
    "# float32_cols = train.columns.difference(exclude_cols)\n",
    "# train[float32_cols] = train[float32_cols].astype(np.float32)"
   ]
  },
  {
   "cell_type": "code",
   "execution_count": 111,
   "metadata": {},
   "outputs": [],
   "source": [
    "# uint8_cols = ['click_time_hour', 'click_time_minute', 'real_clicks_1hr', 'real_clicks_6hr']\n",
    "# test[uint8_cols] = test[uint8_cols].astype(np.uint8)\n",
    "\n",
    "# # 나머지 모든 열을 float32로 변환\n",
    "# exclude_cols = uint8_cols + ['click_time']\n",
    "# float32_cols = test.columns.difference(exclude_cols)\n",
    "# test[float32_cols] = test[float32_cols].astype(np.float32)"
   ]
  },
  {
   "cell_type": "code",
   "execution_count": 112,
   "metadata": {},
   "outputs": [
    {
     "name": "stdout",
     "output_type": "stream",
     "text": [
      "<class 'pandas.core.frame.DataFrame'>\n",
      "Index: 100000 entries, 54955 to 23038\n",
      "Data columns (total 10 columns):\n",
      " #   Column           Non-Null Count   Dtype         \n",
      "---  ------           --------------   -----         \n",
      " 0   ip               100000 non-null  uint32        \n",
      " 1   app              100000 non-null  uint16        \n",
      " 2   device           100000 non-null  uint16        \n",
      " 3   os               100000 non-null  uint16        \n",
      " 4   channel          100000 non-null  uint16        \n",
      " 5   click_time       100000 non-null  datetime64[ns]\n",
      " 6   attributed_time  227 non-null     object        \n",
      " 7   is_attributed    100000 non-null  uint8         \n",
      " 8   real_clicks_1hr  100000 non-null  int64         \n",
      " 9   real_clicks_6hr  100000 non-null  int64         \n",
      "dtypes: datetime64[ns](1), int64(2), object(1), uint16(4), uint32(1), uint8(1)\n",
      "memory usage: 5.1+ MB\n"
     ]
    }
   ],
   "source": [
    "train.info()"
   ]
  },
  {
   "cell_type": "code",
   "execution_count": 113,
   "metadata": {},
   "outputs": [
    {
     "name": "stdout",
     "output_type": "stream",
     "text": [
      "<class 'pandas.core.frame.DataFrame'>\n",
      "RangeIndex: 18790469 entries, 0 to 18790468\n",
      "Data columns (total 9 columns):\n",
      " #   Column           Dtype         \n",
      "---  ------           -----         \n",
      " 0   click_id         int64         \n",
      " 1   ip               uint32        \n",
      " 2   app              uint16        \n",
      " 3   device           uint16        \n",
      " 4   os               uint16        \n",
      " 5   channel          uint16        \n",
      " 6   click_time       datetime64[ns]\n",
      " 7   real_clicks_1hr  int64         \n",
      " 8   real_clicks_6hr  int64         \n",
      "dtypes: datetime64[ns](1), int64(3), uint16(4), uint32(1)\n",
      "memory usage: 788.5 MB\n"
     ]
    }
   ],
   "source": [
    "test.info()"
   ]
  },
  {
   "cell_type": "markdown",
   "metadata": {},
   "source": [
    "## Click 파생피쳐 (시간 관련)"
   ]
  },
  {
   "cell_type": "code",
   "execution_count": 114,
   "metadata": {},
   "outputs": [],
   "source": [
    "# train['prev_click_time'] = train.groupby('ip')['click_time'].shift(1)\n",
    "# train['next_click_time'] = train.groupby('ip')['click_time'].shift(-1)\n",
    "\n",
    "# # 시간 차이 계산\n",
    "# train['prev_click_time_diff'] = (train['click_time'] - train['prev_click_time']).dt.total_seconds()\n",
    "# train['next_click_time_diff'] = (train['next_click_time'] - train['click_time']).dt.total_seconds()\n",
    "\n",
    "# # 불필요한 열 삭제\n",
    "# train.drop(columns=['prev_click_time', 'next_click_time'], inplace=True)\n",
    "# train"
   ]
  },
  {
   "cell_type": "code",
   "execution_count": 115,
   "metadata": {},
   "outputs": [],
   "source": [
    "# for i in range(1, 6):\n",
    "#     train[f'prev_click_time_{i}'] = train.groupby('ip')['click_time'].shift(i)\n",
    "\n",
    "# # Time differences for previous clicks (1 to 5)\n",
    "# for i in range(1, 6):\n",
    "#     train[f'prev_click_time_diff_{i}'] = (train['click_time'] - train[f'prev_click_time_{i}']).dt.total_seconds()\n",
    "\n",
    "# # Mean of time differences, ignoring NaNs\n",
    "# train['prev_click_time_diff'] = train[[f'prev_click_time_diff_{i}' for i in range(1, 6)]].mean(axis=1)\n",
    "# train.drop(columns=[f'prev_click_time_{i}' for i in range(1, 6)] + [f'prev_click_time_diff_{i}' for i in range(1, 6)], inplace=True)\n",
    "# train"
   ]
  },
  {
   "cell_type": "code",
   "execution_count": 116,
   "metadata": {},
   "outputs": [],
   "source": [
    "# for i in range(1, 6):\n",
    "#     test[f'prev_click_time_{i}'] = test.groupby('ip')['click_time'].shift(i)\n",
    "\n",
    "# # Time differences for previous clicks (1 to 5)\n",
    "# for i in range(1, 6):\n",
    "#     test[f'prev_click_time_diff_{i}'] = (test['click_time'] - test[f'prev_click_time_{i}']).dt.total_seconds()\n",
    "\n",
    "# # Mean of time differences, ignoring NaNs\n",
    "# test['prev_click_time_diff'] = test[[f'prev_click_time_diff_{i}' for i in range(1, 6)]].mean(axis=1)\n",
    "# test.drop(columns=[f'prev_click_time_{i}' for i in range(1, 6)] + [f'prev_click_time_diff_{i}' for i in range(1, 6)], inplace=True)\n",
    "# test"
   ]
  },
  {
   "cell_type": "code",
   "execution_count": 117,
   "metadata": {},
   "outputs": [],
   "source": [
    "# for i in range(1, 6):\n",
    "#     train[f'next_click_time_{i}'] = train.groupby('ip')['click_time'].shift(-i)\n",
    "\n",
    "# # Time differences for previous clicks (1 to 5)\n",
    "# for i in range(1, 6):\n",
    "#     train[f'next_click_time_diff_{i}'] = (train[f'next_click_time_{i}'] - train['click_time']).dt.total_seconds()\n",
    "\n",
    "# # Mean of time differences, ignoring NaNs\n",
    "# train['next_click_time_diff'] = train[[f'next_click_time_diff_{i}' for i in range(1, 6)]].mean(axis=1)\n",
    "# train.drop(columns=[f'next_click_time_{i}' for i in range(1, 6)] + [f'next_click_time_diff_{i}' for i in range(1, 6)], inplace=True)\n",
    "# train"
   ]
  },
  {
   "cell_type": "code",
   "execution_count": 118,
   "metadata": {},
   "outputs": [
    {
     "name": "stdout",
     "output_type": "stream",
     "text": [
      "prev_click_time_diff_ip\n",
      "prev_click_time_diff_app\n",
      "prev_click_time_diff_os\n",
      "prev_click_time_diff_channel\n",
      "prev_click_time_diff_device\n",
      "prev_click_time_diff_ip+app\n",
      "prev_click_time_diff_ip+os\n",
      "prev_click_time_diff_ip+channel\n",
      "prev_click_time_diff_ip+device\n",
      "prev_click_time_diff_app+os\n",
      "prev_click_time_diff_app+channel\n",
      "prev_click_time_diff_app+device\n",
      "prev_click_time_diff_os+channel\n",
      "prev_click_time_diff_os+device\n",
      "prev_click_time_diff_channel+device\n",
      "prev_click_time_diff_ip+app+os\n",
      "prev_click_time_diff_ip+app+channel\n",
      "prev_click_time_diff_ip+app+device\n",
      "prev_click_time_diff_ip+os+channel\n",
      "prev_click_time_diff_ip+os+device\n",
      "prev_click_time_diff_ip+channel+device\n",
      "prev_click_time_diff_app+os+channel\n",
      "prev_click_time_diff_app+os+device\n",
      "prev_click_time_diff_app+channel+device\n",
      "prev_click_time_diff_os+channel+device\n",
      "prev_click_time_diff_ip+app+os+channel\n",
      "prev_click_time_diff_ip+app+os+device\n",
      "prev_click_time_diff_ip+app+channel+device\n",
      "prev_click_time_diff_ip+os+channel+device\n",
      "prev_click_time_diff_app+os+channel+device\n",
      "prev_click_time_diff_ip+app+os+channel+device\n"
     ]
    }
   ],
   "source": [
    "for combo in all_combinations:\n",
    "    combo_list = list(combo)\n",
    "    print(f'prev_click_time_diff_{\"+\".join(combo_list)}')"
   ]
  },
  {
   "cell_type": "code",
   "execution_count": 119,
   "metadata": {},
   "outputs": [
    {
     "name": "stdout",
     "output_type": "stream",
     "text": [
      "CPU times: total: 0 ns\n",
      "Wall time: 0 ns\n"
     ]
    }
   ],
   "source": [
    "%%time\n",
    "\n",
    "if add_click_train == 'ON' :\n",
    "    ti = 0\n",
    "    for combo in all_combinations:\n",
    "        ti += 1\n",
    "        combo_list = list(combo)  # 튜플을 리스트로 변환\n",
    "\n",
    "        if ti <= st :\n",
    "            continue\n",
    "\n",
    "        for i in range(1, 6):\n",
    "            train[f'prev_click_time_{\"_\".join(combo_list)}_{i}'] = train.groupby(combo_list)['click_time'].shift(i)\n",
    "\n",
    "        # 이전 클릭 시간 차이를 계산\n",
    "        for i in range(1, 6):\n",
    "            train[f'prev_click_time_{\"_\".join(combo_list)}_{i}'] = (train['click_time'] - train[f'prev_click_time_{\"_\".join(combo_list)}_{i}']).dt.total_seconds()\n",
    "\n",
    "        # 시간 차이의 평균 계산 (NaN 제외)\n",
    "        train[f'prev_click_time_diff_{\"_\".join(combo_list)}'] = train[[f'prev_click_time_{\"_\".join(combo_list)}_{i}' for i in range(1, 6)]].mean(axis=1)\n",
    "        train.drop(columns=[f'prev_click_time_{\"_\".join(combo_list)}_{i}' for i in range(1, 6)], inplace=True)\n",
    "        print(combo)\n",
    "        if ti % 4 == 0 :\n",
    "            train.to_csv(f'train_new{ti // 4}', index=False)\n",
    "\n",
    "    train.to_csv('train_new_8', index=False)\n",
    "    train"
   ]
  },
  {
   "cell_type": "code",
   "execution_count": 120,
   "metadata": {},
   "outputs": [
    {
     "data": {
      "text/plain": [
       "31"
      ]
     },
     "execution_count": 120,
     "metadata": {},
     "output_type": "execute_result"
    }
   ],
   "source": [
    "len(all_combinations)"
   ]
  },
  {
   "cell_type": "code",
   "execution_count": 121,
   "metadata": {},
   "outputs": [
    {
     "name": "stdout",
     "output_type": "stream",
     "text": [
      "CPU times: total: 0 ns\n",
      "Wall time: 0 ns\n"
     ]
    }
   ],
   "source": [
    "%%time\n",
    "\n",
    "if add_click_train == 'ON' :\n",
    "    for combo in all_combinations:\n",
    "        combo_list = list(combo)  # 튜플을 리스트로 변환\n",
    "\n",
    "        for i in range(1, 6):\n",
    "            train[f'next_click_time_{\"_\".join(combo_list)}_{i}'] = train.groupby(combo_list)['click_time'].shift(-i)\n",
    "\n",
    "        # 다음 클릭 시간 차이를 계산\n",
    "        for i in range(1, 6):\n",
    "            train[f'next_click_time_{\"_\".join(combo_list)}_{i}'] = (train[f'next_click_time_{\"_\".join(combo_list)}_{i}'] - train['click_time']).dt.total_seconds()\n",
    "\n",
    "        # 시간 차이의 평균 계산 (NaN 제외)\n",
    "        train[f'next_click_time_diff_{\"_\".join(combo_list)}'] = train[[f'next_click_time_{\"_\".join(combo_list)}_{i}' for i in range(1, 6)]].mean(axis=1)\n",
    "        train.drop(columns=[f'next_click_time_{\"_\".join(combo_list)}_{i}' for i in range(1, 6)], inplace=True)\n",
    "        print(combo)\n",
    "\n",
    "    train"
   ]
  },
  {
   "cell_type": "code",
   "execution_count": 122,
   "metadata": {},
   "outputs": [
    {
     "data": {
      "text/html": [
       "<div>\n",
       "<style scoped>\n",
       "    .dataframe tbody tr th:only-of-type {\n",
       "        vertical-align: middle;\n",
       "    }\n",
       "\n",
       "    .dataframe tbody tr th {\n",
       "        vertical-align: top;\n",
       "    }\n",
       "\n",
       "    .dataframe thead th {\n",
       "        text-align: right;\n",
       "    }\n",
       "</style>\n",
       "<table border=\"1\" class=\"dataframe\">\n",
       "  <thead>\n",
       "    <tr style=\"text-align: right;\">\n",
       "      <th></th>\n",
       "      <th>ip</th>\n",
       "      <th>app</th>\n",
       "      <th>device</th>\n",
       "      <th>os</th>\n",
       "      <th>channel</th>\n",
       "      <th>click_time</th>\n",
       "      <th>attributed_time</th>\n",
       "      <th>is_attributed</th>\n",
       "      <th>real_clicks_1hr</th>\n",
       "      <th>real_clicks_6hr</th>\n",
       "    </tr>\n",
       "  </thead>\n",
       "  <tbody>\n",
       "    <tr>\n",
       "      <th>54955</th>\n",
       "      <td>48646</td>\n",
       "      <td>12</td>\n",
       "      <td>1</td>\n",
       "      <td>19</td>\n",
       "      <td>178</td>\n",
       "      <td>2017-11-06 16:00:00</td>\n",
       "      <td>NaN</td>\n",
       "      <td>0</td>\n",
       "      <td>2</td>\n",
       "      <td>2</td>\n",
       "    </tr>\n",
       "    <tr>\n",
       "      <th>28314</th>\n",
       "      <td>93836</td>\n",
       "      <td>12</td>\n",
       "      <td>1</td>\n",
       "      <td>30</td>\n",
       "      <td>328</td>\n",
       "      <td>2017-11-06 16:00:09</td>\n",
       "      <td>NaN</td>\n",
       "      <td>0</td>\n",
       "      <td>2</td>\n",
       "      <td>2</td>\n",
       "    </tr>\n",
       "    <tr>\n",
       "      <th>31830</th>\n",
       "      <td>5314</td>\n",
       "      <td>8</td>\n",
       "      <td>1</td>\n",
       "      <td>13</td>\n",
       "      <td>145</td>\n",
       "      <td>2017-11-06 16:00:09</td>\n",
       "      <td>NaN</td>\n",
       "      <td>0</td>\n",
       "      <td>3</td>\n",
       "      <td>3</td>\n",
       "    </tr>\n",
       "    <tr>\n",
       "      <th>99357</th>\n",
       "      <td>73954</td>\n",
       "      <td>23</td>\n",
       "      <td>1</td>\n",
       "      <td>19</td>\n",
       "      <td>153</td>\n",
       "      <td>2017-11-06 16:00:11</td>\n",
       "      <td>NaN</td>\n",
       "      <td>0</td>\n",
       "      <td>2</td>\n",
       "      <td>3</td>\n",
       "    </tr>\n",
       "    <tr>\n",
       "      <th>83228</th>\n",
       "      <td>91574</td>\n",
       "      <td>3</td>\n",
       "      <td>1</td>\n",
       "      <td>17</td>\n",
       "      <td>135</td>\n",
       "      <td>2017-11-06 16:00:11</td>\n",
       "      <td>NaN</td>\n",
       "      <td>0</td>\n",
       "      <td>1</td>\n",
       "      <td>1</td>\n",
       "    </tr>\n",
       "    <tr>\n",
       "      <th>...</th>\n",
       "      <td>...</td>\n",
       "      <td>...</td>\n",
       "      <td>...</td>\n",
       "      <td>...</td>\n",
       "      <td>...</td>\n",
       "      <td>...</td>\n",
       "      <td>...</td>\n",
       "      <td>...</td>\n",
       "      <td>...</td>\n",
       "      <td>...</td>\n",
       "    </tr>\n",
       "    <tr>\n",
       "      <th>75024</th>\n",
       "      <td>85592</td>\n",
       "      <td>12</td>\n",
       "      <td>1</td>\n",
       "      <td>13</td>\n",
       "      <td>145</td>\n",
       "      <td>2017-11-09 15:59:42</td>\n",
       "      <td>NaN</td>\n",
       "      <td>0</td>\n",
       "      <td>1</td>\n",
       "      <td>2</td>\n",
       "    </tr>\n",
       "    <tr>\n",
       "      <th>83818</th>\n",
       "      <td>91779</td>\n",
       "      <td>18</td>\n",
       "      <td>1</td>\n",
       "      <td>41</td>\n",
       "      <td>379</td>\n",
       "      <td>2017-11-09 15:59:43</td>\n",
       "      <td>NaN</td>\n",
       "      <td>0</td>\n",
       "      <td>1</td>\n",
       "      <td>1</td>\n",
       "    </tr>\n",
       "    <tr>\n",
       "      <th>17634</th>\n",
       "      <td>81374</td>\n",
       "      <td>14</td>\n",
       "      <td>1</td>\n",
       "      <td>25</td>\n",
       "      <td>118</td>\n",
       "      <td>2017-11-09 15:59:44</td>\n",
       "      <td>NaN</td>\n",
       "      <td>0</td>\n",
       "      <td>1</td>\n",
       "      <td>1</td>\n",
       "    </tr>\n",
       "    <tr>\n",
       "      <th>41817</th>\n",
       "      <td>11911</td>\n",
       "      <td>1</td>\n",
       "      <td>1</td>\n",
       "      <td>22</td>\n",
       "      <td>115</td>\n",
       "      <td>2017-11-09 15:59:46</td>\n",
       "      <td>NaN</td>\n",
       "      <td>0</td>\n",
       "      <td>1</td>\n",
       "      <td>1</td>\n",
       "    </tr>\n",
       "    <tr>\n",
       "      <th>23038</th>\n",
       "      <td>44018</td>\n",
       "      <td>13</td>\n",
       "      <td>1</td>\n",
       "      <td>19</td>\n",
       "      <td>477</td>\n",
       "      <td>2017-11-09 15:59:51</td>\n",
       "      <td>NaN</td>\n",
       "      <td>0</td>\n",
       "      <td>1</td>\n",
       "      <td>1</td>\n",
       "    </tr>\n",
       "  </tbody>\n",
       "</table>\n",
       "<p>100000 rows × 10 columns</p>\n",
       "</div>"
      ],
      "text/plain": [
       "          ip  app  device  os  channel          click_time attributed_time  \\\n",
       "54955  48646   12       1  19      178 2017-11-06 16:00:00             NaN   \n",
       "28314  93836   12       1  30      328 2017-11-06 16:00:09             NaN   \n",
       "31830   5314    8       1  13      145 2017-11-06 16:00:09             NaN   \n",
       "99357  73954   23       1  19      153 2017-11-06 16:00:11             NaN   \n",
       "83228  91574    3       1  17      135 2017-11-06 16:00:11             NaN   \n",
       "...      ...  ...     ...  ..      ...                 ...             ...   \n",
       "75024  85592   12       1  13      145 2017-11-09 15:59:42             NaN   \n",
       "83818  91779   18       1  41      379 2017-11-09 15:59:43             NaN   \n",
       "17634  81374   14       1  25      118 2017-11-09 15:59:44             NaN   \n",
       "41817  11911    1       1  22      115 2017-11-09 15:59:46             NaN   \n",
       "23038  44018   13       1  19      477 2017-11-09 15:59:51             NaN   \n",
       "\n",
       "       is_attributed  real_clicks_1hr  real_clicks_6hr  \n",
       "54955              0                2                2  \n",
       "28314              0                2                2  \n",
       "31830              0                3                3  \n",
       "99357              0                2                3  \n",
       "83228              0                1                1  \n",
       "...              ...              ...              ...  \n",
       "75024              0                1                2  \n",
       "83818              0                1                1  \n",
       "17634              0                1                1  \n",
       "41817              0                1                1  \n",
       "23038              0                1                1  \n",
       "\n",
       "[100000 rows x 10 columns]"
      ]
     },
     "execution_count": 122,
     "metadata": {},
     "output_type": "execute_result"
    }
   ],
   "source": [
    "train"
   ]
  },
  {
   "cell_type": "code",
   "execution_count": 123,
   "metadata": {},
   "outputs": [],
   "source": [
    "# test['prev_click_time'] = test.groupby('ip')['click_time'].shift(1)\n",
    "# test['next_click_time'] = test.groupby('ip')['click_time'].shift(-1)\n",
    "\n",
    "# # 시간 차이 계산\n",
    "# test['prev_click_time_diff'] = (test['click_time'] - test['prev_click_time']).dt.total_seconds()\n",
    "# test['next_click_time_diff'] = (test['next_click_time'] - test['click_time']).dt.total_seconds()\n",
    "\n",
    "# # 불필요한 열 삭제\n",
    "# test.drop(columns=['prev_click_time', 'next_click_time'], inplace=True)\n",
    "# test"
   ]
  },
  {
   "cell_type": "code",
   "execution_count": 124,
   "metadata": {},
   "outputs": [
    {
     "name": "stdout",
     "output_type": "stream",
     "text": [
      "CPU times: total: 0 ns\n",
      "Wall time: 0 ns\n"
     ]
    }
   ],
   "source": [
    "%%time\n",
    "if add_click_test == 'ON' :\n",
    "    for combo in all_combinations:\n",
    "        combo_list = list(combo)  # 튜플을 리스트로 변환\n",
    "\n",
    "        for i in range(1, 6):\n",
    "            test[f'prev_click_time_{\"_\".join(combo_list)}_{i}'] = test.groupby(combo_list)['click_time'].shift(i)\n",
    "\n",
    "        # 이전 클릭 시간 차이를 계산\n",
    "        for i in range(1, 6):\n",
    "            test[f'prev_click_time_{\"_\".join(combo_list)}_{i}'] = (test['click_time'] - test[f'prev_click_time_{\"_\".join(combo_list)}_{i}']).dt.total_seconds()\n",
    "\n",
    "        # 시간 차이의 평균 계산 (NaN 제외)\n",
    "        test[f'prev_click_time_diff_{\"_\".join(combo_list)}'] = test[[f'prev_click_time_{\"_\".join(combo_list)}_{i}' for i in range(1, 6)]].mean(axis=1)\n",
    "        test.drop(columns=[f'prev_click_time_{\"_\".join(combo_list)}_{i}' for i in range(1, 6)], inplace=True)\n",
    "        print(combo)\n",
    "\n",
    "    test"
   ]
  },
  {
   "cell_type": "code",
   "execution_count": 125,
   "metadata": {},
   "outputs": [
    {
     "name": "stdout",
     "output_type": "stream",
     "text": [
      "CPU times: total: 0 ns\n",
      "Wall time: 0 ns\n"
     ]
    }
   ],
   "source": [
    "%%time\n",
    "\n",
    "if add_click_test == 'ON' :\n",
    "    for combo in all_combinations:\n",
    "        combo_list = list(combo)  # 튜플을 리스트로 변환\n",
    "\n",
    "        for i in range(1, 6):\n",
    "            test[f'next_click_time_{\"_\".join(combo_list)}_{i}'] = test.groupby(combo_list)['click_time'].shift(-i)\n",
    "\n",
    "        # 다음 클릭 시간 차이를 계산\n",
    "        for i in range(1, 6):\n",
    "            test[f'next_click_time_{\"_\".join(combo_list)}_{i}'] = (test[f'next_click_time_{\"_\".join(combo_list)}_{i}'] - test['click_time']).dt.total_seconds()\n",
    "\n",
    "        # 시간 차이의 평균 계산 (NaN 제외)\n",
    "        test[f'next_click_time_diff_{\"_\".join(combo_list)}'] = test[[f'next_click_time_{\"_\".join(combo_list)}_{i}' for i in range(1, 6)]].mean(axis=1)\n",
    "        test.drop(columns=[f'next_click_time_{\"_\".join(combo_list)}_{i}' for i in range(1, 6)], inplace=True)\n",
    "        print(combo)\n",
    "\n",
    "    test"
   ]
  },
  {
   "cell_type": "code",
   "execution_count": 126,
   "metadata": {},
   "outputs": [],
   "source": [
    "# %%time\n",
    "# import itertools\n",
    "\n",
    "# # Print all combinations\n",
    "# for combo in all_combinations:\n",
    "# #    print(combo)\n",
    "    \n",
    "#     for i in range(1, 6):\n",
    "#         test[f'next_click_time_{combo}_{i}'] = test.groupby(combo)['click_time'].shift(-i)\n",
    "\n",
    "#     # Time differences for previous clicks (1 to 5)\n",
    "#     for i in range(1, 6):\n",
    "#         test[f'next_click_time_{combo}_{i}'] = (test[f'next_click_time_{combo}_{i}'] - test['click_time']).dt.total_seconds()\n",
    "\n",
    "#     # Mean of time differences, ignoring NaNs\n",
    "#     test[f'next_click_time_diff_{combo}'] = test[[f'next_click_time_{combo}_{i}' for i in range(1, 6)]].mean(axis=1)\n",
    "#     test.drop(columns=[f'next_click_time_{combo}_{i}' for i in range(1, 6)], inplace=True)\n",
    "#     print(combo)\n",
    "\n",
    "# test"
   ]
  },
  {
   "cell_type": "markdown",
   "metadata": {},
   "source": [
    "## 평균값 파생피쳐"
   ]
  },
  {
   "cell_type": "code",
   "execution_count": 127,
   "metadata": {},
   "outputs": [],
   "source": [
    "# col = ['ip', 'app', 'device', 'os', 'channel']\n",
    "# ip_avg_attributed_train = train.groupby(['ip', 'app', 'device', 'os', 'channel'])['is_attributed'].mean().reset_index()\n",
    "# ip_avg_attributed_train.columns = col + ['ip_avg_attributed']\n",
    "\n",
    "# test = test.merge(ip_avg_attributed_train, on=col, how='left')\n",
    "\n",
    "# # train 데이터 프레임에도 같은 방식으로 ip별 평균 attributed 값을 병합\n",
    "# train = train.merge(ip_avg_attributed_train, on=col, how='left')"
   ]
  },
  {
   "cell_type": "code",
   "execution_count": 128,
   "metadata": {},
   "outputs": [],
   "source": [
    "# ip_avg_attributed_train"
   ]
  },
  {
   "cell_type": "code",
   "execution_count": 129,
   "metadata": {},
   "outputs": [],
   "source": [
    "# col = ['ip', 'app', 'device', 'os', 'channel']\n",
    "# ip_avg_attributed_train = train.groupby(['ip', 'app', 'device', 'os', 'channel'])['is_attributed'].mean().reset_index()"
   ]
  },
  {
   "cell_type": "code",
   "execution_count": 130,
   "metadata": {},
   "outputs": [],
   "source": [
    "# ip_avg_attributed_train['ip_avg_attributed'].describe()"
   ]
  },
  {
   "cell_type": "code",
   "execution_count": 131,
   "metadata": {},
   "outputs": [
    {
     "name": "stdout",
     "output_type": "stream",
     "text": [
      "True\n"
     ]
    }
   ],
   "source": [
    "print('attributed_time' in train.columns )"
   ]
  },
  {
   "cell_type": "code",
   "execution_count": 132,
   "metadata": {},
   "outputs": [
    {
     "data": {
      "text/html": [
       "<div>\n",
       "<style scoped>\n",
       "    .dataframe tbody tr th:only-of-type {\n",
       "        vertical-align: middle;\n",
       "    }\n",
       "\n",
       "    .dataframe tbody tr th {\n",
       "        vertical-align: top;\n",
       "    }\n",
       "\n",
       "    .dataframe thead th {\n",
       "        text-align: right;\n",
       "    }\n",
       "</style>\n",
       "<table border=\"1\" class=\"dataframe\">\n",
       "  <thead>\n",
       "    <tr style=\"text-align: right;\">\n",
       "      <th></th>\n",
       "      <th>ip</th>\n",
       "      <th>app</th>\n",
       "      <th>device</th>\n",
       "      <th>os</th>\n",
       "      <th>channel</th>\n",
       "      <th>click_time</th>\n",
       "      <th>is_attributed</th>\n",
       "      <th>real_clicks_1hr</th>\n",
       "      <th>real_clicks_6hr</th>\n",
       "    </tr>\n",
       "  </thead>\n",
       "  <tbody>\n",
       "    <tr>\n",
       "      <th>54955</th>\n",
       "      <td>48646</td>\n",
       "      <td>12</td>\n",
       "      <td>1</td>\n",
       "      <td>19</td>\n",
       "      <td>178</td>\n",
       "      <td>2017-11-06 16:00:00</td>\n",
       "      <td>0</td>\n",
       "      <td>2</td>\n",
       "      <td>2</td>\n",
       "    </tr>\n",
       "    <tr>\n",
       "      <th>28314</th>\n",
       "      <td>93836</td>\n",
       "      <td>12</td>\n",
       "      <td>1</td>\n",
       "      <td>30</td>\n",
       "      <td>328</td>\n",
       "      <td>2017-11-06 16:00:09</td>\n",
       "      <td>0</td>\n",
       "      <td>2</td>\n",
       "      <td>2</td>\n",
       "    </tr>\n",
       "    <tr>\n",
       "      <th>31830</th>\n",
       "      <td>5314</td>\n",
       "      <td>8</td>\n",
       "      <td>1</td>\n",
       "      <td>13</td>\n",
       "      <td>145</td>\n",
       "      <td>2017-11-06 16:00:09</td>\n",
       "      <td>0</td>\n",
       "      <td>3</td>\n",
       "      <td>3</td>\n",
       "    </tr>\n",
       "    <tr>\n",
       "      <th>99357</th>\n",
       "      <td>73954</td>\n",
       "      <td>23</td>\n",
       "      <td>1</td>\n",
       "      <td>19</td>\n",
       "      <td>153</td>\n",
       "      <td>2017-11-06 16:00:11</td>\n",
       "      <td>0</td>\n",
       "      <td>2</td>\n",
       "      <td>3</td>\n",
       "    </tr>\n",
       "    <tr>\n",
       "      <th>83228</th>\n",
       "      <td>91574</td>\n",
       "      <td>3</td>\n",
       "      <td>1</td>\n",
       "      <td>17</td>\n",
       "      <td>135</td>\n",
       "      <td>2017-11-06 16:00:11</td>\n",
       "      <td>0</td>\n",
       "      <td>1</td>\n",
       "      <td>1</td>\n",
       "    </tr>\n",
       "    <tr>\n",
       "      <th>...</th>\n",
       "      <td>...</td>\n",
       "      <td>...</td>\n",
       "      <td>...</td>\n",
       "      <td>...</td>\n",
       "      <td>...</td>\n",
       "      <td>...</td>\n",
       "      <td>...</td>\n",
       "      <td>...</td>\n",
       "      <td>...</td>\n",
       "    </tr>\n",
       "    <tr>\n",
       "      <th>75024</th>\n",
       "      <td>85592</td>\n",
       "      <td>12</td>\n",
       "      <td>1</td>\n",
       "      <td>13</td>\n",
       "      <td>145</td>\n",
       "      <td>2017-11-09 15:59:42</td>\n",
       "      <td>0</td>\n",
       "      <td>1</td>\n",
       "      <td>2</td>\n",
       "    </tr>\n",
       "    <tr>\n",
       "      <th>83818</th>\n",
       "      <td>91779</td>\n",
       "      <td>18</td>\n",
       "      <td>1</td>\n",
       "      <td>41</td>\n",
       "      <td>379</td>\n",
       "      <td>2017-11-09 15:59:43</td>\n",
       "      <td>0</td>\n",
       "      <td>1</td>\n",
       "      <td>1</td>\n",
       "    </tr>\n",
       "    <tr>\n",
       "      <th>17634</th>\n",
       "      <td>81374</td>\n",
       "      <td>14</td>\n",
       "      <td>1</td>\n",
       "      <td>25</td>\n",
       "      <td>118</td>\n",
       "      <td>2017-11-09 15:59:44</td>\n",
       "      <td>0</td>\n",
       "      <td>1</td>\n",
       "      <td>1</td>\n",
       "    </tr>\n",
       "    <tr>\n",
       "      <th>41817</th>\n",
       "      <td>11911</td>\n",
       "      <td>1</td>\n",
       "      <td>1</td>\n",
       "      <td>22</td>\n",
       "      <td>115</td>\n",
       "      <td>2017-11-09 15:59:46</td>\n",
       "      <td>0</td>\n",
       "      <td>1</td>\n",
       "      <td>1</td>\n",
       "    </tr>\n",
       "    <tr>\n",
       "      <th>23038</th>\n",
       "      <td>44018</td>\n",
       "      <td>13</td>\n",
       "      <td>1</td>\n",
       "      <td>19</td>\n",
       "      <td>477</td>\n",
       "      <td>2017-11-09 15:59:51</td>\n",
       "      <td>0</td>\n",
       "      <td>1</td>\n",
       "      <td>1</td>\n",
       "    </tr>\n",
       "  </tbody>\n",
       "</table>\n",
       "<p>100000 rows × 9 columns</p>\n",
       "</div>"
      ],
      "text/plain": [
       "          ip  app  device  os  channel          click_time  is_attributed  \\\n",
       "54955  48646   12       1  19      178 2017-11-06 16:00:00              0   \n",
       "28314  93836   12       1  30      328 2017-11-06 16:00:09              0   \n",
       "31830   5314    8       1  13      145 2017-11-06 16:00:09              0   \n",
       "99357  73954   23       1  19      153 2017-11-06 16:00:11              0   \n",
       "83228  91574    3       1  17      135 2017-11-06 16:00:11              0   \n",
       "...      ...  ...     ...  ..      ...                 ...            ...   \n",
       "75024  85592   12       1  13      145 2017-11-09 15:59:42              0   \n",
       "83818  91779   18       1  41      379 2017-11-09 15:59:43              0   \n",
       "17634  81374   14       1  25      118 2017-11-09 15:59:44              0   \n",
       "41817  11911    1       1  22      115 2017-11-09 15:59:46              0   \n",
       "23038  44018   13       1  19      477 2017-11-09 15:59:51              0   \n",
       "\n",
       "       real_clicks_1hr  real_clicks_6hr  \n",
       "54955                2                2  \n",
       "28314                2                2  \n",
       "31830                3                3  \n",
       "99357                2                3  \n",
       "83228                1                1  \n",
       "...                ...              ...  \n",
       "75024                1                2  \n",
       "83818                1                1  \n",
       "17634                1                1  \n",
       "41817                1                1  \n",
       "23038                1                1  \n",
       "\n",
       "[100000 rows x 9 columns]"
      ]
     },
     "execution_count": 132,
     "metadata": {},
     "output_type": "execute_result"
    }
   ],
   "source": [
    "if 'attributed_time' in train.columns :\n",
    "    train = train.drop('attributed_time', axis = 1)\n",
    "train"
   ]
  },
  {
   "cell_type": "code",
   "execution_count": 133,
   "metadata": {},
   "outputs": [
    {
     "name": "stdout",
     "output_type": "stream",
     "text": [
      "False\n"
     ]
    }
   ],
   "source": [
    "print('attributed_time' in train.columns )"
   ]
  },
  {
   "cell_type": "code",
   "execution_count": 134,
   "metadata": {},
   "outputs": [
    {
     "data": {
      "text/html": [
       "<div>\n",
       "<style scoped>\n",
       "    .dataframe tbody tr th:only-of-type {\n",
       "        vertical-align: middle;\n",
       "    }\n",
       "\n",
       "    .dataframe tbody tr th {\n",
       "        vertical-align: top;\n",
       "    }\n",
       "\n",
       "    .dataframe thead th {\n",
       "        text-align: right;\n",
       "    }\n",
       "</style>\n",
       "<table border=\"1\" class=\"dataframe\">\n",
       "  <thead>\n",
       "    <tr style=\"text-align: right;\">\n",
       "      <th></th>\n",
       "      <th>click_id</th>\n",
       "      <th>ip</th>\n",
       "      <th>app</th>\n",
       "      <th>device</th>\n",
       "      <th>os</th>\n",
       "      <th>channel</th>\n",
       "      <th>click_time</th>\n",
       "      <th>real_clicks_1hr</th>\n",
       "      <th>real_clicks_6hr</th>\n",
       "    </tr>\n",
       "  </thead>\n",
       "  <tbody>\n",
       "    <tr>\n",
       "      <th>0</th>\n",
       "      <td>0</td>\n",
       "      <td>5744</td>\n",
       "      <td>9</td>\n",
       "      <td>1</td>\n",
       "      <td>3</td>\n",
       "      <td>107</td>\n",
       "      <td>2017-11-10 04:00:00</td>\n",
       "      <td>34</td>\n",
       "      <td>50</td>\n",
       "    </tr>\n",
       "    <tr>\n",
       "      <th>1</th>\n",
       "      <td>1</td>\n",
       "      <td>119901</td>\n",
       "      <td>9</td>\n",
       "      <td>1</td>\n",
       "      <td>3</td>\n",
       "      <td>466</td>\n",
       "      <td>2017-11-10 04:00:00</td>\n",
       "      <td>403</td>\n",
       "      <td>747</td>\n",
       "    </tr>\n",
       "    <tr>\n",
       "      <th>2</th>\n",
       "      <td>2</td>\n",
       "      <td>72287</td>\n",
       "      <td>21</td>\n",
       "      <td>1</td>\n",
       "      <td>19</td>\n",
       "      <td>128</td>\n",
       "      <td>2017-11-10 04:00:00</td>\n",
       "      <td>229</td>\n",
       "      <td>500</td>\n",
       "    </tr>\n",
       "    <tr>\n",
       "      <th>3</th>\n",
       "      <td>3</td>\n",
       "      <td>78477</td>\n",
       "      <td>15</td>\n",
       "      <td>1</td>\n",
       "      <td>13</td>\n",
       "      <td>111</td>\n",
       "      <td>2017-11-10 04:00:00</td>\n",
       "      <td>239</td>\n",
       "      <td>476</td>\n",
       "    </tr>\n",
       "    <tr>\n",
       "      <th>4</th>\n",
       "      <td>4</td>\n",
       "      <td>123080</td>\n",
       "      <td>12</td>\n",
       "      <td>1</td>\n",
       "      <td>13</td>\n",
       "      <td>328</td>\n",
       "      <td>2017-11-10 04:00:00</td>\n",
       "      <td>60</td>\n",
       "      <td>68</td>\n",
       "    </tr>\n",
       "    <tr>\n",
       "      <th>...</th>\n",
       "      <td>...</td>\n",
       "      <td>...</td>\n",
       "      <td>...</td>\n",
       "      <td>...</td>\n",
       "      <td>...</td>\n",
       "      <td>...</td>\n",
       "      <td>...</td>\n",
       "      <td>...</td>\n",
       "      <td>...</td>\n",
       "    </tr>\n",
       "    <tr>\n",
       "      <th>18790464</th>\n",
       "      <td>18790464</td>\n",
       "      <td>99442</td>\n",
       "      <td>9</td>\n",
       "      <td>1</td>\n",
       "      <td>13</td>\n",
       "      <td>127</td>\n",
       "      <td>2017-11-10 15:00:00</td>\n",
       "      <td>2</td>\n",
       "      <td>8</td>\n",
       "    </tr>\n",
       "    <tr>\n",
       "      <th>18790465</th>\n",
       "      <td>18790465</td>\n",
       "      <td>88046</td>\n",
       "      <td>23</td>\n",
       "      <td>1</td>\n",
       "      <td>37</td>\n",
       "      <td>153</td>\n",
       "      <td>2017-11-10 15:00:00</td>\n",
       "      <td>1</td>\n",
       "      <td>396</td>\n",
       "    </tr>\n",
       "    <tr>\n",
       "      <th>18790466</th>\n",
       "      <td>18790467</td>\n",
       "      <td>81398</td>\n",
       "      <td>18</td>\n",
       "      <td>1</td>\n",
       "      <td>17</td>\n",
       "      <td>265</td>\n",
       "      <td>2017-11-10 15:00:00</td>\n",
       "      <td>2</td>\n",
       "      <td>374</td>\n",
       "    </tr>\n",
       "    <tr>\n",
       "      <th>18790467</th>\n",
       "      <td>18790466</td>\n",
       "      <td>123236</td>\n",
       "      <td>27</td>\n",
       "      <td>1</td>\n",
       "      <td>13</td>\n",
       "      <td>122</td>\n",
       "      <td>2017-11-10 15:00:00</td>\n",
       "      <td>1</td>\n",
       "      <td>79</td>\n",
       "    </tr>\n",
       "    <tr>\n",
       "      <th>18790468</th>\n",
       "      <td>18790468</td>\n",
       "      <td>73516</td>\n",
       "      <td>12</td>\n",
       "      <td>2</td>\n",
       "      <td>27</td>\n",
       "      <td>265</td>\n",
       "      <td>2017-11-10 15:00:00</td>\n",
       "      <td>4</td>\n",
       "      <td>34296</td>\n",
       "    </tr>\n",
       "  </tbody>\n",
       "</table>\n",
       "<p>18790469 rows × 9 columns</p>\n",
       "</div>"
      ],
      "text/plain": [
       "          click_id      ip  app  device  os  channel          click_time  \\\n",
       "0                0    5744    9       1   3      107 2017-11-10 04:00:00   \n",
       "1                1  119901    9       1   3      466 2017-11-10 04:00:00   \n",
       "2                2   72287   21       1  19      128 2017-11-10 04:00:00   \n",
       "3                3   78477   15       1  13      111 2017-11-10 04:00:00   \n",
       "4                4  123080   12       1  13      328 2017-11-10 04:00:00   \n",
       "...            ...     ...  ...     ...  ..      ...                 ...   \n",
       "18790464  18790464   99442    9       1  13      127 2017-11-10 15:00:00   \n",
       "18790465  18790465   88046   23       1  37      153 2017-11-10 15:00:00   \n",
       "18790466  18790467   81398   18       1  17      265 2017-11-10 15:00:00   \n",
       "18790467  18790466  123236   27       1  13      122 2017-11-10 15:00:00   \n",
       "18790468  18790468   73516   12       2  27      265 2017-11-10 15:00:00   \n",
       "\n",
       "          real_clicks_1hr  real_clicks_6hr  \n",
       "0                      34               50  \n",
       "1                     403              747  \n",
       "2                     229              500  \n",
       "3                     239              476  \n",
       "4                      60               68  \n",
       "...                   ...              ...  \n",
       "18790464                2                8  \n",
       "18790465                1              396  \n",
       "18790466                2              374  \n",
       "18790467                1               79  \n",
       "18790468                4            34296  \n",
       "\n",
       "[18790469 rows x 9 columns]"
      ]
     },
     "execution_count": 134,
     "metadata": {},
     "output_type": "execute_result"
    }
   ],
   "source": [
    "test"
   ]
  },
  {
   "cell_type": "markdown",
   "metadata": {
    "id": "6FxmwVl0tTtJ"
   },
   "source": [
    "## category features"
   ]
  },
  {
   "cell_type": "code",
   "execution_count": 135,
   "metadata": {
    "colab": {
     "base_uri": "https://localhost:8080/"
    },
    "executionInfo": {
     "elapsed": 52,
     "status": "ok",
     "timestamp": 1716950896583,
     "user": {
      "displayName": "Lee Minjik",
      "userId": "03992121075759719709"
     },
     "user_tz": -540
    },
    "id": "bugldQIlrb7W",
    "outputId": "eafc9e94-9a41-4bbf-9bc4-c84d9a068691"
   },
   "outputs": [],
   "source": [
    "obj_list = train.select_dtypes(include='object').columns.tolist()\n",
    "cat_fts += obj_list\n",
    "\n",
    "for df in [train, test]:\n",
    "    for ft in obj_list:\n",
    "        df[ft] = df[ft].astype('category')\n",
    "\n",
    "if EDA_Mode == 'ON' :\n",
    "    print(\"Train cat_fts: \", train.select_dtypes(include='category').columns.tolist())\n",
    "    print(\"Test  cat_fts: \", test.select_dtypes(include='category').columns.tolist())"
   ]
  },
  {
   "cell_type": "code",
   "execution_count": 136,
   "metadata": {},
   "outputs": [
    {
     "data": {
      "text/plain": [
       "[]"
      ]
     },
     "execution_count": 136,
     "metadata": {},
     "output_type": "execute_result"
    }
   ],
   "source": [
    "obj_list"
   ]
  },
  {
   "cell_type": "code",
   "execution_count": 137,
   "metadata": {
    "executionInfo": {
     "elapsed": 48,
     "status": "ok",
     "timestamp": 1716950896583,
     "user": {
      "displayName": "Lee Minjik",
      "userId": "03992121075759719709"
     },
     "user_tz": -540
    },
    "id": "KXFUTEXzBuZz"
   },
   "outputs": [],
   "source": [
    "# def target_mean_encoding(ft):\n",
    "#     sorted_df = train.groupby(ft)[Target].mean().sort_values().reset_index()\n",
    "#     sorted_df['code'] = range(len(sorted_df))\n",
    "#     encoding_dict = sorted_df.set_index(ft)['code'].to_dict()\n",
    "#     return encoding_dict\n",
    "\n",
    "# cat_list = train.select_dtypes(include='category').columns.tolist()\n",
    "# cat_list.remove('ID')\n",
    "\n",
    "# for ft in cat_list:\n",
    "#     encoding_dict = target_mean_encoding(ft)\n",
    "#     print(encoding_dict)\n",
    "#     train[ft+'_code'] = train[ft].map(encoding_dict).astype(int)\n",
    "#     test[ft+'_code'] = test[ft].map(encoding_dict).astype(int)"
   ]
  },
  {
   "cell_type": "code",
   "execution_count": null,
   "metadata": {},
   "outputs": [],
   "source": []
  },
  {
   "cell_type": "markdown",
   "metadata": {
    "id": "0044f503-67f7-4616-8c02-b72b99786798"
   },
   "source": [
    "# 학습"
   ]
  },
  {
   "cell_type": "markdown",
   "metadata": {},
   "source": [
    "## down_sampling"
   ]
  },
  {
   "cell_type": "code",
   "execution_count": 138,
   "metadata": {},
   "outputs": [
    {
     "data": {
      "text/html": [
       "<div>\n",
       "<style scoped>\n",
       "    .dataframe tbody tr th:only-of-type {\n",
       "        vertical-align: middle;\n",
       "    }\n",
       "\n",
       "    .dataframe tbody tr th {\n",
       "        vertical-align: top;\n",
       "    }\n",
       "\n",
       "    .dataframe thead th {\n",
       "        text-align: right;\n",
       "    }\n",
       "</style>\n",
       "<table border=\"1\" class=\"dataframe\">\n",
       "  <thead>\n",
       "    <tr style=\"text-align: right;\">\n",
       "      <th></th>\n",
       "      <th>ip</th>\n",
       "      <th>app</th>\n",
       "      <th>device</th>\n",
       "      <th>os</th>\n",
       "      <th>channel</th>\n",
       "      <th>click_time</th>\n",
       "      <th>is_attributed</th>\n",
       "      <th>real_clicks_1hr</th>\n",
       "      <th>real_clicks_6hr</th>\n",
       "    </tr>\n",
       "  </thead>\n",
       "  <tbody>\n",
       "    <tr>\n",
       "      <th>54955</th>\n",
       "      <td>48646</td>\n",
       "      <td>12</td>\n",
       "      <td>1</td>\n",
       "      <td>19</td>\n",
       "      <td>178</td>\n",
       "      <td>2017-11-06 16:00:00</td>\n",
       "      <td>0</td>\n",
       "      <td>2</td>\n",
       "      <td>2</td>\n",
       "    </tr>\n",
       "    <tr>\n",
       "      <th>28314</th>\n",
       "      <td>93836</td>\n",
       "      <td>12</td>\n",
       "      <td>1</td>\n",
       "      <td>30</td>\n",
       "      <td>328</td>\n",
       "      <td>2017-11-06 16:00:09</td>\n",
       "      <td>0</td>\n",
       "      <td>2</td>\n",
       "      <td>2</td>\n",
       "    </tr>\n",
       "    <tr>\n",
       "      <th>31830</th>\n",
       "      <td>5314</td>\n",
       "      <td>8</td>\n",
       "      <td>1</td>\n",
       "      <td>13</td>\n",
       "      <td>145</td>\n",
       "      <td>2017-11-06 16:00:09</td>\n",
       "      <td>0</td>\n",
       "      <td>3</td>\n",
       "      <td>3</td>\n",
       "    </tr>\n",
       "    <tr>\n",
       "      <th>99357</th>\n",
       "      <td>73954</td>\n",
       "      <td>23</td>\n",
       "      <td>1</td>\n",
       "      <td>19</td>\n",
       "      <td>153</td>\n",
       "      <td>2017-11-06 16:00:11</td>\n",
       "      <td>0</td>\n",
       "      <td>2</td>\n",
       "      <td>3</td>\n",
       "    </tr>\n",
       "    <tr>\n",
       "      <th>83228</th>\n",
       "      <td>91574</td>\n",
       "      <td>3</td>\n",
       "      <td>1</td>\n",
       "      <td>17</td>\n",
       "      <td>135</td>\n",
       "      <td>2017-11-06 16:00:11</td>\n",
       "      <td>0</td>\n",
       "      <td>1</td>\n",
       "      <td>1</td>\n",
       "    </tr>\n",
       "    <tr>\n",
       "      <th>...</th>\n",
       "      <td>...</td>\n",
       "      <td>...</td>\n",
       "      <td>...</td>\n",
       "      <td>...</td>\n",
       "      <td>...</td>\n",
       "      <td>...</td>\n",
       "      <td>...</td>\n",
       "      <td>...</td>\n",
       "      <td>...</td>\n",
       "    </tr>\n",
       "    <tr>\n",
       "      <th>75024</th>\n",
       "      <td>85592</td>\n",
       "      <td>12</td>\n",
       "      <td>1</td>\n",
       "      <td>13</td>\n",
       "      <td>145</td>\n",
       "      <td>2017-11-09 15:59:42</td>\n",
       "      <td>0</td>\n",
       "      <td>1</td>\n",
       "      <td>2</td>\n",
       "    </tr>\n",
       "    <tr>\n",
       "      <th>83818</th>\n",
       "      <td>91779</td>\n",
       "      <td>18</td>\n",
       "      <td>1</td>\n",
       "      <td>41</td>\n",
       "      <td>379</td>\n",
       "      <td>2017-11-09 15:59:43</td>\n",
       "      <td>0</td>\n",
       "      <td>1</td>\n",
       "      <td>1</td>\n",
       "    </tr>\n",
       "    <tr>\n",
       "      <th>17634</th>\n",
       "      <td>81374</td>\n",
       "      <td>14</td>\n",
       "      <td>1</td>\n",
       "      <td>25</td>\n",
       "      <td>118</td>\n",
       "      <td>2017-11-09 15:59:44</td>\n",
       "      <td>0</td>\n",
       "      <td>1</td>\n",
       "      <td>1</td>\n",
       "    </tr>\n",
       "    <tr>\n",
       "      <th>41817</th>\n",
       "      <td>11911</td>\n",
       "      <td>1</td>\n",
       "      <td>1</td>\n",
       "      <td>22</td>\n",
       "      <td>115</td>\n",
       "      <td>2017-11-09 15:59:46</td>\n",
       "      <td>0</td>\n",
       "      <td>1</td>\n",
       "      <td>1</td>\n",
       "    </tr>\n",
       "    <tr>\n",
       "      <th>23038</th>\n",
       "      <td>44018</td>\n",
       "      <td>13</td>\n",
       "      <td>1</td>\n",
       "      <td>19</td>\n",
       "      <td>477</td>\n",
       "      <td>2017-11-09 15:59:51</td>\n",
       "      <td>0</td>\n",
       "      <td>1</td>\n",
       "      <td>1</td>\n",
       "    </tr>\n",
       "  </tbody>\n",
       "</table>\n",
       "<p>100000 rows × 9 columns</p>\n",
       "</div>"
      ],
      "text/plain": [
       "          ip  app  device  os  channel          click_time  is_attributed  \\\n",
       "54955  48646   12       1  19      178 2017-11-06 16:00:00              0   \n",
       "28314  93836   12       1  30      328 2017-11-06 16:00:09              0   \n",
       "31830   5314    8       1  13      145 2017-11-06 16:00:09              0   \n",
       "99357  73954   23       1  19      153 2017-11-06 16:00:11              0   \n",
       "83228  91574    3       1  17      135 2017-11-06 16:00:11              0   \n",
       "...      ...  ...     ...  ..      ...                 ...            ...   \n",
       "75024  85592   12       1  13      145 2017-11-09 15:59:42              0   \n",
       "83818  91779   18       1  41      379 2017-11-09 15:59:43              0   \n",
       "17634  81374   14       1  25      118 2017-11-09 15:59:44              0   \n",
       "41817  11911    1       1  22      115 2017-11-09 15:59:46              0   \n",
       "23038  44018   13       1  19      477 2017-11-09 15:59:51              0   \n",
       "\n",
       "       real_clicks_1hr  real_clicks_6hr  \n",
       "54955                2                2  \n",
       "28314                2                2  \n",
       "31830                3                3  \n",
       "99357                2                3  \n",
       "83228                1                1  \n",
       "...                ...              ...  \n",
       "75024                1                2  \n",
       "83818                1                1  \n",
       "17634                1                1  \n",
       "41817                1                1  \n",
       "23038                1                1  \n",
       "\n",
       "[100000 rows x 9 columns]"
      ]
     },
     "execution_count": 138,
     "metadata": {},
     "output_type": "execute_result"
    }
   ],
   "source": [
    "train"
   ]
  },
  {
   "cell_type": "code",
   "execution_count": 139,
   "metadata": {},
   "outputs": [],
   "source": [
    "train = train.sort_values(by='click_time')"
   ]
  },
  {
   "cell_type": "code",
   "execution_count": 140,
   "metadata": {},
   "outputs": [
    {
     "data": {
      "text/plain": [
       "True"
      ]
     },
     "execution_count": 140,
     "metadata": {},
     "output_type": "execute_result"
    }
   ],
   "source": [
    "is_sorted = train['click_time'].is_monotonic_increasing\n",
    "is_sorted"
   ]
  },
  {
   "cell_type": "code",
   "execution_count": 141,
   "metadata": {},
   "outputs": [
    {
     "data": {
      "text/html": [
       "<div>\n",
       "<style scoped>\n",
       "    .dataframe tbody tr th:only-of-type {\n",
       "        vertical-align: middle;\n",
       "    }\n",
       "\n",
       "    .dataframe tbody tr th {\n",
       "        vertical-align: top;\n",
       "    }\n",
       "\n",
       "    .dataframe thead th {\n",
       "        text-align: right;\n",
       "    }\n",
       "</style>\n",
       "<table border=\"1\" class=\"dataframe\">\n",
       "  <thead>\n",
       "    <tr style=\"text-align: right;\">\n",
       "      <th></th>\n",
       "      <th>ip</th>\n",
       "      <th>app</th>\n",
       "      <th>device</th>\n",
       "      <th>os</th>\n",
       "      <th>channel</th>\n",
       "      <th>click_time</th>\n",
       "      <th>is_attributed</th>\n",
       "      <th>real_clicks_1hr</th>\n",
       "      <th>real_clicks_6hr</th>\n",
       "    </tr>\n",
       "  </thead>\n",
       "  <tbody>\n",
       "    <tr>\n",
       "      <th>54955</th>\n",
       "      <td>48646</td>\n",
       "      <td>12</td>\n",
       "      <td>1</td>\n",
       "      <td>19</td>\n",
       "      <td>178</td>\n",
       "      <td>2017-11-06 16:00:00</td>\n",
       "      <td>0</td>\n",
       "      <td>2</td>\n",
       "      <td>2</td>\n",
       "    </tr>\n",
       "    <tr>\n",
       "      <th>28314</th>\n",
       "      <td>93836</td>\n",
       "      <td>12</td>\n",
       "      <td>1</td>\n",
       "      <td>30</td>\n",
       "      <td>328</td>\n",
       "      <td>2017-11-06 16:00:09</td>\n",
       "      <td>0</td>\n",
       "      <td>2</td>\n",
       "      <td>2</td>\n",
       "    </tr>\n",
       "    <tr>\n",
       "      <th>31830</th>\n",
       "      <td>5314</td>\n",
       "      <td>8</td>\n",
       "      <td>1</td>\n",
       "      <td>13</td>\n",
       "      <td>145</td>\n",
       "      <td>2017-11-06 16:00:09</td>\n",
       "      <td>0</td>\n",
       "      <td>3</td>\n",
       "      <td>3</td>\n",
       "    </tr>\n",
       "    <tr>\n",
       "      <th>99357</th>\n",
       "      <td>73954</td>\n",
       "      <td>23</td>\n",
       "      <td>1</td>\n",
       "      <td>19</td>\n",
       "      <td>153</td>\n",
       "      <td>2017-11-06 16:00:11</td>\n",
       "      <td>0</td>\n",
       "      <td>2</td>\n",
       "      <td>3</td>\n",
       "    </tr>\n",
       "    <tr>\n",
       "      <th>83228</th>\n",
       "      <td>91574</td>\n",
       "      <td>3</td>\n",
       "      <td>1</td>\n",
       "      <td>17</td>\n",
       "      <td>135</td>\n",
       "      <td>2017-11-06 16:00:11</td>\n",
       "      <td>0</td>\n",
       "      <td>1</td>\n",
       "      <td>1</td>\n",
       "    </tr>\n",
       "    <tr>\n",
       "      <th>...</th>\n",
       "      <td>...</td>\n",
       "      <td>...</td>\n",
       "      <td>...</td>\n",
       "      <td>...</td>\n",
       "      <td>...</td>\n",
       "      <td>...</td>\n",
       "      <td>...</td>\n",
       "      <td>...</td>\n",
       "      <td>...</td>\n",
       "    </tr>\n",
       "    <tr>\n",
       "      <th>75024</th>\n",
       "      <td>85592</td>\n",
       "      <td>12</td>\n",
       "      <td>1</td>\n",
       "      <td>13</td>\n",
       "      <td>145</td>\n",
       "      <td>2017-11-09 15:59:42</td>\n",
       "      <td>0</td>\n",
       "      <td>1</td>\n",
       "      <td>2</td>\n",
       "    </tr>\n",
       "    <tr>\n",
       "      <th>83818</th>\n",
       "      <td>91779</td>\n",
       "      <td>18</td>\n",
       "      <td>1</td>\n",
       "      <td>41</td>\n",
       "      <td>379</td>\n",
       "      <td>2017-11-09 15:59:43</td>\n",
       "      <td>0</td>\n",
       "      <td>1</td>\n",
       "      <td>1</td>\n",
       "    </tr>\n",
       "    <tr>\n",
       "      <th>17634</th>\n",
       "      <td>81374</td>\n",
       "      <td>14</td>\n",
       "      <td>1</td>\n",
       "      <td>25</td>\n",
       "      <td>118</td>\n",
       "      <td>2017-11-09 15:59:44</td>\n",
       "      <td>0</td>\n",
       "      <td>1</td>\n",
       "      <td>1</td>\n",
       "    </tr>\n",
       "    <tr>\n",
       "      <th>41817</th>\n",
       "      <td>11911</td>\n",
       "      <td>1</td>\n",
       "      <td>1</td>\n",
       "      <td>22</td>\n",
       "      <td>115</td>\n",
       "      <td>2017-11-09 15:59:46</td>\n",
       "      <td>0</td>\n",
       "      <td>1</td>\n",
       "      <td>1</td>\n",
       "    </tr>\n",
       "    <tr>\n",
       "      <th>23038</th>\n",
       "      <td>44018</td>\n",
       "      <td>13</td>\n",
       "      <td>1</td>\n",
       "      <td>19</td>\n",
       "      <td>477</td>\n",
       "      <td>2017-11-09 15:59:51</td>\n",
       "      <td>0</td>\n",
       "      <td>1</td>\n",
       "      <td>1</td>\n",
       "    </tr>\n",
       "  </tbody>\n",
       "</table>\n",
       "<p>100000 rows × 9 columns</p>\n",
       "</div>"
      ],
      "text/plain": [
       "          ip  app  device  os  channel          click_time  is_attributed  \\\n",
       "54955  48646   12       1  19      178 2017-11-06 16:00:00              0   \n",
       "28314  93836   12       1  30      328 2017-11-06 16:00:09              0   \n",
       "31830   5314    8       1  13      145 2017-11-06 16:00:09              0   \n",
       "99357  73954   23       1  19      153 2017-11-06 16:00:11              0   \n",
       "83228  91574    3       1  17      135 2017-11-06 16:00:11              0   \n",
       "...      ...  ...     ...  ..      ...                 ...            ...   \n",
       "75024  85592   12       1  13      145 2017-11-09 15:59:42              0   \n",
       "83818  91779   18       1  41      379 2017-11-09 15:59:43              0   \n",
       "17634  81374   14       1  25      118 2017-11-09 15:59:44              0   \n",
       "41817  11911    1       1  22      115 2017-11-09 15:59:46              0   \n",
       "23038  44018   13       1  19      477 2017-11-09 15:59:51              0   \n",
       "\n",
       "       real_clicks_1hr  real_clicks_6hr  \n",
       "54955                2                2  \n",
       "28314                2                2  \n",
       "31830                3                3  \n",
       "99357                2                3  \n",
       "83228                1                1  \n",
       "...                ...              ...  \n",
       "75024                1                2  \n",
       "83818                1                1  \n",
       "17634                1                1  \n",
       "41817                1                1  \n",
       "23038                1                1  \n",
       "\n",
       "[100000 rows x 9 columns]"
      ]
     },
     "execution_count": 141,
     "metadata": {},
     "output_type": "execute_result"
    }
   ],
   "source": [
    "train"
   ]
  },
  {
   "cell_type": "code",
   "execution_count": 142,
   "metadata": {},
   "outputs": [],
   "source": [
    "from sklearn.utils import resample\n",
    "# 다수 클래스와 소수 클래스 분리\n",
    "if down_samp_Mode == 'ON' :\n",
    "    minority_class = train[train['is_attributed'] == 1]\n",
    "    majority_class = train[train['is_attributed'] == 0].head(len(minority_class) * 10)\n",
    "    \n",
    "    # 다수 클래스 다운샘플링\n",
    "    majority_downsampled = resample(majority_class,\n",
    "                                    replace=False,  # 복원 추출하지 않음\n",
    "                                    n_samples=len(minority_class),  # 소수 클래스와 같은 수로 샘플링\n",
    "                                    random_state=42)  # 재현성을 위한 랜덤 스테이트 설정\n",
    "    \n",
    "    # 다운샘플링한 데이터프레임 생성\n",
    "    df_downsampled = pd.concat([majority_downsampled, minority_class])\n",
    "    train = df_downsampled\n",
    "    del df_downsampled\n",
    "    \n",
    "    \n",
    "    print(\"minor: \", len(minority_class))\n",
    "    print(\"major: \", len(majority_class))"
   ]
  },
  {
   "cell_type": "code",
   "execution_count": 143,
   "metadata": {},
   "outputs": [],
   "source": [
    "# from pandas import cut\n",
    "\n",
    "# train_size = int(len(train) * 0.8)\n",
    "# train, test = train.iloc[:train_size], train.iloc[train_size:]"
   ]
  },
  {
   "cell_type": "code",
   "execution_count": 144,
   "metadata": {},
   "outputs": [],
   "source": [
    "# train_size"
   ]
  },
  {
   "cell_type": "code",
   "execution_count": 145,
   "metadata": {},
   "outputs": [
    {
     "name": "stdout",
     "output_type": "stream",
     "text": [
      "Class 0 ratio: 99.77%\n",
      "Class 1 ratio: 0.23%\n"
     ]
    }
   ],
   "source": [
    "# train 데이터셋에서 is_attributed 열 값에 따른 비율 계산\n",
    "attributed_counts = train['is_attributed'].value_counts()\n",
    "total_samples = attributed_counts.sum()\n",
    "\n",
    "# 비율 계산\n",
    "ratio_0 = attributed_counts[0] / total_samples\n",
    "ratio_1 = attributed_counts[1] / total_samples\n",
    "\n",
    "print(f\"Class 0 ratio: {ratio_0:.2%}\")\n",
    "print(f\"Class 1 ratio: {ratio_1:.2%}\")"
   ]
  },
  {
   "cell_type": "code",
   "execution_count": 146,
   "metadata": {},
   "outputs": [
    {
     "data": {
      "text/plain": [
       "Index(['ip', 'app', 'device', 'os', 'channel', 'click_time', 'is_attributed',\n",
       "       'real_clicks_1hr', 'real_clicks_6hr'],\n",
       "      dtype='object')"
      ]
     },
     "execution_count": 146,
     "metadata": {},
     "output_type": "execute_result"
    }
   ],
   "source": [
    "train.columns"
   ]
  },
  {
   "cell_type": "markdown",
   "metadata": {},
   "source": [
    "## LDA"
   ]
  },
  {
   "cell_type": "code",
   "execution_count": 147,
   "metadata": {},
   "outputs": [],
   "source": [
    "# from sklearn.feature_extraction.text import CountVectorizer\n",
    "# from sklearn.decomposition import LatentDirichletAllocation\n",
    "\n",
    "# if LDA_Mode == 'ON':\n",
    "\n",
    "    \n",
    "    \n",
    "#     data_samples = train[['ip', 'app']].to_dict('records')\n",
    "    \n",
    "#     # IP 주소별로 실행된 애플리케이션을 사전 형태로 저장\n",
    "#     apps_of_ip = {}\n",
    "#     for sample in data_samples:\n",
    "#         apps_of_ip.setdefault(sample['ip'], []).append(str(sample['app']))\n",
    "    \n",
    "#     # 각 IP 주소별로 실행된 애플리케이션을 문장 형태로 변환\n",
    "#     ips = list(apps_of_ip.keys())\n",
    "#     apps_as_sentence = [' '.join(apps_of_ip[ip]) for ip in ips]\n",
    "    \n",
    "#     # CountVectorizer를 사용하여 문서-단어 행렬로 변환\n",
    "#     vectorizer = CountVectorizer()\n",
    "#     apps_as_matrix = vectorizer.fit_transform(apps_as_sentence)\n",
    "    \n",
    "#     # LDA 모델을 사용하여 토픽 모델링 수행\n",
    "#     lda = LatentDirichletAllocation(n_components=5, random_state=42)\n",
    "#     topics_of_ips = lda.fit_transform(apps_as_matrix)\n",
    "    \n",
    "#     topics_of_ips"
   ]
  },
  {
   "cell_type": "code",
   "execution_count": 148,
   "metadata": {},
   "outputs": [],
   "source": [
    "# topics_of_ips"
   ]
  },
  {
   "cell_type": "code",
   "execution_count": 149,
   "metadata": {},
   "outputs": [],
   "source": [
    "# %%time\n",
    "\n",
    "# if LDA_Mode == 'ON':\n",
    "#     topics_df = pd.DataFrame(topics_of_ips, columns=[f'topic_{i+1}' for i in range(5)])\n",
    "    \n",
    "#     # IP 주소 열 추가\n",
    "#     topics_df['ip'] = ips\n",
    "\n",
    "# topics_df"
   ]
  },
  {
   "cell_type": "code",
   "execution_count": 150,
   "metadata": {},
   "outputs": [],
   "source": [
    "# train = train.merge(topics_df, on='ip', how='left')\n",
    "# test = test.merge(topics_df, on='ip', how='left')"
   ]
  },
  {
   "cell_type": "code",
   "execution_count": 151,
   "metadata": {},
   "outputs": [],
   "source": [
    "# train"
   ]
  },
  {
   "cell_type": "code",
   "execution_count": 152,
   "metadata": {},
   "outputs": [
    {
     "data": {
      "text/plain": [
       "9"
      ]
     },
     "execution_count": 152,
     "metadata": {},
     "output_type": "execute_result"
    }
   ],
   "source": [
    "len(train.columns)"
   ]
  },
  {
   "cell_type": "code",
   "execution_count": 153,
   "metadata": {},
   "outputs": [],
   "source": [
    "# %%time\n",
    "\n",
    "# from sklearn.feature_extraction.text import CountVectorizer\n",
    "# from sklearn.decomposition import LatentDirichletAllocation\n",
    "# from itertools import permutations\n",
    "\n",
    "# if LDA_Mode == 'ON':\n",
    "#     col = ['ip', 'os', 'app', 'channel', 'device']\n",
    "#     #col = ['ip', 'os']\n",
    "#     ti = 0\n",
    "#     # 모든 2개 조합에 대해 반복\n",
    "#     for i, (var1, var2) in enumerate(permutations(col, 2), start=1):\n",
    "#         ti += 1\n",
    "#         # data_samples 생성\n",
    "#         data_samples = train[[var1, var2]].to_dict('records')\n",
    "        \n",
    "#         # IP 주소별로 실행된 애플리케이션을 사전 형태로 저장\n",
    "#         apps_of_ip = {}\n",
    "#         for sample in data_samples:\n",
    "#             apps_of_ip.setdefault(sample[var1], []).append(str(sample[var2]))\n",
    "\n",
    "#         # 각 IP 주소별로 실행된 애플리케이션을 문장 형태로 변환\n",
    "#         ips = list(apps_of_ip.keys())\n",
    "#         apps_as_sentence = [' '.join(apps_of_ip[ip]) for ip in ips]\n",
    "\n",
    "#         # CountVectorizer를 사용하여 문서-단어 행렬로 변환\n",
    "#         vectorizer = CountVectorizer()\n",
    "#         apps_as_matrix = vectorizer.fit_transform(apps_as_sentence)\n",
    "\n",
    "#         # LDA 모델을 사용하여 토픽 모델링 수행\n",
    "#         lda = LatentDirichletAllocation(n_components=5, random_state=42)\n",
    "#         topics_of_ips = lda.fit_transform(apps_as_matrix)\n",
    "\n",
    "#         # 토픽 데이터프레임 생성\n",
    "#         topics_df = pd.DataFrame(topics_of_ips, columns=[f'topic_{var1}+{var2}+_{j+1}' for j in range(5)])\n",
    "\n",
    "#         # IP 주소 열 추가\n",
    "#         topics_df[var1] = ips\n",
    "\n",
    "#         # 원래 데이터프레임과 병합\n",
    "#         train = train.merge(topics_df, on=var1, how='left')\n",
    "#         test = test.merge(topics_df, on=var1, how='left')\n",
    "#         print(f\"!!! {ti} end\")\n",
    "        \n",
    "#     train.to_csv(f'train_new{ti}.csv', index=False)\n",
    "        \n",
    "\n",
    "# train"
   ]
  },
  {
   "cell_type": "code",
   "execution_count": 154,
   "metadata": {},
   "outputs": [],
   "source": [
    "# %%time\n",
    "\n",
    "# from sklearn.feature_extraction.text import CountVectorizer\n",
    "# from sklearn.decomposition import LatentDirichletAllocation\n",
    "# from itertools import permutations\n",
    "\n",
    "# if LDA_Mode == 'ON':\n",
    "#     col = ['ip', 'os', 'app', 'channel', 'device']\n",
    "#     #col = ['ip', 'os']\n",
    "#     ti = 0\n",
    "#     # 모든 2개 조합에 대해 반복\n",
    "#     for i, (var1, var2) in enumerate(permutations(col, 2), start=1):\n",
    "#         ti += 1\n",
    "#         print(f'{var1}, {var2}')\n",
    "#         # data_samples 생성\n",
    "#         data_samples = train[[var1, var2]].to_dict('records')\n",
    "\n",
    "#         # IP 주소별로 실행된 애플리케이션을 사전 형태로 저장\n",
    "#         apps_of_ip = {}\n",
    "#         for sample in data_samples:\n",
    "#             apps_of_ip.setdefault(sample[var1], []).append(str(sample[var2]))\n",
    "\n",
    "#         # 각 IP 주소별로 실행된 애플리케이션을 문장 형태로 변환\n",
    "#         ips = list(apps_of_ip.keys())\n",
    "#         apps_as_sentence = [' '.join(apps_of_ip[ip]) for ip in ips]\n",
    "\n",
    "#         # CountVectorizer를 사용하여 문서-단어 행렬로 변환\n",
    "#         vectorizer = CountVectorizer()\n",
    "#         apps_as_matrix = vectorizer.fit_transform(apps_as_sentence)\n",
    "\n",
    "#         # LDA 모델을 사용하여 토픽 모델링 수행\n",
    "#         lda = LatentDirichletAllocation(n_components=5, random_state=42)\n",
    "#         topics_of_ips = lda.fit_transform(apps_as_matrix)\n",
    "\n",
    "#         # 토픽 데이터프레임 생성\n",
    "#         topics_df = pd.DataFrame(topics_of_ips, columns=[f'topic_{var1}+{var2}+_{j+1}' for j in range(5)])\n",
    "\n",
    "#         # IP 주소 열 추가\n",
    "#         topics_df[var1] = ips\n",
    "\n",
    "#         # 원래 데이터프레임과 병합\n",
    "#         train = train.merge(topics_df, on=var1, how='left')\n",
    "        \n",
    "        \n",
    "        \n",
    "#         data_samples = test[[var1, var2]].to_dict('records')\n",
    "\n",
    "#         # IP 주소별로 실행된 애플리케이션을 사전 형태로 저장\n",
    "#         apps_of_ip = {}\n",
    "#         for sample in data_samples:\n",
    "#             apps_of_ip.setdefault(sample[var1], []).append(str(sample[var2]))\n",
    "        \n",
    "#          # 테스트 데이터에 대한 data_samples 생성\n",
    "#         data_samples = test[[var1, var2]].to_dict('records')\n",
    "\n",
    "#         # IP 주소별로 실행된 애플리케이션을 사전 형태로 저장\n",
    "#         apps_of_ip_test = {}\n",
    "#         for sample in data_samples:\n",
    "#             apps_of_ip_test.setdefault(sample[var1], []).append(str(sample[var2]))\n",
    "\n",
    "#         # 각 IP 주소별로 실행된 애플리케이션을 문장 형태로 변환\n",
    "#         test_ips = list(apps_of_ip_test.keys())\n",
    "#         test_apps_as_sentence = [' '.join(apps_of_ip_test[ip]) for ip in test_ips]\n",
    "\n",
    "#         # CountVectorizer를 사용하여 테스트 데이터의 문서-단어 행렬로 변환\n",
    "        \n",
    "#         vectorizer = CountVectorizer()\n",
    "#         test_apps_as_matrix = vectorizer.fit_transform(test_apps_as_sentence)\n",
    "\n",
    "#         # 테스트 데이터에 대해 LDA 토픽 분포 얻기\n",
    "#         lda2 = LatentDirichletAllocation(n_components=5, random_state=42)\n",
    "#         topics_of_test_ips = lda2.transform(test_apps_as_matrix)\n",
    "\n",
    "#         # 토픽 데이터프레임 생성\n",
    "#         topics_test_df = pd.DataFrame(topics_of_test_ips, columns=[f'topic_{var1}+{var2}+_{j+1}' for j in range(5)])\n",
    "\n",
    "#         # IP 주소 열 추가\n",
    "#         topics_test_df[var1] = test_ips\n",
    "\n",
    "#         # 테스트 데이터프레임과 병합\n",
    "#         test = test.merge(topics_test_df, on=var1, how='left')\n",
    "        \n",
    "#         print(\"!!!\", ti)\n",
    "# #test.to_csv('test_new13.csv', index=False)\n",
    "# test"
   ]
  },
  {
   "cell_type": "code",
   "execution_count": 155,
   "metadata": {},
   "outputs": [
    {
     "data": {
      "text/plain": [
       "Index(['ip', 'app', 'device', 'os', 'channel', 'click_time', 'is_attributed',\n",
       "       'real_clicks_1hr', 'real_clicks_6hr'],\n",
       "      dtype='object')"
      ]
     },
     "execution_count": 155,
     "metadata": {},
     "output_type": "execute_result"
    }
   ],
   "source": [
    "train.columns"
   ]
  },
  {
   "cell_type": "code",
   "execution_count": 156,
   "metadata": {},
   "outputs": [],
   "source": [
    "# t = ['ip', 'app', 'device', 'os', 'channel', 'click_time', 'is_attributed','click_time_hour', 'click_time_minute', 'real_clicks_1hr', 'real_clicks_6hr']\n",
    "# len(t)"
   ]
  },
  {
   "cell_type": "code",
   "execution_count": 157,
   "metadata": {},
   "outputs": [],
   "source": [
    "# train = train[t]\n",
    "# train"
   ]
  },
  {
   "cell_type": "code",
   "execution_count": 158,
   "metadata": {},
   "outputs": [],
   "source": [
    "# t = ['ip', 'app', 'device', 'os', 'channel', 'click_time', 'click_time_hour', 'click_time_minute', 'real_clicks_1hr', 'real_clicks_6hr']\n",
    "\n",
    "# len(t)"
   ]
  },
  {
   "cell_type": "code",
   "execution_count": 159,
   "metadata": {},
   "outputs": [],
   "source": [
    "# test1 = test[t]\n",
    "# test1"
   ]
  },
  {
   "cell_type": "code",
   "execution_count": 160,
   "metadata": {},
   "outputs": [],
   "source": [
    "# test = test1.copy()\n",
    "# test"
   ]
  },
  {
   "cell_type": "code",
   "execution_count": 161,
   "metadata": {},
   "outputs": [],
   "source": [
    "# del test1"
   ]
  },
  {
   "cell_type": "code",
   "execution_count": 162,
   "metadata": {},
   "outputs": [
    {
     "data": {
      "text/html": [
       "<div>\n",
       "<style scoped>\n",
       "    .dataframe tbody tr th:only-of-type {\n",
       "        vertical-align: middle;\n",
       "    }\n",
       "\n",
       "    .dataframe tbody tr th {\n",
       "        vertical-align: top;\n",
       "    }\n",
       "\n",
       "    .dataframe thead th {\n",
       "        text-align: right;\n",
       "    }\n",
       "</style>\n",
       "<table border=\"1\" class=\"dataframe\">\n",
       "  <thead>\n",
       "    <tr style=\"text-align: right;\">\n",
       "      <th></th>\n",
       "      <th>click_id</th>\n",
       "      <th>ip</th>\n",
       "      <th>app</th>\n",
       "      <th>device</th>\n",
       "      <th>os</th>\n",
       "      <th>channel</th>\n",
       "      <th>click_time</th>\n",
       "      <th>real_clicks_1hr</th>\n",
       "      <th>real_clicks_6hr</th>\n",
       "    </tr>\n",
       "  </thead>\n",
       "  <tbody>\n",
       "    <tr>\n",
       "      <th>0</th>\n",
       "      <td>0</td>\n",
       "      <td>5744</td>\n",
       "      <td>9</td>\n",
       "      <td>1</td>\n",
       "      <td>3</td>\n",
       "      <td>107</td>\n",
       "      <td>2017-11-10 04:00:00</td>\n",
       "      <td>34</td>\n",
       "      <td>50</td>\n",
       "    </tr>\n",
       "    <tr>\n",
       "      <th>1</th>\n",
       "      <td>1</td>\n",
       "      <td>119901</td>\n",
       "      <td>9</td>\n",
       "      <td>1</td>\n",
       "      <td>3</td>\n",
       "      <td>466</td>\n",
       "      <td>2017-11-10 04:00:00</td>\n",
       "      <td>403</td>\n",
       "      <td>747</td>\n",
       "    </tr>\n",
       "    <tr>\n",
       "      <th>2</th>\n",
       "      <td>2</td>\n",
       "      <td>72287</td>\n",
       "      <td>21</td>\n",
       "      <td>1</td>\n",
       "      <td>19</td>\n",
       "      <td>128</td>\n",
       "      <td>2017-11-10 04:00:00</td>\n",
       "      <td>229</td>\n",
       "      <td>500</td>\n",
       "    </tr>\n",
       "    <tr>\n",
       "      <th>3</th>\n",
       "      <td>3</td>\n",
       "      <td>78477</td>\n",
       "      <td>15</td>\n",
       "      <td>1</td>\n",
       "      <td>13</td>\n",
       "      <td>111</td>\n",
       "      <td>2017-11-10 04:00:00</td>\n",
       "      <td>239</td>\n",
       "      <td>476</td>\n",
       "    </tr>\n",
       "    <tr>\n",
       "      <th>4</th>\n",
       "      <td>4</td>\n",
       "      <td>123080</td>\n",
       "      <td>12</td>\n",
       "      <td>1</td>\n",
       "      <td>13</td>\n",
       "      <td>328</td>\n",
       "      <td>2017-11-10 04:00:00</td>\n",
       "      <td>60</td>\n",
       "      <td>68</td>\n",
       "    </tr>\n",
       "    <tr>\n",
       "      <th>...</th>\n",
       "      <td>...</td>\n",
       "      <td>...</td>\n",
       "      <td>...</td>\n",
       "      <td>...</td>\n",
       "      <td>...</td>\n",
       "      <td>...</td>\n",
       "      <td>...</td>\n",
       "      <td>...</td>\n",
       "      <td>...</td>\n",
       "    </tr>\n",
       "    <tr>\n",
       "      <th>18790464</th>\n",
       "      <td>18790464</td>\n",
       "      <td>99442</td>\n",
       "      <td>9</td>\n",
       "      <td>1</td>\n",
       "      <td>13</td>\n",
       "      <td>127</td>\n",
       "      <td>2017-11-10 15:00:00</td>\n",
       "      <td>2</td>\n",
       "      <td>8</td>\n",
       "    </tr>\n",
       "    <tr>\n",
       "      <th>18790465</th>\n",
       "      <td>18790465</td>\n",
       "      <td>88046</td>\n",
       "      <td>23</td>\n",
       "      <td>1</td>\n",
       "      <td>37</td>\n",
       "      <td>153</td>\n",
       "      <td>2017-11-10 15:00:00</td>\n",
       "      <td>1</td>\n",
       "      <td>396</td>\n",
       "    </tr>\n",
       "    <tr>\n",
       "      <th>18790466</th>\n",
       "      <td>18790467</td>\n",
       "      <td>81398</td>\n",
       "      <td>18</td>\n",
       "      <td>1</td>\n",
       "      <td>17</td>\n",
       "      <td>265</td>\n",
       "      <td>2017-11-10 15:00:00</td>\n",
       "      <td>2</td>\n",
       "      <td>374</td>\n",
       "    </tr>\n",
       "    <tr>\n",
       "      <th>18790467</th>\n",
       "      <td>18790466</td>\n",
       "      <td>123236</td>\n",
       "      <td>27</td>\n",
       "      <td>1</td>\n",
       "      <td>13</td>\n",
       "      <td>122</td>\n",
       "      <td>2017-11-10 15:00:00</td>\n",
       "      <td>1</td>\n",
       "      <td>79</td>\n",
       "    </tr>\n",
       "    <tr>\n",
       "      <th>18790468</th>\n",
       "      <td>18790468</td>\n",
       "      <td>73516</td>\n",
       "      <td>12</td>\n",
       "      <td>2</td>\n",
       "      <td>27</td>\n",
       "      <td>265</td>\n",
       "      <td>2017-11-10 15:00:00</td>\n",
       "      <td>4</td>\n",
       "      <td>34296</td>\n",
       "    </tr>\n",
       "  </tbody>\n",
       "</table>\n",
       "<p>18790469 rows × 9 columns</p>\n",
       "</div>"
      ],
      "text/plain": [
       "          click_id      ip  app  device  os  channel          click_time  \\\n",
       "0                0    5744    9       1   3      107 2017-11-10 04:00:00   \n",
       "1                1  119901    9       1   3      466 2017-11-10 04:00:00   \n",
       "2                2   72287   21       1  19      128 2017-11-10 04:00:00   \n",
       "3                3   78477   15       1  13      111 2017-11-10 04:00:00   \n",
       "4                4  123080   12       1  13      328 2017-11-10 04:00:00   \n",
       "...            ...     ...  ...     ...  ..      ...                 ...   \n",
       "18790464  18790464   99442    9       1  13      127 2017-11-10 15:00:00   \n",
       "18790465  18790465   88046   23       1  37      153 2017-11-10 15:00:00   \n",
       "18790466  18790467   81398   18       1  17      265 2017-11-10 15:00:00   \n",
       "18790467  18790466  123236   27       1  13      122 2017-11-10 15:00:00   \n",
       "18790468  18790468   73516   12       2  27      265 2017-11-10 15:00:00   \n",
       "\n",
       "          real_clicks_1hr  real_clicks_6hr  \n",
       "0                      34               50  \n",
       "1                     403              747  \n",
       "2                     229              500  \n",
       "3                     239              476  \n",
       "4                      60               68  \n",
       "...                   ...              ...  \n",
       "18790464                2                8  \n",
       "18790465                1              396  \n",
       "18790466                2              374  \n",
       "18790467                1               79  \n",
       "18790468                4            34296  \n",
       "\n",
       "[18790469 rows x 9 columns]"
      ]
     },
     "execution_count": 162,
     "metadata": {},
     "output_type": "execute_result"
    }
   ],
   "source": [
    "test"
   ]
  },
  {
   "cell_type": "code",
   "execution_count": 163,
   "metadata": {},
   "outputs": [
    {
     "data": {
      "text/plain": [
       "0"
      ]
     },
     "execution_count": 163,
     "metadata": {},
     "output_type": "execute_result"
    }
   ],
   "source": [
    "gc.collect()"
   ]
  },
  {
   "cell_type": "code",
   "execution_count": 164,
   "metadata": {},
   "outputs": [
    {
     "data": {
      "text/html": [
       "<div>\n",
       "<style scoped>\n",
       "    .dataframe tbody tr th:only-of-type {\n",
       "        vertical-align: middle;\n",
       "    }\n",
       "\n",
       "    .dataframe tbody tr th {\n",
       "        vertical-align: top;\n",
       "    }\n",
       "\n",
       "    .dataframe thead th {\n",
       "        text-align: right;\n",
       "    }\n",
       "</style>\n",
       "<table border=\"1\" class=\"dataframe\">\n",
       "  <thead>\n",
       "    <tr style=\"text-align: right;\">\n",
       "      <th></th>\n",
       "      <th>ip</th>\n",
       "      <th>app</th>\n",
       "      <th>device</th>\n",
       "      <th>os</th>\n",
       "      <th>channel</th>\n",
       "      <th>click_time</th>\n",
       "      <th>is_attributed</th>\n",
       "      <th>real_clicks_1hr</th>\n",
       "      <th>real_clicks_6hr</th>\n",
       "      <th>click_id</th>\n",
       "    </tr>\n",
       "  </thead>\n",
       "  <tbody>\n",
       "    <tr>\n",
       "      <th>54955</th>\n",
       "      <td>48646</td>\n",
       "      <td>12</td>\n",
       "      <td>1</td>\n",
       "      <td>19</td>\n",
       "      <td>178</td>\n",
       "      <td>2017-11-06 16:00:00</td>\n",
       "      <td>0.0</td>\n",
       "      <td>2</td>\n",
       "      <td>2</td>\n",
       "      <td>NaN</td>\n",
       "    </tr>\n",
       "    <tr>\n",
       "      <th>28314</th>\n",
       "      <td>93836</td>\n",
       "      <td>12</td>\n",
       "      <td>1</td>\n",
       "      <td>30</td>\n",
       "      <td>328</td>\n",
       "      <td>2017-11-06 16:00:09</td>\n",
       "      <td>0.0</td>\n",
       "      <td>2</td>\n",
       "      <td>2</td>\n",
       "      <td>NaN</td>\n",
       "    </tr>\n",
       "    <tr>\n",
       "      <th>31830</th>\n",
       "      <td>5314</td>\n",
       "      <td>8</td>\n",
       "      <td>1</td>\n",
       "      <td>13</td>\n",
       "      <td>145</td>\n",
       "      <td>2017-11-06 16:00:09</td>\n",
       "      <td>0.0</td>\n",
       "      <td>3</td>\n",
       "      <td>3</td>\n",
       "      <td>NaN</td>\n",
       "    </tr>\n",
       "    <tr>\n",
       "      <th>99357</th>\n",
       "      <td>73954</td>\n",
       "      <td>23</td>\n",
       "      <td>1</td>\n",
       "      <td>19</td>\n",
       "      <td>153</td>\n",
       "      <td>2017-11-06 16:00:11</td>\n",
       "      <td>0.0</td>\n",
       "      <td>2</td>\n",
       "      <td>3</td>\n",
       "      <td>NaN</td>\n",
       "    </tr>\n",
       "    <tr>\n",
       "      <th>83228</th>\n",
       "      <td>91574</td>\n",
       "      <td>3</td>\n",
       "      <td>1</td>\n",
       "      <td>17</td>\n",
       "      <td>135</td>\n",
       "      <td>2017-11-06 16:00:11</td>\n",
       "      <td>0.0</td>\n",
       "      <td>1</td>\n",
       "      <td>1</td>\n",
       "      <td>NaN</td>\n",
       "    </tr>\n",
       "    <tr>\n",
       "      <th>...</th>\n",
       "      <td>...</td>\n",
       "      <td>...</td>\n",
       "      <td>...</td>\n",
       "      <td>...</td>\n",
       "      <td>...</td>\n",
       "      <td>...</td>\n",
       "      <td>...</td>\n",
       "      <td>...</td>\n",
       "      <td>...</td>\n",
       "      <td>...</td>\n",
       "    </tr>\n",
       "    <tr>\n",
       "      <th>18790464</th>\n",
       "      <td>99442</td>\n",
       "      <td>9</td>\n",
       "      <td>1</td>\n",
       "      <td>13</td>\n",
       "      <td>127</td>\n",
       "      <td>2017-11-10 15:00:00</td>\n",
       "      <td>NaN</td>\n",
       "      <td>2</td>\n",
       "      <td>8</td>\n",
       "      <td>18790464.0</td>\n",
       "    </tr>\n",
       "    <tr>\n",
       "      <th>18790465</th>\n",
       "      <td>88046</td>\n",
       "      <td>23</td>\n",
       "      <td>1</td>\n",
       "      <td>37</td>\n",
       "      <td>153</td>\n",
       "      <td>2017-11-10 15:00:00</td>\n",
       "      <td>NaN</td>\n",
       "      <td>1</td>\n",
       "      <td>396</td>\n",
       "      <td>18790465.0</td>\n",
       "    </tr>\n",
       "    <tr>\n",
       "      <th>18790466</th>\n",
       "      <td>81398</td>\n",
       "      <td>18</td>\n",
       "      <td>1</td>\n",
       "      <td>17</td>\n",
       "      <td>265</td>\n",
       "      <td>2017-11-10 15:00:00</td>\n",
       "      <td>NaN</td>\n",
       "      <td>2</td>\n",
       "      <td>374</td>\n",
       "      <td>18790467.0</td>\n",
       "    </tr>\n",
       "    <tr>\n",
       "      <th>18790467</th>\n",
       "      <td>123236</td>\n",
       "      <td>27</td>\n",
       "      <td>1</td>\n",
       "      <td>13</td>\n",
       "      <td>122</td>\n",
       "      <td>2017-11-10 15:00:00</td>\n",
       "      <td>NaN</td>\n",
       "      <td>1</td>\n",
       "      <td>79</td>\n",
       "      <td>18790466.0</td>\n",
       "    </tr>\n",
       "    <tr>\n",
       "      <th>18790468</th>\n",
       "      <td>73516</td>\n",
       "      <td>12</td>\n",
       "      <td>2</td>\n",
       "      <td>27</td>\n",
       "      <td>265</td>\n",
       "      <td>2017-11-10 15:00:00</td>\n",
       "      <td>NaN</td>\n",
       "      <td>4</td>\n",
       "      <td>34296</td>\n",
       "      <td>18790468.0</td>\n",
       "    </tr>\n",
       "  </tbody>\n",
       "</table>\n",
       "<p>18890469 rows × 10 columns</p>\n",
       "</div>"
      ],
      "text/plain": [
       "              ip  app  device  os  channel          click_time  is_attributed  \\\n",
       "54955      48646   12       1  19      178 2017-11-06 16:00:00            0.0   \n",
       "28314      93836   12       1  30      328 2017-11-06 16:00:09            0.0   \n",
       "31830       5314    8       1  13      145 2017-11-06 16:00:09            0.0   \n",
       "99357      73954   23       1  19      153 2017-11-06 16:00:11            0.0   \n",
       "83228      91574    3       1  17      135 2017-11-06 16:00:11            0.0   \n",
       "...          ...  ...     ...  ..      ...                 ...            ...   \n",
       "18790464   99442    9       1  13      127 2017-11-10 15:00:00            NaN   \n",
       "18790465   88046   23       1  37      153 2017-11-10 15:00:00            NaN   \n",
       "18790466   81398   18       1  17      265 2017-11-10 15:00:00            NaN   \n",
       "18790467  123236   27       1  13      122 2017-11-10 15:00:00            NaN   \n",
       "18790468   73516   12       2  27      265 2017-11-10 15:00:00            NaN   \n",
       "\n",
       "          real_clicks_1hr  real_clicks_6hr    click_id  \n",
       "54955                   2                2         NaN  \n",
       "28314                   2                2         NaN  \n",
       "31830                   3                3         NaN  \n",
       "99357                   2                3         NaN  \n",
       "83228                   1                1         NaN  \n",
       "...                   ...              ...         ...  \n",
       "18790464                2                8  18790464.0  \n",
       "18790465                1              396  18790465.0  \n",
       "18790466                2              374  18790467.0  \n",
       "18790467                1               79  18790466.0  \n",
       "18790468                4            34296  18790468.0  \n",
       "\n",
       "[18890469 rows x 10 columns]"
      ]
     },
     "execution_count": 164,
     "metadata": {},
     "output_type": "execute_result"
    }
   ],
   "source": [
    "combined_data = pd.concat([train, test])\n",
    "combined_data"
   ]
  },
  {
   "cell_type": "code",
   "execution_count": 165,
   "metadata": {},
   "outputs": [],
   "source": [
    "# %%time\n",
    "\n",
    "# from sklearn.feature_extraction.text import CountVectorizer\n",
    "# from sklearn.decomposition import LatentDirichletAllocation\n",
    "# from itertools import permutations\n",
    "\n",
    "# if LDA_Mode == 'ON':\n",
    "#     col = ['ip', 'os', 'app', 'channel', 'device']\n",
    "#     #col = ['ip', 'os']\n",
    "#     ti = 0\n",
    "#     # 모든 2개 조합에 대해 반복\n",
    "#     for i, (var1, var2) in enumerate(permutations(col, 2), start=1):\n",
    "#         ti += 1\n",
    "#         # data_samples 생성\n",
    "#         data_samples = train[[var1, var2]].to_dict('records')\n",
    "        \n",
    "#         # IP 주소별로 실행된 애플리케이션을 사전 형태로 저장\n",
    "#         apps_of_ip = {}\n",
    "#         for sample in data_samples:\n",
    "#             apps_of_ip.setdefault(sample[var1], []).append(str(sample[var2]))\n",
    "\n",
    "#         # 각 IP 주소별로 실행된 애플리케이션을 문장 형태로 변환\n",
    "#         ips = list(apps_of_ip.keys())\n",
    "#         apps_as_sentence = [' '.join(apps_of_ip[ip]) for ip in ips]\n",
    "\n",
    "#         # CountVectorizer를 사용하여 문서-단어 행렬로 변환\n",
    "#         vectorizer = CountVectorizer()\n",
    "#         apps_as_matrix = vectorizer.fit_transform(apps_as_sentence)\n",
    "\n",
    "#         # LDA 모델을 사용하여 토픽 모델링 수행\n",
    "#         lda = LatentDirichletAllocation(n_components=5, random_state=42)\n",
    "#         topics_of_ips = lda.fit_transform(apps_as_matrix)\n",
    "\n",
    "#         # 토픽 데이터프레임 생성\n",
    "#         topics_df = pd.DataFrame(topics_of_ips, columns=[f'topic_{var1}+{var2}+_{j+1}' for j in range(5)])\n",
    "\n",
    "#         # IP 주소 열 추가\n",
    "#         topics_df[var1] = ips\n",
    "\n",
    "#         # 원래 데이터프레임과 병합\n",
    "#         train = train.merge(topics_df, on=var1, how='left')\n",
    "#         test = test.merge(topics_df, on=var1, how='left')\n",
    "        \n",
    "#         train.to_csv(f'train_new{ti}.csv', index=False)\n",
    "#         print(f\"!!! {ti} end\")\n",
    "\n",
    "# train"
   ]
  },
  {
   "cell_type": "code",
   "execution_count": 166,
   "metadata": {},
   "outputs": [
    {
     "name": "stdout",
     "output_type": "stream",
     "text": [
      "All combinations processed.\n",
      "CPU times: total: 0 ns\n",
      "Wall time: 7 ms\n"
     ]
    },
    {
     "data": {
      "text/html": [
       "<div>\n",
       "<style scoped>\n",
       "    .dataframe tbody tr th:only-of-type {\n",
       "        vertical-align: middle;\n",
       "    }\n",
       "\n",
       "    .dataframe tbody tr th {\n",
       "        vertical-align: top;\n",
       "    }\n",
       "\n",
       "    .dataframe thead th {\n",
       "        text-align: right;\n",
       "    }\n",
       "</style>\n",
       "<table border=\"1\" class=\"dataframe\">\n",
       "  <thead>\n",
       "    <tr style=\"text-align: right;\">\n",
       "      <th></th>\n",
       "      <th>ip</th>\n",
       "      <th>app</th>\n",
       "      <th>device</th>\n",
       "      <th>os</th>\n",
       "      <th>channel</th>\n",
       "      <th>click_time</th>\n",
       "      <th>is_attributed</th>\n",
       "      <th>real_clicks_1hr</th>\n",
       "      <th>real_clicks_6hr</th>\n",
       "    </tr>\n",
       "  </thead>\n",
       "  <tbody>\n",
       "    <tr>\n",
       "      <th>54955</th>\n",
       "      <td>48646</td>\n",
       "      <td>12</td>\n",
       "      <td>1</td>\n",
       "      <td>19</td>\n",
       "      <td>178</td>\n",
       "      <td>2017-11-06 16:00:00</td>\n",
       "      <td>0</td>\n",
       "      <td>2</td>\n",
       "      <td>2</td>\n",
       "    </tr>\n",
       "    <tr>\n",
       "      <th>28314</th>\n",
       "      <td>93836</td>\n",
       "      <td>12</td>\n",
       "      <td>1</td>\n",
       "      <td>30</td>\n",
       "      <td>328</td>\n",
       "      <td>2017-11-06 16:00:09</td>\n",
       "      <td>0</td>\n",
       "      <td>2</td>\n",
       "      <td>2</td>\n",
       "    </tr>\n",
       "    <tr>\n",
       "      <th>31830</th>\n",
       "      <td>5314</td>\n",
       "      <td>8</td>\n",
       "      <td>1</td>\n",
       "      <td>13</td>\n",
       "      <td>145</td>\n",
       "      <td>2017-11-06 16:00:09</td>\n",
       "      <td>0</td>\n",
       "      <td>3</td>\n",
       "      <td>3</td>\n",
       "    </tr>\n",
       "    <tr>\n",
       "      <th>99357</th>\n",
       "      <td>73954</td>\n",
       "      <td>23</td>\n",
       "      <td>1</td>\n",
       "      <td>19</td>\n",
       "      <td>153</td>\n",
       "      <td>2017-11-06 16:00:11</td>\n",
       "      <td>0</td>\n",
       "      <td>2</td>\n",
       "      <td>3</td>\n",
       "    </tr>\n",
       "    <tr>\n",
       "      <th>83228</th>\n",
       "      <td>91574</td>\n",
       "      <td>3</td>\n",
       "      <td>1</td>\n",
       "      <td>17</td>\n",
       "      <td>135</td>\n",
       "      <td>2017-11-06 16:00:11</td>\n",
       "      <td>0</td>\n",
       "      <td>1</td>\n",
       "      <td>1</td>\n",
       "    </tr>\n",
       "    <tr>\n",
       "      <th>...</th>\n",
       "      <td>...</td>\n",
       "      <td>...</td>\n",
       "      <td>...</td>\n",
       "      <td>...</td>\n",
       "      <td>...</td>\n",
       "      <td>...</td>\n",
       "      <td>...</td>\n",
       "      <td>...</td>\n",
       "      <td>...</td>\n",
       "    </tr>\n",
       "    <tr>\n",
       "      <th>75024</th>\n",
       "      <td>85592</td>\n",
       "      <td>12</td>\n",
       "      <td>1</td>\n",
       "      <td>13</td>\n",
       "      <td>145</td>\n",
       "      <td>2017-11-09 15:59:42</td>\n",
       "      <td>0</td>\n",
       "      <td>1</td>\n",
       "      <td>2</td>\n",
       "    </tr>\n",
       "    <tr>\n",
       "      <th>83818</th>\n",
       "      <td>91779</td>\n",
       "      <td>18</td>\n",
       "      <td>1</td>\n",
       "      <td>41</td>\n",
       "      <td>379</td>\n",
       "      <td>2017-11-09 15:59:43</td>\n",
       "      <td>0</td>\n",
       "      <td>1</td>\n",
       "      <td>1</td>\n",
       "    </tr>\n",
       "    <tr>\n",
       "      <th>17634</th>\n",
       "      <td>81374</td>\n",
       "      <td>14</td>\n",
       "      <td>1</td>\n",
       "      <td>25</td>\n",
       "      <td>118</td>\n",
       "      <td>2017-11-09 15:59:44</td>\n",
       "      <td>0</td>\n",
       "      <td>1</td>\n",
       "      <td>1</td>\n",
       "    </tr>\n",
       "    <tr>\n",
       "      <th>41817</th>\n",
       "      <td>11911</td>\n",
       "      <td>1</td>\n",
       "      <td>1</td>\n",
       "      <td>22</td>\n",
       "      <td>115</td>\n",
       "      <td>2017-11-09 15:59:46</td>\n",
       "      <td>0</td>\n",
       "      <td>1</td>\n",
       "      <td>1</td>\n",
       "    </tr>\n",
       "    <tr>\n",
       "      <th>23038</th>\n",
       "      <td>44018</td>\n",
       "      <td>13</td>\n",
       "      <td>1</td>\n",
       "      <td>19</td>\n",
       "      <td>477</td>\n",
       "      <td>2017-11-09 15:59:51</td>\n",
       "      <td>0</td>\n",
       "      <td>1</td>\n",
       "      <td>1</td>\n",
       "    </tr>\n",
       "  </tbody>\n",
       "</table>\n",
       "<p>100000 rows × 9 columns</p>\n",
       "</div>"
      ],
      "text/plain": [
       "          ip  app  device  os  channel          click_time  is_attributed  \\\n",
       "54955  48646   12       1  19      178 2017-11-06 16:00:00              0   \n",
       "28314  93836   12       1  30      328 2017-11-06 16:00:09              0   \n",
       "31830   5314    8       1  13      145 2017-11-06 16:00:09              0   \n",
       "99357  73954   23       1  19      153 2017-11-06 16:00:11              0   \n",
       "83228  91574    3       1  17      135 2017-11-06 16:00:11              0   \n",
       "...      ...  ...     ...  ..      ...                 ...            ...   \n",
       "75024  85592   12       1  13      145 2017-11-09 15:59:42              0   \n",
       "83818  91779   18       1  41      379 2017-11-09 15:59:43              0   \n",
       "17634  81374   14       1  25      118 2017-11-09 15:59:44              0   \n",
       "41817  11911    1       1  22      115 2017-11-09 15:59:46              0   \n",
       "23038  44018   13       1  19      477 2017-11-09 15:59:51              0   \n",
       "\n",
       "       real_clicks_1hr  real_clicks_6hr  \n",
       "54955                2                2  \n",
       "28314                2                2  \n",
       "31830                3                3  \n",
       "99357                2                3  \n",
       "83228                1                1  \n",
       "...                ...              ...  \n",
       "75024                1                2  \n",
       "83818                1                1  \n",
       "17634                1                1  \n",
       "41817                1                1  \n",
       "23038                1                1  \n",
       "\n",
       "[100000 rows x 9 columns]"
      ]
     },
     "execution_count": 166,
     "metadata": {},
     "output_type": "execute_result"
    }
   ],
   "source": [
    "%%time\n",
    "\n",
    "from sklearn.feature_extraction.text import CountVectorizer\n",
    "from sklearn.decomposition import LatentDirichletAllocation\n",
    "from itertools import permutations\n",
    "import pandas as pd\n",
    "\n",
    "if LDA_Mode == 'ON':\n",
    "    col = ['ip', 'os', 'app', 'channel', 'device']\n",
    "    ti = 0\n",
    "    \n",
    "    for i, (var1, var2) in enumerate(permutations(col, 2), start=1):\n",
    "        ti += 1\n",
    "        print(f\"Processing combination {ti}: {var1}, {var2}\")\n",
    "\n",
    "        # Train 데이터로 data_samples 생성\n",
    "        data_samples_train = train[[var1, var2]].to_dict('records')\n",
    "        apps_of_ip_train = {}\n",
    "        for sample in data_samples_train:\n",
    "            apps_of_ip_train.setdefault(sample[var1], []).append(str(sample[var2]))\n",
    "\n",
    "        ips_train = list(apps_of_ip_train.keys())\n",
    "        apps_as_sentence_train = [' '.join(apps_of_ip_train[ip]) for ip in ips_train]\n",
    "\n",
    "        vectorizer = CountVectorizer()\n",
    "        apps_as_matrix_train = vectorizer.fit_transform(apps_as_sentence_train)\n",
    "\n",
    "        lda = LatentDirichletAllocation(n_components=5, random_state=42)\n",
    "        topics_of_ips_train = lda.fit_transform(apps_as_matrix_train)\n",
    "\n",
    "        topics_df_train = pd.DataFrame(topics_of_ips_train, columns=[f'topic_{var1}+{var2}+_{j+1}' for j in range(5)])\n",
    "        topics_df_train[var1] = ips_train\n",
    "\n",
    "        # Test 데이터로 data_samples 생성\n",
    "        data_samples_test = test[[var1, var2]].to_dict('records')\n",
    "        apps_of_ip_test = {}\n",
    "        for sample in data_samples_test:\n",
    "            apps_of_ip_test.setdefault(sample[var1], []).append(str(sample[var2]))\n",
    "\n",
    "        ips_test = list(apps_of_ip_test.keys())\n",
    "        apps_as_sentence_test = [' '.join(apps_of_ip_test[ip]) for ip in ips_test]\n",
    "\n",
    "        apps_as_matrix_test = vectorizer.transform(apps_as_sentence_test)\n",
    "        topics_of_ips_test = lda.transform(apps_as_matrix_test)\n",
    "\n",
    "        topics_df_test = pd.DataFrame(topics_of_ips_test, columns=[f'topic_{var1}+{var2}+_{j+1}' for j in range(5)])\n",
    "        topics_df_test[var1] = ips_test\n",
    "\n",
    "        # 필요한 피처만 포함하여 병합 최적화\n",
    "        merge_columns = [var1] + [f'topic_{var1}+{var2}+_{j+1}' for j in range(5)]\n",
    "        \n",
    "        # train과 test에 병합\n",
    "        train = train.merge(topics_df_train[merge_columns], on=var1, how='left')\n",
    "        test = test.merge(topics_df_test[merge_columns], on=var1, how='left')\n",
    "\n",
    "        print(f\"!!! {ti} end\")\n",
    "\n",
    "print(\"All combinations processed.\")\n",
    "train\n"
   ]
  },
  {
   "cell_type": "code",
   "execution_count": 167,
   "metadata": {},
   "outputs": [
    {
     "data": {
      "text/plain": [
       "0"
      ]
     },
     "execution_count": 167,
     "metadata": {},
     "output_type": "execute_result"
    }
   ],
   "source": [
    "test.isna().sum().sum()"
   ]
  },
  {
   "cell_type": "code",
   "execution_count": 168,
   "metadata": {},
   "outputs": [],
   "source": [
    "# %%time\n",
    "# from sklearn.feature_extraction.text import CountVectorizer\n",
    "# from sklearn.decomposition import LatentDirichletAllocation\n",
    "# from itertools import permutations\n",
    "\n",
    "# # 변수 설정\n",
    "# if LDA_Mode == 'ON':\n",
    "#     col = ['ip', 'os', 'app', 'channel', 'device']\n",
    "#     lda_models = {}\n",
    "#     vectorizers = {}\n",
    "\n",
    "#     ti = 0\n",
    "#     # 모든 2개 조합에 대해 반복\n",
    "#     for var1, var2 in permutations(col, 2):\n",
    "#         ti += 1\n",
    "#         # data_samples 생성\n",
    "#         #data_samples = train[[var1, var2]].to_dict('records')\n",
    "#         data_samples = combined_data[[var1, var2]].to_dict('records')\n",
    "        \n",
    "\n",
    "#         # IP 주소별로 실행된 애플리케이션을 사전 형태로 저장\n",
    "#         apps_of_ip = {}\n",
    "#         for sample in data_samples:\n",
    "#             apps_of_ip.setdefault(sample[var1], []).append(str(sample[var2]))\n",
    "        \n",
    "#         # 각 IP 주소별로 실행된 애플리케이션을 문장 형태로 변환\n",
    "#         ips = list(apps_of_ip.keys())\n",
    "#         apps_as_sentence = [' '.join(apps_of_ip[ip]) for ip in ips]\n",
    "\n",
    "#         # CountVectorizer를 사용하여 문서-단어 행렬로 변환\n",
    "#         vectorizer = CountVectorizer()\n",
    "#         apps_as_matrix = vectorizer.fit_transform(apps_as_sentence)\n",
    "\n",
    "#         # LDA 모델을 사용하여 토픽 모델링 수행\n",
    "#         lda = LatentDirichletAllocation(n_components=5, random_state=42)\n",
    "#         topics_of_ips = lda.fit_transform(apps_as_matrix)\n",
    "\n",
    "#         # 학습된 모델과 벡터라이저를 저장\n",
    "#         lda_models[(var1, var2)] = lda\n",
    "#         vectorizers[(var1, var2)] = vectorizer\n",
    "\n",
    "#         # 토픽 데이터프레임 생성\n",
    "#         topics_df = pd.DataFrame(topics_of_ips, columns=[f'topic_{var1}+{var2}+_{j+1}' for j in range(5)])\n",
    "\n",
    "#         # IP 주소 열 추가\n",
    "#         topics_df[var1] = ips\n",
    "\n",
    "#         # 원래 데이터프레임과 병합\n",
    "#         train = pd.merge(train, topics_df)\n",
    "#         print(f\"train no.{ti} end\")\n",
    "#         test = pd.merge(test, topics_df)\n",
    "#         print(f\"test no.{ti} end\")"
   ]
  },
  {
   "cell_type": "code",
   "execution_count": 169,
   "metadata": {},
   "outputs": [
    {
     "name": "stdout",
     "output_type": "stream",
     "text": [
      "('ip', 'app')\n",
      "('ip', 'os')\n",
      "('ip', 'channel')\n",
      "('ip', 'device')\n",
      "('app', 'ip')\n",
      "('app', 'os')\n",
      "('app', 'channel')\n",
      "('app', 'device')\n",
      "('os', 'ip')\n",
      "('os', 'app')\n",
      "('os', 'channel')\n",
      "('os', 'device')\n",
      "('channel', 'ip')\n",
      "('channel', 'app')\n",
      "('channel', 'os')\n",
      "('channel', 'device')\n",
      "('device', 'ip')\n",
      "('device', 'app')\n",
      "('device', 'os')\n",
      "('device', 'channel')\n"
     ]
    }
   ],
   "source": [
    "for var1, var2 in permutations(col, 2):\n",
    "    print((var1, var2))"
   ]
  },
  {
   "cell_type": "code",
   "execution_count": 170,
   "metadata": {},
   "outputs": [
    {
     "data": {
      "text/plain": [
       "1995"
      ]
     },
     "execution_count": 170,
     "metadata": {},
     "output_type": "execute_result"
    }
   ],
   "source": [
    "combined_data['device'].nunique()"
   ]
  },
  {
   "cell_type": "code",
   "execution_count": 171,
   "metadata": {},
   "outputs": [
    {
     "data": {
      "text/plain": [
       "Index(['ip', 'app', 'device', 'os', 'channel', 'click_time', 'is_attributed',\n",
       "       'real_clicks_1hr', 'real_clicks_6hr'],\n",
       "      dtype='object')"
      ]
     },
     "execution_count": 171,
     "metadata": {},
     "output_type": "execute_result"
    }
   ],
   "source": [
    "train.columns"
   ]
  },
  {
   "cell_type": "code",
   "execution_count": 172,
   "metadata": {},
   "outputs": [
    {
     "data": {
      "text/html": [
       "<div>\n",
       "<style scoped>\n",
       "    .dataframe tbody tr th:only-of-type {\n",
       "        vertical-align: middle;\n",
       "    }\n",
       "\n",
       "    .dataframe tbody tr th {\n",
       "        vertical-align: top;\n",
       "    }\n",
       "\n",
       "    .dataframe thead th {\n",
       "        text-align: right;\n",
       "    }\n",
       "</style>\n",
       "<table border=\"1\" class=\"dataframe\">\n",
       "  <thead>\n",
       "    <tr style=\"text-align: right;\">\n",
       "      <th></th>\n",
       "      <th>click_id</th>\n",
       "      <th>ip</th>\n",
       "      <th>app</th>\n",
       "      <th>device</th>\n",
       "      <th>os</th>\n",
       "      <th>channel</th>\n",
       "      <th>click_time</th>\n",
       "      <th>real_clicks_1hr</th>\n",
       "      <th>real_clicks_6hr</th>\n",
       "    </tr>\n",
       "  </thead>\n",
       "  <tbody>\n",
       "    <tr>\n",
       "      <th>0</th>\n",
       "      <td>0</td>\n",
       "      <td>5744</td>\n",
       "      <td>9</td>\n",
       "      <td>1</td>\n",
       "      <td>3</td>\n",
       "      <td>107</td>\n",
       "      <td>2017-11-10 04:00:00</td>\n",
       "      <td>34</td>\n",
       "      <td>50</td>\n",
       "    </tr>\n",
       "    <tr>\n",
       "      <th>1</th>\n",
       "      <td>1</td>\n",
       "      <td>119901</td>\n",
       "      <td>9</td>\n",
       "      <td>1</td>\n",
       "      <td>3</td>\n",
       "      <td>466</td>\n",
       "      <td>2017-11-10 04:00:00</td>\n",
       "      <td>403</td>\n",
       "      <td>747</td>\n",
       "    </tr>\n",
       "    <tr>\n",
       "      <th>2</th>\n",
       "      <td>2</td>\n",
       "      <td>72287</td>\n",
       "      <td>21</td>\n",
       "      <td>1</td>\n",
       "      <td>19</td>\n",
       "      <td>128</td>\n",
       "      <td>2017-11-10 04:00:00</td>\n",
       "      <td>229</td>\n",
       "      <td>500</td>\n",
       "    </tr>\n",
       "    <tr>\n",
       "      <th>3</th>\n",
       "      <td>3</td>\n",
       "      <td>78477</td>\n",
       "      <td>15</td>\n",
       "      <td>1</td>\n",
       "      <td>13</td>\n",
       "      <td>111</td>\n",
       "      <td>2017-11-10 04:00:00</td>\n",
       "      <td>239</td>\n",
       "      <td>476</td>\n",
       "    </tr>\n",
       "    <tr>\n",
       "      <th>4</th>\n",
       "      <td>4</td>\n",
       "      <td>123080</td>\n",
       "      <td>12</td>\n",
       "      <td>1</td>\n",
       "      <td>13</td>\n",
       "      <td>328</td>\n",
       "      <td>2017-11-10 04:00:00</td>\n",
       "      <td>60</td>\n",
       "      <td>68</td>\n",
       "    </tr>\n",
       "    <tr>\n",
       "      <th>...</th>\n",
       "      <td>...</td>\n",
       "      <td>...</td>\n",
       "      <td>...</td>\n",
       "      <td>...</td>\n",
       "      <td>...</td>\n",
       "      <td>...</td>\n",
       "      <td>...</td>\n",
       "      <td>...</td>\n",
       "      <td>...</td>\n",
       "    </tr>\n",
       "    <tr>\n",
       "      <th>18790464</th>\n",
       "      <td>18790464</td>\n",
       "      <td>99442</td>\n",
       "      <td>9</td>\n",
       "      <td>1</td>\n",
       "      <td>13</td>\n",
       "      <td>127</td>\n",
       "      <td>2017-11-10 15:00:00</td>\n",
       "      <td>2</td>\n",
       "      <td>8</td>\n",
       "    </tr>\n",
       "    <tr>\n",
       "      <th>18790465</th>\n",
       "      <td>18790465</td>\n",
       "      <td>88046</td>\n",
       "      <td>23</td>\n",
       "      <td>1</td>\n",
       "      <td>37</td>\n",
       "      <td>153</td>\n",
       "      <td>2017-11-10 15:00:00</td>\n",
       "      <td>1</td>\n",
       "      <td>396</td>\n",
       "    </tr>\n",
       "    <tr>\n",
       "      <th>18790466</th>\n",
       "      <td>18790467</td>\n",
       "      <td>81398</td>\n",
       "      <td>18</td>\n",
       "      <td>1</td>\n",
       "      <td>17</td>\n",
       "      <td>265</td>\n",
       "      <td>2017-11-10 15:00:00</td>\n",
       "      <td>2</td>\n",
       "      <td>374</td>\n",
       "    </tr>\n",
       "    <tr>\n",
       "      <th>18790467</th>\n",
       "      <td>18790466</td>\n",
       "      <td>123236</td>\n",
       "      <td>27</td>\n",
       "      <td>1</td>\n",
       "      <td>13</td>\n",
       "      <td>122</td>\n",
       "      <td>2017-11-10 15:00:00</td>\n",
       "      <td>1</td>\n",
       "      <td>79</td>\n",
       "    </tr>\n",
       "    <tr>\n",
       "      <th>18790468</th>\n",
       "      <td>18790468</td>\n",
       "      <td>73516</td>\n",
       "      <td>12</td>\n",
       "      <td>2</td>\n",
       "      <td>27</td>\n",
       "      <td>265</td>\n",
       "      <td>2017-11-10 15:00:00</td>\n",
       "      <td>4</td>\n",
       "      <td>34296</td>\n",
       "    </tr>\n",
       "  </tbody>\n",
       "</table>\n",
       "<p>18790469 rows × 9 columns</p>\n",
       "</div>"
      ],
      "text/plain": [
       "          click_id      ip  app  device  os  channel          click_time  \\\n",
       "0                0    5744    9       1   3      107 2017-11-10 04:00:00   \n",
       "1                1  119901    9       1   3      466 2017-11-10 04:00:00   \n",
       "2                2   72287   21       1  19      128 2017-11-10 04:00:00   \n",
       "3                3   78477   15       1  13      111 2017-11-10 04:00:00   \n",
       "4                4  123080   12       1  13      328 2017-11-10 04:00:00   \n",
       "...            ...     ...  ...     ...  ..      ...                 ...   \n",
       "18790464  18790464   99442    9       1  13      127 2017-11-10 15:00:00   \n",
       "18790465  18790465   88046   23       1  37      153 2017-11-10 15:00:00   \n",
       "18790466  18790467   81398   18       1  17      265 2017-11-10 15:00:00   \n",
       "18790467  18790466  123236   27       1  13      122 2017-11-10 15:00:00   \n",
       "18790468  18790468   73516   12       2  27      265 2017-11-10 15:00:00   \n",
       "\n",
       "          real_clicks_1hr  real_clicks_6hr  \n",
       "0                      34               50  \n",
       "1                     403              747  \n",
       "2                     229              500  \n",
       "3                     239              476  \n",
       "4                      60               68  \n",
       "...                   ...              ...  \n",
       "18790464                2                8  \n",
       "18790465                1              396  \n",
       "18790466                2              374  \n",
       "18790467                1               79  \n",
       "18790468                4            34296  \n",
       "\n",
       "[18790469 rows x 9 columns]"
      ]
     },
     "execution_count": 172,
     "metadata": {},
     "output_type": "execute_result"
    }
   ],
   "source": [
    "test"
   ]
  },
  {
   "cell_type": "code",
   "execution_count": 173,
   "metadata": {},
   "outputs": [
    {
     "name": "stdout",
     "output_type": "stream",
     "text": [
      "<class 'pandas.core.frame.DataFrame'>\n",
      "Index: 100000 entries, 54955 to 23038\n",
      "Data columns (total 9 columns):\n",
      " #   Column           Non-Null Count   Dtype         \n",
      "---  ------           --------------   -----         \n",
      " 0   ip               100000 non-null  uint32        \n",
      " 1   app              100000 non-null  uint16        \n",
      " 2   device           100000 non-null  uint16        \n",
      " 3   os               100000 non-null  uint16        \n",
      " 4   channel          100000 non-null  uint16        \n",
      " 5   click_time       100000 non-null  datetime64[ns]\n",
      " 6   is_attributed    100000 non-null  uint8         \n",
      " 7   real_clicks_1hr  100000 non-null  int64         \n",
      " 8   real_clicks_6hr  100000 non-null  int64         \n",
      "dtypes: datetime64[ns](1), int64(2), uint16(4), uint32(1), uint8(1)\n",
      "memory usage: 4.3 MB\n"
     ]
    }
   ],
   "source": [
    "train.info()"
   ]
  },
  {
   "cell_type": "code",
   "execution_count": 174,
   "metadata": {},
   "outputs": [
    {
     "data": {
      "text/plain": [
       "Index(['ip', 'app', 'device', 'os', 'channel', 'click_time', 'is_attributed',\n",
       "       'real_clicks_1hr', 'real_clicks_6hr'],\n",
       "      dtype='object')"
      ]
     },
     "execution_count": 174,
     "metadata": {},
     "output_type": "execute_result"
    }
   ],
   "source": [
    "train.columns"
   ]
  },
  {
   "cell_type": "code",
   "execution_count": 175,
   "metadata": {},
   "outputs": [
    {
     "data": {
      "text/html": [
       "<div>\n",
       "<style scoped>\n",
       "    .dataframe tbody tr th:only-of-type {\n",
       "        vertical-align: middle;\n",
       "    }\n",
       "\n",
       "    .dataframe tbody tr th {\n",
       "        vertical-align: top;\n",
       "    }\n",
       "\n",
       "    .dataframe thead th {\n",
       "        text-align: right;\n",
       "    }\n",
       "</style>\n",
       "<table border=\"1\" class=\"dataframe\">\n",
       "  <thead>\n",
       "    <tr style=\"text-align: right;\">\n",
       "      <th></th>\n",
       "      <th>ip</th>\n",
       "      <th>app</th>\n",
       "      <th>device</th>\n",
       "      <th>os</th>\n",
       "      <th>channel</th>\n",
       "    </tr>\n",
       "  </thead>\n",
       "  <tbody>\n",
       "    <tr>\n",
       "      <th>54955</th>\n",
       "      <td>48646</td>\n",
       "      <td>12</td>\n",
       "      <td>1</td>\n",
       "      <td>19</td>\n",
       "      <td>178</td>\n",
       "    </tr>\n",
       "    <tr>\n",
       "      <th>28314</th>\n",
       "      <td>93836</td>\n",
       "      <td>12</td>\n",
       "      <td>1</td>\n",
       "      <td>30</td>\n",
       "      <td>328</td>\n",
       "    </tr>\n",
       "    <tr>\n",
       "      <th>31830</th>\n",
       "      <td>5314</td>\n",
       "      <td>8</td>\n",
       "      <td>1</td>\n",
       "      <td>13</td>\n",
       "      <td>145</td>\n",
       "    </tr>\n",
       "    <tr>\n",
       "      <th>99357</th>\n",
       "      <td>73954</td>\n",
       "      <td>23</td>\n",
       "      <td>1</td>\n",
       "      <td>19</td>\n",
       "      <td>153</td>\n",
       "    </tr>\n",
       "    <tr>\n",
       "      <th>83228</th>\n",
       "      <td>91574</td>\n",
       "      <td>3</td>\n",
       "      <td>1</td>\n",
       "      <td>17</td>\n",
       "      <td>135</td>\n",
       "    </tr>\n",
       "    <tr>\n",
       "      <th>...</th>\n",
       "      <td>...</td>\n",
       "      <td>...</td>\n",
       "      <td>...</td>\n",
       "      <td>...</td>\n",
       "      <td>...</td>\n",
       "    </tr>\n",
       "    <tr>\n",
       "      <th>75024</th>\n",
       "      <td>85592</td>\n",
       "      <td>12</td>\n",
       "      <td>1</td>\n",
       "      <td>13</td>\n",
       "      <td>145</td>\n",
       "    </tr>\n",
       "    <tr>\n",
       "      <th>83818</th>\n",
       "      <td>91779</td>\n",
       "      <td>18</td>\n",
       "      <td>1</td>\n",
       "      <td>41</td>\n",
       "      <td>379</td>\n",
       "    </tr>\n",
       "    <tr>\n",
       "      <th>17634</th>\n",
       "      <td>81374</td>\n",
       "      <td>14</td>\n",
       "      <td>1</td>\n",
       "      <td>25</td>\n",
       "      <td>118</td>\n",
       "    </tr>\n",
       "    <tr>\n",
       "      <th>41817</th>\n",
       "      <td>11911</td>\n",
       "      <td>1</td>\n",
       "      <td>1</td>\n",
       "      <td>22</td>\n",
       "      <td>115</td>\n",
       "    </tr>\n",
       "    <tr>\n",
       "      <th>23038</th>\n",
       "      <td>44018</td>\n",
       "      <td>13</td>\n",
       "      <td>1</td>\n",
       "      <td>19</td>\n",
       "      <td>477</td>\n",
       "    </tr>\n",
       "  </tbody>\n",
       "</table>\n",
       "<p>100000 rows × 5 columns</p>\n",
       "</div>"
      ],
      "text/plain": [
       "          ip  app  device  os  channel\n",
       "54955  48646   12       1  19      178\n",
       "28314  93836   12       1  30      328\n",
       "31830   5314    8       1  13      145\n",
       "99357  73954   23       1  19      153\n",
       "83228  91574    3       1  17      135\n",
       "...      ...  ...     ...  ..      ...\n",
       "75024  85592   12       1  13      145\n",
       "83818  91779   18       1  41      379\n",
       "17634  81374   14       1  25      118\n",
       "41817  11911    1       1  22      115\n",
       "23038  44018   13       1  19      477\n",
       "\n",
       "[100000 rows x 5 columns]"
      ]
     },
     "execution_count": 175,
     "metadata": {},
     "output_type": "execute_result"
    }
   ],
   "source": [
    "train_5 = train[['ip', 'app', 'device', 'os', 'channel']]\n",
    "train_5"
   ]
  },
  {
   "cell_type": "code",
   "execution_count": 176,
   "metadata": {},
   "outputs": [],
   "source": [
    "# train = train.drop(['ip', 'app', 'device', 'os', 'channel'], axis = 1)\n",
    "# train"
   ]
  },
  {
   "cell_type": "code",
   "execution_count": 177,
   "metadata": {},
   "outputs": [
    {
     "data": {
      "text/html": [
       "<div>\n",
       "<style scoped>\n",
       "    .dataframe tbody tr th:only-of-type {\n",
       "        vertical-align: middle;\n",
       "    }\n",
       "\n",
       "    .dataframe tbody tr th {\n",
       "        vertical-align: top;\n",
       "    }\n",
       "\n",
       "    .dataframe thead th {\n",
       "        text-align: right;\n",
       "    }\n",
       "</style>\n",
       "<table border=\"1\" class=\"dataframe\">\n",
       "  <thead>\n",
       "    <tr style=\"text-align: right;\">\n",
       "      <th></th>\n",
       "      <th>ip</th>\n",
       "      <th>app</th>\n",
       "      <th>device</th>\n",
       "      <th>os</th>\n",
       "      <th>channel</th>\n",
       "    </tr>\n",
       "  </thead>\n",
       "  <tbody>\n",
       "    <tr>\n",
       "      <th>0</th>\n",
       "      <td>5744</td>\n",
       "      <td>9</td>\n",
       "      <td>1</td>\n",
       "      <td>3</td>\n",
       "      <td>107</td>\n",
       "    </tr>\n",
       "    <tr>\n",
       "      <th>1</th>\n",
       "      <td>119901</td>\n",
       "      <td>9</td>\n",
       "      <td>1</td>\n",
       "      <td>3</td>\n",
       "      <td>466</td>\n",
       "    </tr>\n",
       "    <tr>\n",
       "      <th>2</th>\n",
       "      <td>72287</td>\n",
       "      <td>21</td>\n",
       "      <td>1</td>\n",
       "      <td>19</td>\n",
       "      <td>128</td>\n",
       "    </tr>\n",
       "    <tr>\n",
       "      <th>3</th>\n",
       "      <td>78477</td>\n",
       "      <td>15</td>\n",
       "      <td>1</td>\n",
       "      <td>13</td>\n",
       "      <td>111</td>\n",
       "    </tr>\n",
       "    <tr>\n",
       "      <th>4</th>\n",
       "      <td>123080</td>\n",
       "      <td>12</td>\n",
       "      <td>1</td>\n",
       "      <td>13</td>\n",
       "      <td>328</td>\n",
       "    </tr>\n",
       "    <tr>\n",
       "      <th>...</th>\n",
       "      <td>...</td>\n",
       "      <td>...</td>\n",
       "      <td>...</td>\n",
       "      <td>...</td>\n",
       "      <td>...</td>\n",
       "    </tr>\n",
       "    <tr>\n",
       "      <th>18790464</th>\n",
       "      <td>99442</td>\n",
       "      <td>9</td>\n",
       "      <td>1</td>\n",
       "      <td>13</td>\n",
       "      <td>127</td>\n",
       "    </tr>\n",
       "    <tr>\n",
       "      <th>18790465</th>\n",
       "      <td>88046</td>\n",
       "      <td>23</td>\n",
       "      <td>1</td>\n",
       "      <td>37</td>\n",
       "      <td>153</td>\n",
       "    </tr>\n",
       "    <tr>\n",
       "      <th>18790466</th>\n",
       "      <td>81398</td>\n",
       "      <td>18</td>\n",
       "      <td>1</td>\n",
       "      <td>17</td>\n",
       "      <td>265</td>\n",
       "    </tr>\n",
       "    <tr>\n",
       "      <th>18790467</th>\n",
       "      <td>123236</td>\n",
       "      <td>27</td>\n",
       "      <td>1</td>\n",
       "      <td>13</td>\n",
       "      <td>122</td>\n",
       "    </tr>\n",
       "    <tr>\n",
       "      <th>18790468</th>\n",
       "      <td>73516</td>\n",
       "      <td>12</td>\n",
       "      <td>2</td>\n",
       "      <td>27</td>\n",
       "      <td>265</td>\n",
       "    </tr>\n",
       "  </tbody>\n",
       "</table>\n",
       "<p>18790469 rows × 5 columns</p>\n",
       "</div>"
      ],
      "text/plain": [
       "              ip  app  device  os  channel\n",
       "0           5744    9       1   3      107\n",
       "1         119901    9       1   3      466\n",
       "2          72287   21       1  19      128\n",
       "3          78477   15       1  13      111\n",
       "4         123080   12       1  13      328\n",
       "...          ...  ...     ...  ..      ...\n",
       "18790464   99442    9       1  13      127\n",
       "18790465   88046   23       1  37      153\n",
       "18790466   81398   18       1  17      265\n",
       "18790467  123236   27       1  13      122\n",
       "18790468   73516   12       2  27      265\n",
       "\n",
       "[18790469 rows x 5 columns]"
      ]
     },
     "execution_count": 177,
     "metadata": {},
     "output_type": "execute_result"
    }
   ],
   "source": [
    "test_5 = test[['ip', 'app', 'device', 'os', 'channel']]\n",
    "test_5"
   ]
  },
  {
   "cell_type": "code",
   "execution_count": 178,
   "metadata": {},
   "outputs": [],
   "source": [
    "# test = test.drop(['ip', 'app', 'device', 'os', 'channel'], axis = 1)\n",
    "# test"
   ]
  },
  {
   "cell_type": "code",
   "execution_count": 179,
   "metadata": {},
   "outputs": [
    {
     "data": {
      "text/plain": [
       "Index(['ip', 'app', 'device', 'os', 'channel', 'click_time', 'is_attributed',\n",
       "       'real_clicks_1hr', 'real_clicks_6hr'],\n",
       "      dtype='object')"
      ]
     },
     "execution_count": 179,
     "metadata": {},
     "output_type": "execute_result"
    }
   ],
   "source": [
    "train.columns"
   ]
  },
  {
   "cell_type": "code",
   "execution_count": 180,
   "metadata": {},
   "outputs": [],
   "source": [
    "uint8_cols = ['is_attributed', 'click_time_hour', 'click_time_minute', 'real_clicks_1hr', 'real_clicks_6hr']\n",
    "#train[uint8_cols] = train[uint8_cols].astype(np.uint8)\n",
    "\n",
    "# 나머지 모든 열을 float32로 변환\n",
    "exclude_cols = uint8_cols + ['click_time']\n",
    "float32_cols = train.columns.difference(exclude_cols)\n",
    "train[float32_cols] = train[float32_cols].astype(np.float32)"
   ]
  },
  {
   "cell_type": "code",
   "execution_count": 181,
   "metadata": {},
   "outputs": [
    {
     "name": "stdout",
     "output_type": "stream",
     "text": [
      "<class 'pandas.core.frame.DataFrame'>\n",
      "Index: 100000 entries, 54955 to 23038\n",
      "Data columns (total 9 columns):\n",
      " #   Column           Non-Null Count   Dtype         \n",
      "---  ------           --------------   -----         \n",
      " 0   ip               100000 non-null  float32       \n",
      " 1   app              100000 non-null  float32       \n",
      " 2   device           100000 non-null  float32       \n",
      " 3   os               100000 non-null  float32       \n",
      " 4   channel          100000 non-null  float32       \n",
      " 5   click_time       100000 non-null  datetime64[ns]\n",
      " 6   is_attributed    100000 non-null  uint8         \n",
      " 7   real_clicks_1hr  100000 non-null  int64         \n",
      " 8   real_clicks_6hr  100000 non-null  int64         \n",
      "dtypes: datetime64[ns](1), float32(5), int64(2), uint8(1)\n",
      "memory usage: 5.1 MB\n"
     ]
    }
   ],
   "source": [
    "train.info()"
   ]
  },
  {
   "cell_type": "code",
   "execution_count": 182,
   "metadata": {},
   "outputs": [],
   "source": [
    "uint8_cols = ['click_time_hour', 'click_time_minute', 'real_clicks_1hr', 'real_clicks_6hr']\n",
    "#train[uint8_cols] = train[uint8_cols].astype(np.uint8)\n",
    "\n",
    "# 나머지 모든 열을 float32로 변환\n",
    "exclude_cols = uint8_cols + ['click_time']\n",
    "float32_cols = test.columns.difference(exclude_cols)\n",
    "test[float32_cols] = test[float32_cols].astype(np.float32)"
   ]
  },
  {
   "cell_type": "code",
   "execution_count": 183,
   "metadata": {},
   "outputs": [
    {
     "name": "stdout",
     "output_type": "stream",
     "text": [
      "<class 'pandas.core.frame.DataFrame'>\n",
      "RangeIndex: 18790469 entries, 0 to 18790468\n",
      "Data columns (total 9 columns):\n",
      " #   Column           Dtype         \n",
      "---  ------           -----         \n",
      " 0   click_id         float32       \n",
      " 1   ip               float32       \n",
      " 2   app              float32       \n",
      " 3   device           float32       \n",
      " 4   os               float32       \n",
      " 5   channel          float32       \n",
      " 6   click_time       datetime64[ns]\n",
      " 7   real_clicks_1hr  int64         \n",
      " 8   real_clicks_6hr  int64         \n",
      "dtypes: datetime64[ns](1), float32(6), int64(2)\n",
      "memory usage: 860.2 MB\n"
     ]
    }
   ],
   "source": [
    "test.info()"
   ]
  },
  {
   "cell_type": "code",
   "execution_count": null,
   "metadata": {},
   "outputs": [],
   "source": []
  },
  {
   "cell_type": "code",
   "execution_count": 184,
   "metadata": {},
   "outputs": [],
   "source": [
    "# ips"
   ]
  },
  {
   "cell_type": "code",
   "execution_count": 185,
   "metadata": {},
   "outputs": [],
   "source": [
    "# apps_of_ip"
   ]
  },
  {
   "cell_type": "code",
   "execution_count": 186,
   "metadata": {},
   "outputs": [],
   "source": [
    "# apps_as_sentence"
   ]
  },
  {
   "cell_type": "code",
   "execution_count": 187,
   "metadata": {},
   "outputs": [],
   "source": [
    "# lda_models"
   ]
  },
  {
   "cell_type": "code",
   "execution_count": 188,
   "metadata": {},
   "outputs": [],
   "source": [
    "# topics_of_ips"
   ]
  },
  {
   "cell_type": "code",
   "execution_count": 189,
   "metadata": {},
   "outputs": [],
   "source": [
    "# topics_of_ips.shape"
   ]
  },
  {
   "cell_type": "code",
   "execution_count": 190,
   "metadata": {},
   "outputs": [],
   "source": [
    "# # 테스트 데이터에 대해 동일한 과정을 반복\n",
    "# if LDA_Mode == 'ON':\n",
    "#     for var1, var2 in permutations(col, 2):\n",
    "#         # data_samples 생성\n",
    "#         data_samples = test[[var1, var2]].to_dict('records')\n",
    "\n",
    "#         # IP 주소별로 실행된 애플리케이션을 사전 형태로 저장\n",
    "#         apps_of_ip = {}\n",
    "#         for sample in data_samples:\n",
    "#             apps_of_ip.setdefault(sample[var1], []).append(str(sample[var2]))\n",
    "\n",
    "#         # 각 IP 주소별로 실행된 애플리케이션을 문장 형태로 변환\n",
    "#         ips = list(apps_of_ip.keys())\n",
    "#         test_apps_as_sentence = [' '.join(apps_of_ip[ip]) for ip in ips]\n",
    "\n",
    "#         # 학습된 CountVectorizer를 사용하여 문서-단어 행렬로 변환\n",
    "#         vectorizer = vectorizers[(var1, var2)]\n",
    "#         test_apps_as_matrix = vectorizer.transform(test_apps_as_sentence)\n",
    "\n",
    "#         # 학습된 LDA 모델을 사용하여 토픽 분포 예측\n",
    "#         lda = lda_models[(var1, var2)]\n",
    "#         topics_of_test_ips = lda.transform(test_apps_as_matrix)\n",
    "\n",
    "#         # 토픽 데이터프레임 생성\n",
    "#         topics_test_df = pd.DataFrame(topics_of_test_ips, columns=[f'topic_{var1}+{var2}+_{j+1}' for j in range(5)])\n",
    "\n",
    "#         # IP 주소 열 추가\n",
    "#         topics_test_df[var1] = ips\n",
    "\n",
    "#         # 테스트 데이터프레임과 병합\n",
    "#         test = test.merge(topics_test_df, on=var1, how='left')\n"
   ]
  },
  {
   "cell_type": "code",
   "execution_count": 191,
   "metadata": {},
   "outputs": [
    {
     "data": {
      "text/plain": [
       "0"
      ]
     },
     "execution_count": 191,
     "metadata": {},
     "output_type": "execute_result"
    }
   ],
   "source": [
    "train.isna().sum().sum()"
   ]
  },
  {
   "cell_type": "code",
   "execution_count": 192,
   "metadata": {},
   "outputs": [
    {
     "data": {
      "text/plain": [
       "0"
      ]
     },
     "execution_count": 192,
     "metadata": {},
     "output_type": "execute_result"
    }
   ],
   "source": [
    "test.isna().sum().sum()"
   ]
  },
  {
   "cell_type": "code",
   "execution_count": 193,
   "metadata": {},
   "outputs": [],
   "source": [
    "# topics_of_test_ips.shape"
   ]
  },
  {
   "cell_type": "code",
   "execution_count": 194,
   "metadata": {},
   "outputs": [],
   "source": [
    "# test['device'].nunique()"
   ]
  },
  {
   "cell_type": "code",
   "execution_count": 195,
   "metadata": {},
   "outputs": [],
   "source": [
    "# lda_models"
   ]
  },
  {
   "cell_type": "code",
   "execution_count": 196,
   "metadata": {},
   "outputs": [],
   "source": [
    "# %%time\n",
    "\n",
    "# from sklearn.feature_extraction.text import CountVectorizer\n",
    "# from sklearn.decomposition import LatentDirichletAllocation\n",
    "# from itertools import permutations\n",
    "\n",
    "# if LDA_Mode == 'ON':\n",
    "#     col = ['ip', 'os', 'app', 'channel', 'device']\n",
    "#     #col = ['ip', 'os']\n",
    "#     ti = 0\n",
    "#     # 모든 2개 조합에 대해 반복\n",
    "#     for i, (var1, var2) in enumerate(permutations(col, 2), start=1):\n",
    "#         ti += 1\n",
    "#         print(f'{var1}, {var2}')\n",
    "#         # data_samples 생성\n",
    "#         data_samples = train[[var1, var2]].to_dict('records')\n",
    "\n",
    "#         # IP 주소별로 실행된 애플리케이션을 사전 형태로 저장\n",
    "#         apps_of_ip = {}\n",
    "#         for sample in data_samples:\n",
    "#             apps_of_ip.setdefault(sample[var1], []).append(str(sample[var2]))\n",
    "\n",
    "#         # 각 IP 주소별로 실행된 애플리케이션을 문장 형태로 변환\n",
    "#         ips = list(apps_of_ip.keys())\n",
    "#         apps_as_sentence = [' '.join(apps_of_ip[ip]) for ip in ips]\n",
    "\n",
    "#         # CountVectorizer를 사용하여 문서-단어 행렬로 변환\n",
    "#         vectorizer = CountVectorizer()\n",
    "#         apps_as_matrix = vectorizer.fit_transform(apps_as_sentence)\n",
    "\n",
    "#         # LDA 모델을 사용하여 토픽 모델링 수행\n",
    "#         lda = LatentDirichletAllocation(n_components=5, random_state=42)\n",
    "#         topics_of_ips = lda.fit_transform(apps_as_matrix)\n",
    "\n",
    "#         # 토픽 데이터프레임 생성\n",
    "#         topics_df = pd.DataFrame(topics_of_ips, columns=[f'topic_{var1}+{var2}+_{j+1}' for j in range(5)])\n",
    "\n",
    "#         # IP 주소 열 추가\n",
    "#         topics_df[var1] = ips\n",
    "\n",
    "#         # 원래 데이터프레임과 병합\n",
    "#         train = train.merge(topics_df, on=var1, how='left')\n",
    "        \n",
    "        \n",
    "        \n",
    "#         data_samples = test[[var1, var2]].to_dict('records')\n",
    "\n",
    "#         # IP 주소별로 실행된 애플리케이션을 사전 형태로 저장\n",
    "#         apps_of_ip = {}\n",
    "#         for sample in data_samples:\n",
    "#             apps_of_ip.setdefault(sample[var1], []).append(str(sample[var2]))\n",
    "        \n",
    "#          # 테스트 데이터에 대한 data_samples 생성\n",
    "#         data_samples = test[[var1, var2]].to_dict('records')\n",
    "\n",
    "#         # IP 주소별로 실행된 애플리케이션을 사전 형태로 저장\n",
    "#         apps_of_ip_test = {}\n",
    "#         for sample in data_samples:\n",
    "#             apps_of_ip_test.setdefault(sample[var1], []).append(str(sample[var2]))\n",
    "\n",
    "#         # 각 IP 주소별로 실행된 애플리케이션을 문장 형태로 변환\n",
    "#         test_ips = list(apps_of_ip_test.keys())\n",
    "#         test_apps_as_sentence = [' '.join(apps_of_ip_test[ip]) for ip in test_ips]\n",
    "\n",
    "#         # CountVectorizer를 사용하여 테스트 데이터의 문서-단어 행렬로 변환\n",
    "        \n",
    "#         test_apps_as_matrix = vectorizer.transform(test_apps_as_sentence)\n",
    "\n",
    "#         # 테스트 데이터에 대해 LDA 토픽 분포 얻기\n",
    "#         topics_of_test_ips = lda.transform(test_apps_as_matrix)\n",
    "\n",
    "#         # 토픽 데이터프레임 생성\n",
    "#         topics_test_df = pd.DataFrame(topics_of_test_ips, columns=[f'topic_{var1}+{var2}+_{j+1}' for j in range(5)])\n",
    "\n",
    "#         # IP 주소 열 추가\n",
    "#         topics_test_df[var1] = test_ips\n",
    "\n",
    "#         # 테스트 데이터프레임과 병합\n",
    "#         test = test.merge(topics_test_df, on=var1, how='left')\n",
    "        \n",
    "#         print(\"!!!\", ti)\n",
    "# #test.to_csv('test_new13.csv', index=False)\n",
    "# test"
   ]
  },
  {
   "cell_type": "code",
   "execution_count": 197,
   "metadata": {},
   "outputs": [],
   "source": [
    "# train = pd.read_csv('small_train_fea109.csv')\n",
    "# train"
   ]
  },
  {
   "cell_type": "code",
   "execution_count": 198,
   "metadata": {},
   "outputs": [],
   "source": [
    "# dtypes = {\n",
    "#         'ip'            : 'uint32',\n",
    "#         'app'           : 'uint16',\n",
    "#         'device'        : 'uint16',\n",
    "#         'os'            : 'uint16',\n",
    "#         'channel'       : 'uint16',\n",
    "#         'is_attributed' : 'uint8',\n",
    "#         }"
   ]
  },
  {
   "cell_type": "code",
   "execution_count": 199,
   "metadata": {},
   "outputs": [],
   "source": [
    "# train.info()"
   ]
  },
  {
   "cell_type": "code",
   "execution_count": 200,
   "metadata": {},
   "outputs": [],
   "source": [
    "selected_columns = ['ip', 'app', 'device', 'os', 'channel']"
   ]
  },
  {
   "cell_type": "code",
   "execution_count": 201,
   "metadata": {},
   "outputs": [],
   "source": [
    "# train = train.drop(selected_columns, axis = 1)\n",
    "# train"
   ]
  },
  {
   "cell_type": "code",
   "execution_count": 202,
   "metadata": {},
   "outputs": [],
   "source": [
    "# submission = pd.read_csv(\"sample_submission.csv\")"
   ]
  },
  {
   "cell_type": "code",
   "execution_count": 203,
   "metadata": {},
   "outputs": [],
   "source": [
    "selected_columns = ['ip', 'app', 'device', 'os', 'channel']"
   ]
  },
  {
   "cell_type": "code",
   "execution_count": 204,
   "metadata": {},
   "outputs": [],
   "source": [
    "# uint8_cols = ['click_time_hour', 'click_time_minute', 'real_clicks_1hr', 'real_clicks_6hr']\n",
    "# train[uint8_cols] = train[uint8_cols].astype(np.uint8)\n",
    "\n",
    "# # 나머지 모든 열을 float32로 변환\n",
    "# exclude_cols = uint8_cols + ['click_time']\n",
    "# float32_cols = train.columns.difference(exclude_cols)\n",
    "# train[float32_cols] = train[float32_cols].astype(np.float32)"
   ]
  },
  {
   "cell_type": "code",
   "execution_count": 205,
   "metadata": {},
   "outputs": [],
   "source": [
    "# dtypes = {\n",
    "#         'click_time_hour'            : 'uint8',\n",
    "#         'click_time_minute'           : 'uint8',\n",
    "#         'real_clicks_1hr'        : 'uint8',\n",
    "#         'real_clicks_6hr'            : 'uint8',\n",
    "#         }\n",
    "\n",
    "# test = pd.read_csv('test_fea109.csv', dtype = dtypes)\n",
    "# test"
   ]
  },
  {
   "cell_type": "code",
   "execution_count": 206,
   "metadata": {},
   "outputs": [],
   "source": [
    "# test = test.drop(selected_columns, axis = 1)\n",
    "# test"
   ]
  },
  {
   "cell_type": "code",
   "execution_count": 207,
   "metadata": {},
   "outputs": [
    {
     "data": {
      "text/plain": [
       "0"
      ]
     },
     "execution_count": 207,
     "metadata": {},
     "output_type": "execute_result"
    }
   ],
   "source": [
    "gc.collect()"
   ]
  },
  {
   "cell_type": "markdown",
   "metadata": {
    "id": "RL8mSbxg6wL-"
   },
   "source": [
    "## 공통"
   ]
  },
  {
   "cell_type": "code",
   "execution_count": 287,
   "metadata": {
    "executionInfo": {
     "elapsed": 47,
     "status": "ok",
     "timestamp": 1716950896583,
     "user": {
      "displayName": "Lee Minjik",
      "userId": "03992121075759719709"
     },
     "user_tz": -540
    },
    "id": "O5yTgIEbFMaJ"
   },
   "outputs": [],
   "source": [
    "lgbm_params = {\n",
    "    'learning_rate': LGBM_learning_rate,\n",
    "    'objective': 'binary',    # binary, multiclass\n",
    "    'metric': 'auc ',   # auc, multi_logloss\n",
    "    'n_estimators': LGBM_n_estimators,\n",
    "    'importance_type': 'gain',\n",
    "    'verbose': -1,\n",
    "    'random_state': 42,\n",
    "}\n",
    "\n",
    "xgb_params = {\n",
    "    'objective': 'binary:logistic',   # binary:logistic, multi:softprob\n",
    "    'eval_metric': 'auc',       # auc, mlogloss\n",
    "    'learning_rate': XGB_learning_rate,\n",
    "    'tree_method': XGB_tree_method,\n",
    "    'n_estimators': XGB_n_estimators,\n",
    "    'importance_type': 'gain',\n",
    "    'verbosity': 0,\n",
    "    'random_state': 42,\n",
    "}\n",
    "\n",
    "cb_params = {\n",
    "    'objective': 'Logloss',     # Logloss, MultiClass\n",
    "    'eval_metric': 'AUC',   # AUC, MultiClass\n",
    "    'n_estimators': CB_n_estimators,\n",
    "    'verbose': 0,\n",
    "    'random_state': 42,\n",
    "}\n",
    "\n",
    "rf_params = {\n",
    "    'random_state': 42,\n",
    "}"
   ]
  },
  {
   "cell_type": "code",
   "execution_count": 209,
   "metadata": {},
   "outputs": [
    {
     "data": {
      "text/plain": [
       "9"
      ]
     },
     "execution_count": 209,
     "metadata": {},
     "output_type": "execute_result"
    }
   ],
   "source": [
    "len(train.columns)"
   ]
  },
  {
   "cell_type": "code",
   "execution_count": 210,
   "metadata": {},
   "outputs": [
    {
     "data": {
      "text/plain": [
       "9"
      ]
     },
     "execution_count": 210,
     "metadata": {},
     "output_type": "execute_result"
    }
   ],
   "source": [
    "len(test.columns)"
   ]
  },
  {
   "cell_type": "code",
   "execution_count": 211,
   "metadata": {},
   "outputs": [],
   "source": [
    "# train.head()"
   ]
  },
  {
   "cell_type": "code",
   "execution_count": 212,
   "metadata": {},
   "outputs": [],
   "source": [
    "# test.head()"
   ]
  },
  {
   "cell_type": "code",
   "execution_count": 213,
   "metadata": {
    "executionInfo": {
     "elapsed": 46,
     "status": "ok",
     "timestamp": 1716950896583,
     "user": {
      "displayName": "Lee Minjik",
      "userId": "03992121075759719709"
     },
     "user_tz": -540
    },
    "id": "wJvlYTED61T4"
   },
   "outputs": [],
   "source": [
    "obj_list = train.select_dtypes(include='object').columns.tolist()\n",
    "cat_list = train.select_dtypes(include='category').columns.tolist()\n",
    "\n",
    "atrributed_list = ['attributed_time',\n",
    " 'attributed_time_day',\n",
    " 'attributed_time_hour',\n",
    " 'attributed_time_minute',\n",
    " 'attributed_time_month',\n",
    " 'attributed_time_second',\n",
    " 'attributed_time_year',\n",
    " 'time_diff']\n",
    "#drop_fts = atrributed_list + obj_list\n",
    "drop_fts = obj_list\n",
    "\n",
    "drop_fts_all = ['click_time']\n",
    "\n",
    "\n",
    "drop_fts_L = drop_fts\n",
    "drop_fts_X = drop_fts\n",
    "drop_fts_C = drop_fts\n",
    "# drop_fts_C = drop_fts + cat_list\n",
    "drop_fts_R = drop_fts + cat_list"
   ]
  },
  {
   "cell_type": "code",
   "execution_count": 214,
   "metadata": {},
   "outputs": [],
   "source": [
    "drop_fts_all = []"
   ]
  },
  {
   "cell_type": "code",
   "execution_count": 215,
   "metadata": {
    "executionInfo": {
     "elapsed": 45,
     "status": "ok",
     "timestamp": 1716950896583,
     "user": {
      "displayName": "Lee Minjik",
      "userId": "03992121075759719709"
     },
     "user_tz": -540
    },
    "id": "SPI_2ztAHBgH"
   },
   "outputs": [],
   "source": [
    "def drop_sep(drop_fts, log='ON'):\n",
    "    #X_tst = test.drop(drop_fts, axis=1)\n",
    "    #X_tst = test.drop(drop_fts_all + ['click_id'], axis = 1)\n",
    "    X_tst = test.drop(drop_fts_all, axis = 1)\n",
    "    X = train.drop(drop_fts + drop_fts_all + [Target], axis=1)\n",
    "    y = train[Target]\n",
    "\n",
    "    if log == 'ON':\n",
    "        print(X.columns)\n",
    "        print(X_tst.columns)\n",
    "        \n",
    "        print(f'Train data shape: {X.shape}, Missing: {X.isna().sum().sum()}')\n",
    "        print(f'Test  data shape: {X_tst.shape}, Missing: {X_tst.isna().sum().sum()}')\n",
    "        print(X.columns)\n",
    "    return X, y, X_tst"
   ]
  },
  {
   "cell_type": "code",
   "execution_count": 216,
   "metadata": {
    "executionInfo": {
     "elapsed": 44,
     "status": "ok",
     "timestamp": 1716950896583,
     "user": {
      "displayName": "Lee Minjik",
      "userId": "03992121075759719709"
     },
     "user_tz": -540
    },
    "id": "wRn71gqv5PDK"
   },
   "outputs": [],
   "source": [
    "def oofp(model_name, model, X, y, X_tst, verbose):\n",
    "\n",
    "    if Objective=='regression':\n",
    "        folds = KFold(n_splits=5, shuffle=True, random_state=42)\n",
    "        vld_pred = np.zeros(len(X))\n",
    "        tst_pred = np.zeros(len(X_tst))\n",
    "        ft_gain = np.zeros(len(X.columns))\n",
    "    elif Objective=='binary':\n",
    "        folds = StratifiedKFold(n_splits=5, shuffle=True, random_state=42)\n",
    "        vld_pred = np.zeros(len(X))\n",
    "        tst_pred = np.zeros(len(X_tst))\n",
    "        ft_gain = np.zeros(len(X.columns))\n",
    "    elif Objective=='multi':\n",
    "        folds = StratifiedKFold(n_splits=5, shuffle=True, random_state=42)\n",
    "        vld_pred = np.zeros((len(X), N_Class))\n",
    "        tst_pred = np.zeros((len(X_tst), N_Class))\n",
    "        ft_gain = np.zeros(len(X.columns))\n",
    "\n",
    "    X = X.reset_index(drop=True)\n",
    "    y = y.reset_index(drop=True)\n",
    "    \n",
    "    for fold_id, (trn_idx, vld_idx) in enumerate(folds.split(X, y)):\n",
    "#    for fold_id, (trn_idx, vld_idx) in enumerate(folds.split(X_sampled, y_sampled)):\n",
    "        if verbose > 0:\n",
    "            print('\\n', '#'*40, f'Fold {fold_id+1} / Fold {folds.n_splits}', '#'*40)\n",
    "        X_trn, X_vld = X.loc[trn_idx], X.loc[vld_idx]\n",
    "        y_trn, y_vld = y.loc[trn_idx], y.loc[vld_idx]\n",
    "        if model_name == 'LGBM':\n",
    "            model.fit(\n",
    "                X_trn, y_trn,\n",
    "                eval_set = [(X_vld, y_vld)],\n",
    "                callbacks = [lgb.callback.log_evaluation(verbose)]\n",
    "            )\n",
    "        elif model_name == 'XGB':\n",
    "            model.fit(\n",
    "                X_trn, y_trn,\n",
    "                eval_set = [(X_vld, y_vld)],\n",
    "                verbose = verbose\n",
    "            )\n",
    "        elif model_name == 'CB':\n",
    "            model.fit(\n",
    "                X_trn, y_trn,\n",
    "                eval_set = [(X_vld, y_vld)],\n",
    "                cat_features = cat_fts,\n",
    "                verbose = verbose\n",
    "            )\n",
    "        elif model_name == 'RF':\n",
    "            model.fit(\n",
    "                X_trn, y_trn,\n",
    "            )\n",
    "            \n",
    "\n",
    "        if Objective == 'regression':\n",
    "            vld_pred[vld_idx] = model.predict(X_vld)\n",
    "            tst_pred += model.predict(X_tst) / folds.n_splits\n",
    "            ft_gain += model.feature_importances_ / folds.n_splits\n",
    "        elif Objective == 'binary':\n",
    "            vld_pred[vld_idx] = model.predict_proba(X_vld)[:,1]\n",
    "            tst_pred += model.predict_proba(X_tst)[:,1] / folds.n_splits\n",
    "            ft_gain += model.feature_importances_ / folds.n_splits\n",
    "        elif Objective == 'multi':\n",
    "            vld_pred[vld_idx] = model.predict_proba(X_vld)\n",
    "            tst_pred += model.predict_proba(X_tst) / folds.n_splits\n",
    "            ft_gain += model.feature_importances_ / folds.n_splits\n",
    "\n",
    "    return vld_pred, tst_pred, ft_gain"
   ]
  },
  {
   "cell_type": "code",
   "execution_count": 217,
   "metadata": {},
   "outputs": [
    {
     "data": {
      "text/plain": [
       "(100000, 9)"
      ]
     },
     "execution_count": 217,
     "metadata": {},
     "output_type": "execute_result"
    }
   ],
   "source": [
    "train.shape"
   ]
  },
  {
   "cell_type": "code",
   "execution_count": 218,
   "metadata": {},
   "outputs": [],
   "source": [
    "def oofp_time(model_name, model, X, y, X_tst, verbose):\n",
    "\n",
    "    if Objective == 'regression':\n",
    "        vld_pred = np.zeros(len(X))\n",
    "        tst_pred = np.zeros(len(X_tst))\n",
    "        ft_gain = np.zeros(len(X.columns))\n",
    "    elif Objective == 'binary':\n",
    "        vld_pred = np.zeros(len(X))\n",
    "        tst_pred = np.zeros(len(X_tst))\n",
    "        ft_gain = np.zeros(len(X.columns))\n",
    "    elif Objective == 'multi':\n",
    "        vld_pred = np.zeros((len(X), N_Class))\n",
    "        tst_pred = np.zeros((len(X_tst), N_Class))\n",
    "        ft_gain = np.zeros(len(X.columns))\n",
    "\n",
    "    # 데이터의 전체 길이와 원하는 학습 데이터의 비율 설정\n",
    "    total_length = len(X)\n",
    "    train_ratio = 0.8\n",
    "\n",
    "    # 학습 데이터의 길이 계산\n",
    "    train_length = int(total_length * train_ratio)\n",
    "\n",
    "    # X와 y를 순서대로 나누기\n",
    "    X_train = X.iloc[:train_length]\n",
    "    X_valid = X.iloc[train_length:]\n",
    "    y_train = y.iloc[:train_length]\n",
    "    y_valid = y.iloc[train_length:]\n",
    "\n",
    "\n",
    "    if model_name == 'LGBM':\n",
    "        model.fit(\n",
    "            X_train, y_train,\n",
    "            eval_set=[(X_valid, y_valid)],\n",
    "            callbacks=[lgb.callback.log_evaluation(verbose)]\n",
    "        )\n",
    "    elif model_name == 'XGB':\n",
    "        model.fit(\n",
    "            X_train, y_train,\n",
    "            eval_set=[(X_valid, y_valid)],\n",
    "            verbose=verbose\n",
    "        )\n",
    "    elif model_name == 'CB':\n",
    "        model.fit(\n",
    "            X_train, y_train,\n",
    "            eval_set=[(X_valid, y_valid)],\n",
    "            cat_features=cat_fts,\n",
    "            verbose=verbose\n",
    "        )\n",
    "    elif model_name == 'RF':\n",
    "        model.fit(\n",
    "            X_train, y_train\n",
    "        )\n",
    "\n",
    "    if Objective == 'regression':\n",
    "        vld_pred = model.predict(X_valid)\n",
    "        tst_pred = model.predict(X_tst)\n",
    "        ft_gain = model.feature_importances_\n",
    "    elif Objective == 'binary':\n",
    "        vld_pred = model.predict_proba(X_valid)[:, 1]\n",
    "        tst_pred = model.predict_proba(X_tst)[:, 1]\n",
    "        ft_gain = model.feature_importances_\n",
    "    elif Objective == 'multi':\n",
    "        vld_pred = model.predict_proba(X_valid)\n",
    "        tst_pred = model.predict_proba(X_tst)\n",
    "        ft_gain = model.feature_importances_\n",
    "\n",
    "    return y_valid, vld_pred, tst_pred, ft_gain\n"
   ]
  },
  {
   "cell_type": "code",
   "execution_count": 219,
   "metadata": {
    "executionInfo": {
     "elapsed": 45,
     "status": "ok",
     "timestamp": 1716950896584,
     "user": {
      "displayName": "Lee Minjik",
      "userId": "03992121075759719709"
     },
     "user_tz": -540
    },
    "id": "WeQH7GqcjZmx"
   },
   "outputs": [],
   "source": [
    "def validate(y, vld_pred, eval_metric):\n",
    "    if eval_metric == 'mae':\n",
    "        result = mean_absolute_error(y, vld_pred)\n",
    "    elif eval_metric == 'rmse':\n",
    "        result = np.sqrt(mean_squared_error(y, vld_pred))\n",
    "    elif eval_metric == 'rmsle':\n",
    "        result = np.sqrt(mean_squared_log_error(y, vld_pred))\n",
    "    elif eval_metric == 'accuracy':\n",
    "         result = accuracy_score(y, vld_pred)\n",
    "    elif eval_metric == 'f1_score':\n",
    "        result = f1_score(y, vld_pred)\n",
    "    elif eval_metric == 'roc_auc':\n",
    "        result = roc_auc_score(y, vld_pred)\n",
    "    elif eval_metric == 'log_loss':\n",
    "        result = log_loss(y, vld_pred)\n",
    "    else:\n",
    "        raise ValueError(\"Unsupported evaluation metric.\")\n",
    "\n",
    "    return result"
   ]
  },
  {
   "cell_type": "markdown",
   "metadata": {
    "id": "7l-cWTg4UQbj"
   },
   "source": [
    "## Tuning"
   ]
  },
  {
   "cell_type": "code",
   "execution_count": 220,
   "metadata": {
    "executionInfo": {
     "elapsed": 44,
     "status": "ok",
     "timestamp": 1716950896584,
     "user": {
      "displayName": "Lee Minjik",
      "userId": "03992121075759719709"
     },
     "user_tz": -540
    },
    "id": "LatWAPSrnx1X"
   },
   "outputs": [],
   "source": [
    "if LGBM_Mode == 'TUNING':\n",
    "    lgbm_params.update({\n",
    "        'learning_rate': 0.01,\n",
    "        'n_estimators': 10000,\n",
    "    })\n",
    "\n",
    "if XGB_Mode == 'TUNING':\n",
    "    xgb_params.update({\n",
    "        'tree_method': 'hist',  # auto, exact, approx, hist\n",
    "        'learning_rate': 0.03,\n",
    "        'n_estimators': 10000,\n",
    "    })\n",
    "\n",
    "if CB_Mode == 'TUNING':\n",
    "    cb_params.update({\n",
    "        'n_estimators': 10000,\n",
    "    })"
   ]
  },
  {
   "cell_type": "code",
   "execution_count": 221,
   "metadata": {
    "executionInfo": {
     "elapsed": 43,
     "status": "ok",
     "timestamp": 1716950896584,
     "user": {
      "displayName": "Lee Minjik",
      "userId": "03992121075759719709"
     },
     "user_tz": -540
    },
    "id": "uME1v5BmWfTy"
   },
   "outputs": [],
   "source": [
    "def LGBM_Tuning(trial):\n",
    "    tuning_params_L = {\n",
    "        'num_leaves': trial.suggest_int(\"num_leaves\", 7, 127),\n",
    "        'subsample': trial.suggest_float(\"subsample\", 0.5, 1.0),\n",
    "        \"colsample_bytree\": trial.suggest_float(\"colsample_bytree\", 0.5, 1.0),\n",
    "    }\n",
    "    tuning_params_L.update(lgbm_params)\n",
    "\n",
    "    X, y, X_tst = drop_sep(drop_fts_L, log='OFF')\n",
    "    model = LGBM_model(**tuning_params_L, early_stopping_round=LGBM_ESR)\n",
    "    vld_pred_L, tst_pred_L, ft_gain_L = oofp('LGBM', model, X, y, X_tst, 0)\n",
    "    return validate(y, vld_pred_L, Eval_Metric)"
   ]
  },
  {
   "cell_type": "code",
   "execution_count": 222,
   "metadata": {
    "executionInfo": {
     "elapsed": 42,
     "status": "ok",
     "timestamp": 1716950896584,
     "user": {
      "displayName": "Lee Minjik",
      "userId": "03992121075759719709"
     },
     "user_tz": -540
    },
    "id": "zdR_kJ9_cowR"
   },
   "outputs": [],
   "source": [
    "def XGB_Tuning(trial):\n",
    "    tuning_params_X = {\n",
    "        'max_depth': trial.suggest_int(\"max_depth\", 3, 12),\n",
    "        'max_leaves': trial.suggest_int(\"max_leaves\", 63, 1023),\n",
    "        'subsample': trial.suggest_float(\"subsample\", 0.5, 1.0),\n",
    "        'colsample_bytree': trial.suggest_float(\"colsample_bytree\", 0.5, 1.0),\n",
    "    }\n",
    "    tuning_params_X.update(xgb_params)\n",
    "\n",
    "    X, y, X_tst = drop_sep(drop_fts_X, log='OFF')\n",
    "    model = XGB_model(**tuning_params_X, early_stopping_rounds=XGB_ESR, enable_categorical=True)\n",
    "    vld_pred_X, tst_pred_X, ft_gain_X = oofp('XGB', model, X, y, X_tst, 0)\n",
    "    return validate(y, vld_pred_X, Eval_Metric)"
   ]
  },
  {
   "cell_type": "code",
   "execution_count": 223,
   "metadata": {
    "executionInfo": {
     "elapsed": 41,
     "status": "ok",
     "timestamp": 1716950896584,
     "user": {
      "displayName": "Lee Minjik",
      "userId": "03992121075759719709"
     },
     "user_tz": -540
    },
    "id": "u4GnnBeNDUW8"
   },
   "outputs": [],
   "source": [
    "def CB_Tuning(trial):\n",
    "    tuning_params_C = {\n",
    "        'depth': trial.suggest_int(\"depth\", 3, 12),\n",
    "        #'subsample': trial.suggest_float(\"subsample\", 0.5, 1.0),\n",
    "        'colsample_bylevel': trial.suggest_float(\"colsample_bylevel\", 0.5, 1.0),\n",
    "    }\n",
    "    tuning_params_C.update(cb_params)\n",
    "\n",
    "    X, y, X_tst = drop_sep(drop_fts_C, log='OFF')\n",
    "    model = CB_model(**tuning_params_C, early_stopping_rounds=CB_ESR)\n",
    "    vld_pred_C, tst_pred_C, ft_gain_C = oofp('CB', model, X, y, X_tst, 0)\n",
    "    return validate(y, vld_pred_C, Eval_Metric)"
   ]
  },
  {
   "cell_type": "code",
   "execution_count": 224,
   "metadata": {
    "executionInfo": {
     "elapsed": 41,
     "status": "ok",
     "timestamp": 1716950896584,
     "user": {
      "displayName": "Lee Minjik",
      "userId": "03992121075759719709"
     },
     "user_tz": -540
    },
    "id": "Ih0c7gK7n_sr"
   },
   "outputs": [],
   "source": [
    "def tuning_result(study):\n",
    "    print(\"\\nBest Value:\", study.best_value)\n",
    "    print(\"Best trial number: \", study.best_trial.number)\n",
    "    print(study.best_params)"
   ]
  },
  {
   "cell_type": "code",
   "execution_count": 225,
   "metadata": {
    "executionInfo": {
     "elapsed": 41,
     "status": "ok",
     "timestamp": 1716950896585,
     "user": {
      "displayName": "Lee Minjik",
      "userId": "03992121075759719709"
     },
     "user_tz": -540
    },
    "id": "1nOXIPavq8TX"
   },
   "outputs": [],
   "source": [
    "def create_study(name):\n",
    "    study = optuna.create_study(\n",
    "        study_name = name,\n",
    "        direction = 'minimize',\n",
    "        sampler = TPESampler(seed=42)\n",
    "    )\n",
    "    return study"
   ]
  },
  {
   "cell_type": "code",
   "execution_count": 226,
   "metadata": {
    "colab": {
     "base_uri": "https://localhost:8080/"
    },
    "executionInfo": {
     "elapsed": 40,
     "status": "ok",
     "timestamp": 1716950896585,
     "user": {
      "displayName": "Lee Minjik",
      "userId": "03992121075759719709"
     },
     "user_tz": -540
    },
    "id": "0CIbqcaQnkEO",
    "outputId": "624638d3-866c-4077-a98a-cf5562939628"
   },
   "outputs": [
    {
     "name": "stdout",
     "output_type": "stream",
     "text": [
      "CPU times: total: 0 ns\n",
      "Wall time: 0 ns\n"
     ]
    }
   ],
   "source": [
    "%%time\n",
    "if LGBM_Mode == 'TUNING':\n",
    "    study = create_study('LGBM Tuning')\n",
    "    study.optimize(lambda trial: LGBM_Tuning(trial), n_trials=LGBM_Tuning_Tries)\n",
    "    lgbm_params.update({\n",
    "        'num_leaves': study.best_params['num_leaves'],\n",
    "        'subsample': study.best_params['subsample'],\n",
    "        'colsample_bytree': study.best_params['colsample_bytree'],\n",
    "    })\n",
    "    tuning_result(study)"
   ]
  },
  {
   "cell_type": "code",
   "execution_count": 227,
   "metadata": {
    "colab": {
     "base_uri": "https://localhost:8080/"
    },
    "executionInfo": {
     "elapsed": 33,
     "status": "ok",
     "timestamp": 1716950896585,
     "user": {
      "displayName": "Lee Minjik",
      "userId": "03992121075759719709"
     },
     "user_tz": -540
    },
    "id": "L7chzIihcs2m",
    "outputId": "e9283a22-0dbc-455a-edff-1b0d8ac082ad"
   },
   "outputs": [
    {
     "name": "stdout",
     "output_type": "stream",
     "text": [
      "CPU times: total: 0 ns\n",
      "Wall time: 0 ns\n"
     ]
    }
   ],
   "source": [
    "%%time\n",
    "if XGB_Mode == 'TUNING':\n",
    "    study = create_study('XGB Tuning')\n",
    "    study.optimize(lambda trial: XGB_Tuning(trial), n_trials=XGB_Tuning_Tries)\n",
    "    xgb_params.update({\n",
    "        'max_depth': study.best_params['max_depth'],\n",
    "        'max_leaves': study.best_params['max_leaves'],\n",
    "        'subsample': study.best_params['subsample'],\n",
    "        'colsample_bytree': study.best_params['colsample_bytree'],\n",
    "    })\n",
    "    tuning_result(study)"
   ]
  },
  {
   "cell_type": "code",
   "execution_count": 228,
   "metadata": {
    "colab": {
     "base_uri": "https://localhost:8080/"
    },
    "executionInfo": {
     "elapsed": 30,
     "status": "ok",
     "timestamp": 1716950896586,
     "user": {
      "displayName": "Lee Minjik",
      "userId": "03992121075759719709"
     },
     "user_tz": -540
    },
    "id": "il9Wy7K9DXAK",
    "outputId": "8faee8db-d283-40a9-e3c9-8d3e93718563"
   },
   "outputs": [
    {
     "name": "stdout",
     "output_type": "stream",
     "text": [
      "CPU times: total: 0 ns\n",
      "Wall time: 0 ns\n"
     ]
    }
   ],
   "source": [
    "%%time\n",
    "if CB_Mode == 'TUNING':\n",
    "    study = create_study('CatBoost Tuning')\n",
    "    study.optimize(lambda trial: CB_Tuning(trial), n_trials=CB_Tuning_Tries)\n",
    "    cb_params.update({\n",
    "        'depth': study.best_params['depth'],\n",
    "        # 'subsample': study.best_params['subsample'],\n",
    "        'colsample_bylevel': study.best_params['colsample_bylevel'],\n",
    "    })\n",
    "    tuning_result(study)"
   ]
  },
  {
   "cell_type": "code",
   "execution_count": 229,
   "metadata": {},
   "outputs": [],
   "source": [
    "# train.to_csv(\"small_train_fea106_0719ver.csv\", index=False)"
   ]
  },
  {
   "cell_type": "code",
   "execution_count": 230,
   "metadata": {},
   "outputs": [
    {
     "data": {
      "text/plain": [
       "(100000, 9)"
      ]
     },
     "execution_count": 230,
     "metadata": {},
     "output_type": "execute_result"
    }
   ],
   "source": [
    "train.shape"
   ]
  },
  {
   "cell_type": "code",
   "execution_count": 231,
   "metadata": {},
   "outputs": [],
   "source": [
    "# test.to_csv(\"test_fea105_0719ver.csv\", index=False)"
   ]
  },
  {
   "cell_type": "code",
   "execution_count": 232,
   "metadata": {},
   "outputs": [
    {
     "name": "stdout",
     "output_type": "stream",
     "text": [
      "<class 'pandas.core.frame.DataFrame'>\n",
      "RangeIndex: 18790469 entries, 0 to 18790468\n",
      "Data columns (total 9 columns):\n",
      " #   Column           Dtype         \n",
      "---  ------           -----         \n",
      " 0   click_id         float32       \n",
      " 1   ip               float32       \n",
      " 2   app              float32       \n",
      " 3   device           float32       \n",
      " 4   os               float32       \n",
      " 5   channel          float32       \n",
      " 6   click_time       datetime64[ns]\n",
      " 7   real_clicks_1hr  int64         \n",
      " 8   real_clicks_6hr  int64         \n",
      "dtypes: datetime64[ns](1), float32(6), int64(2)\n",
      "memory usage: 860.2 MB\n"
     ]
    }
   ],
   "source": [
    "test.info()"
   ]
  },
  {
   "cell_type": "code",
   "execution_count": 233,
   "metadata": {},
   "outputs": [
    {
     "data": {
      "text/html": [
       "<div>\n",
       "<style scoped>\n",
       "    .dataframe tbody tr th:only-of-type {\n",
       "        vertical-align: middle;\n",
       "    }\n",
       "\n",
       "    .dataframe tbody tr th {\n",
       "        vertical-align: top;\n",
       "    }\n",
       "\n",
       "    .dataframe thead th {\n",
       "        text-align: right;\n",
       "    }\n",
       "</style>\n",
       "<table border=\"1\" class=\"dataframe\">\n",
       "  <thead>\n",
       "    <tr style=\"text-align: right;\">\n",
       "      <th></th>\n",
       "      <th>click_id</th>\n",
       "      <th>ip</th>\n",
       "      <th>app</th>\n",
       "      <th>device</th>\n",
       "      <th>os</th>\n",
       "      <th>channel</th>\n",
       "      <th>click_time</th>\n",
       "      <th>real_clicks_1hr</th>\n",
       "      <th>real_clicks_6hr</th>\n",
       "    </tr>\n",
       "  </thead>\n",
       "  <tbody>\n",
       "    <tr>\n",
       "      <th>0</th>\n",
       "      <td>0.0</td>\n",
       "      <td>5744.0</td>\n",
       "      <td>9.0</td>\n",
       "      <td>1.0</td>\n",
       "      <td>3.0</td>\n",
       "      <td>107.0</td>\n",
       "      <td>2017-11-10 04:00:00</td>\n",
       "      <td>34</td>\n",
       "      <td>50</td>\n",
       "    </tr>\n",
       "    <tr>\n",
       "      <th>1</th>\n",
       "      <td>1.0</td>\n",
       "      <td>119901.0</td>\n",
       "      <td>9.0</td>\n",
       "      <td>1.0</td>\n",
       "      <td>3.0</td>\n",
       "      <td>466.0</td>\n",
       "      <td>2017-11-10 04:00:00</td>\n",
       "      <td>403</td>\n",
       "      <td>747</td>\n",
       "    </tr>\n",
       "    <tr>\n",
       "      <th>2</th>\n",
       "      <td>2.0</td>\n",
       "      <td>72287.0</td>\n",
       "      <td>21.0</td>\n",
       "      <td>1.0</td>\n",
       "      <td>19.0</td>\n",
       "      <td>128.0</td>\n",
       "      <td>2017-11-10 04:00:00</td>\n",
       "      <td>229</td>\n",
       "      <td>500</td>\n",
       "    </tr>\n",
       "    <tr>\n",
       "      <th>3</th>\n",
       "      <td>3.0</td>\n",
       "      <td>78477.0</td>\n",
       "      <td>15.0</td>\n",
       "      <td>1.0</td>\n",
       "      <td>13.0</td>\n",
       "      <td>111.0</td>\n",
       "      <td>2017-11-10 04:00:00</td>\n",
       "      <td>239</td>\n",
       "      <td>476</td>\n",
       "    </tr>\n",
       "    <tr>\n",
       "      <th>4</th>\n",
       "      <td>4.0</td>\n",
       "      <td>123080.0</td>\n",
       "      <td>12.0</td>\n",
       "      <td>1.0</td>\n",
       "      <td>13.0</td>\n",
       "      <td>328.0</td>\n",
       "      <td>2017-11-10 04:00:00</td>\n",
       "      <td>60</td>\n",
       "      <td>68</td>\n",
       "    </tr>\n",
       "  </tbody>\n",
       "</table>\n",
       "</div>"
      ],
      "text/plain": [
       "   click_id        ip   app  device    os  channel          click_time  \\\n",
       "0       0.0    5744.0   9.0     1.0   3.0    107.0 2017-11-10 04:00:00   \n",
       "1       1.0  119901.0   9.0     1.0   3.0    466.0 2017-11-10 04:00:00   \n",
       "2       2.0   72287.0  21.0     1.0  19.0    128.0 2017-11-10 04:00:00   \n",
       "3       3.0   78477.0  15.0     1.0  13.0    111.0 2017-11-10 04:00:00   \n",
       "4       4.0  123080.0  12.0     1.0  13.0    328.0 2017-11-10 04:00:00   \n",
       "\n",
       "   real_clicks_1hr  real_clicks_6hr  \n",
       "0               34               50  \n",
       "1              403              747  \n",
       "2              229              500  \n",
       "3              239              476  \n",
       "4               60               68  "
      ]
     },
     "execution_count": 233,
     "metadata": {},
     "output_type": "execute_result"
    }
   ],
   "source": [
    "test.head()"
   ]
  },
  {
   "cell_type": "code",
   "execution_count": 234,
   "metadata": {},
   "outputs": [],
   "source": [
    "# test['topic_ip+os+_1'].info()"
   ]
  },
  {
   "cell_type": "code",
   "execution_count": 235,
   "metadata": {},
   "outputs": [
    {
     "data": {
      "text/plain": [
       "(18790469, 9)"
      ]
     },
     "execution_count": 235,
     "metadata": {},
     "output_type": "execute_result"
    }
   ],
   "source": [
    "test.shape"
   ]
  },
  {
   "cell_type": "code",
   "execution_count": 236,
   "metadata": {},
   "outputs": [
    {
     "data": {
      "text/plain": [
       "(100000, 9)"
      ]
     },
     "execution_count": 236,
     "metadata": {},
     "output_type": "execute_result"
    }
   ],
   "source": [
    "train.shape"
   ]
  },
  {
   "cell_type": "code",
   "execution_count": 237,
   "metadata": {},
   "outputs": [
    {
     "data": {
      "text/plain": [
       "227"
      ]
     },
     "execution_count": 237,
     "metadata": {},
     "output_type": "execute_result"
    }
   ],
   "source": [
    "len(train[train['is_attributed'] == 1])"
   ]
  },
  {
   "cell_type": "code",
   "execution_count": 238,
   "metadata": {},
   "outputs": [
    {
     "data": {
      "text/plain": [
       "Index(['ip', 'app', 'device', 'os', 'channel', 'click_time', 'is_attributed',\n",
       "       'real_clicks_1hr', 'real_clicks_6hr'],\n",
       "      dtype='object')"
      ]
     },
     "execution_count": 238,
     "metadata": {},
     "output_type": "execute_result"
    }
   ],
   "source": [
    "train.columns"
   ]
  },
  {
   "cell_type": "code",
   "execution_count": 239,
   "metadata": {},
   "outputs": [
    {
     "data": {
      "text/plain": [
       "9"
      ]
     },
     "execution_count": 239,
     "metadata": {},
     "output_type": "execute_result"
    }
   ],
   "source": [
    "len(set(test.columns))"
   ]
  },
  {
   "cell_type": "code",
   "execution_count": 240,
   "metadata": {},
   "outputs": [
    {
     "data": {
      "text/plain": [
       "Index(['click_id', 'ip', 'app', 'device', 'os', 'channel', 'click_time',\n",
       "       'real_clicks_1hr', 'real_clicks_6hr'],\n",
       "      dtype='object')"
      ]
     },
     "execution_count": 240,
     "metadata": {},
     "output_type": "execute_result"
    }
   ],
   "source": [
    "test.columns"
   ]
  },
  {
   "cell_type": "code",
   "execution_count": 241,
   "metadata": {},
   "outputs": [
    {
     "data": {
      "text/plain": [
       "False"
      ]
     },
     "execution_count": 241,
     "metadata": {},
     "output_type": "execute_result"
    }
   ],
   "source": [
    "'target' in test.columns"
   ]
  },
  {
   "cell_type": "code",
   "execution_count": 242,
   "metadata": {},
   "outputs": [],
   "source": [
    "# test = test.drop('target', axis = 1)"
   ]
  },
  {
   "cell_type": "markdown",
   "metadata": {},
   "source": [
    "## drop"
   ]
  },
  {
   "cell_type": "code",
   "execution_count": 243,
   "metadata": {},
   "outputs": [
    {
     "data": {
      "text/html": [
       "<div>\n",
       "<style scoped>\n",
       "    .dataframe tbody tr th:only-of-type {\n",
       "        vertical-align: middle;\n",
       "    }\n",
       "\n",
       "    .dataframe tbody tr th {\n",
       "        vertical-align: top;\n",
       "    }\n",
       "\n",
       "    .dataframe thead th {\n",
       "        text-align: right;\n",
       "    }\n",
       "</style>\n",
       "<table border=\"1\" class=\"dataframe\">\n",
       "  <thead>\n",
       "    <tr style=\"text-align: right;\">\n",
       "      <th></th>\n",
       "      <th>ip</th>\n",
       "      <th>app</th>\n",
       "      <th>device</th>\n",
       "      <th>os</th>\n",
       "      <th>channel</th>\n",
       "      <th>click_time</th>\n",
       "      <th>is_attributed</th>\n",
       "      <th>real_clicks_1hr</th>\n",
       "      <th>real_clicks_6hr</th>\n",
       "    </tr>\n",
       "  </thead>\n",
       "  <tbody>\n",
       "    <tr>\n",
       "      <th>54955</th>\n",
       "      <td>48646.0</td>\n",
       "      <td>12.0</td>\n",
       "      <td>1.0</td>\n",
       "      <td>19.0</td>\n",
       "      <td>178.0</td>\n",
       "      <td>2017-11-06 16:00:00</td>\n",
       "      <td>0</td>\n",
       "      <td>2</td>\n",
       "      <td>2</td>\n",
       "    </tr>\n",
       "    <tr>\n",
       "      <th>28314</th>\n",
       "      <td>93836.0</td>\n",
       "      <td>12.0</td>\n",
       "      <td>1.0</td>\n",
       "      <td>30.0</td>\n",
       "      <td>328.0</td>\n",
       "      <td>2017-11-06 16:00:09</td>\n",
       "      <td>0</td>\n",
       "      <td>2</td>\n",
       "      <td>2</td>\n",
       "    </tr>\n",
       "    <tr>\n",
       "      <th>31830</th>\n",
       "      <td>5314.0</td>\n",
       "      <td>8.0</td>\n",
       "      <td>1.0</td>\n",
       "      <td>13.0</td>\n",
       "      <td>145.0</td>\n",
       "      <td>2017-11-06 16:00:09</td>\n",
       "      <td>0</td>\n",
       "      <td>3</td>\n",
       "      <td>3</td>\n",
       "    </tr>\n",
       "    <tr>\n",
       "      <th>99357</th>\n",
       "      <td>73954.0</td>\n",
       "      <td>23.0</td>\n",
       "      <td>1.0</td>\n",
       "      <td>19.0</td>\n",
       "      <td>153.0</td>\n",
       "      <td>2017-11-06 16:00:11</td>\n",
       "      <td>0</td>\n",
       "      <td>2</td>\n",
       "      <td>3</td>\n",
       "    </tr>\n",
       "    <tr>\n",
       "      <th>83228</th>\n",
       "      <td>91574.0</td>\n",
       "      <td>3.0</td>\n",
       "      <td>1.0</td>\n",
       "      <td>17.0</td>\n",
       "      <td>135.0</td>\n",
       "      <td>2017-11-06 16:00:11</td>\n",
       "      <td>0</td>\n",
       "      <td>1</td>\n",
       "      <td>1</td>\n",
       "    </tr>\n",
       "    <tr>\n",
       "      <th>...</th>\n",
       "      <td>...</td>\n",
       "      <td>...</td>\n",
       "      <td>...</td>\n",
       "      <td>...</td>\n",
       "      <td>...</td>\n",
       "      <td>...</td>\n",
       "      <td>...</td>\n",
       "      <td>...</td>\n",
       "      <td>...</td>\n",
       "    </tr>\n",
       "    <tr>\n",
       "      <th>75024</th>\n",
       "      <td>85592.0</td>\n",
       "      <td>12.0</td>\n",
       "      <td>1.0</td>\n",
       "      <td>13.0</td>\n",
       "      <td>145.0</td>\n",
       "      <td>2017-11-09 15:59:42</td>\n",
       "      <td>0</td>\n",
       "      <td>1</td>\n",
       "      <td>2</td>\n",
       "    </tr>\n",
       "    <tr>\n",
       "      <th>83818</th>\n",
       "      <td>91779.0</td>\n",
       "      <td>18.0</td>\n",
       "      <td>1.0</td>\n",
       "      <td>41.0</td>\n",
       "      <td>379.0</td>\n",
       "      <td>2017-11-09 15:59:43</td>\n",
       "      <td>0</td>\n",
       "      <td>1</td>\n",
       "      <td>1</td>\n",
       "    </tr>\n",
       "    <tr>\n",
       "      <th>17634</th>\n",
       "      <td>81374.0</td>\n",
       "      <td>14.0</td>\n",
       "      <td>1.0</td>\n",
       "      <td>25.0</td>\n",
       "      <td>118.0</td>\n",
       "      <td>2017-11-09 15:59:44</td>\n",
       "      <td>0</td>\n",
       "      <td>1</td>\n",
       "      <td>1</td>\n",
       "    </tr>\n",
       "    <tr>\n",
       "      <th>41817</th>\n",
       "      <td>11911.0</td>\n",
       "      <td>1.0</td>\n",
       "      <td>1.0</td>\n",
       "      <td>22.0</td>\n",
       "      <td>115.0</td>\n",
       "      <td>2017-11-09 15:59:46</td>\n",
       "      <td>0</td>\n",
       "      <td>1</td>\n",
       "      <td>1</td>\n",
       "    </tr>\n",
       "    <tr>\n",
       "      <th>23038</th>\n",
       "      <td>44018.0</td>\n",
       "      <td>13.0</td>\n",
       "      <td>1.0</td>\n",
       "      <td>19.0</td>\n",
       "      <td>477.0</td>\n",
       "      <td>2017-11-09 15:59:51</td>\n",
       "      <td>0</td>\n",
       "      <td>1</td>\n",
       "      <td>1</td>\n",
       "    </tr>\n",
       "  </tbody>\n",
       "</table>\n",
       "<p>100000 rows × 9 columns</p>\n",
       "</div>"
      ],
      "text/plain": [
       "            ip   app  device    os  channel          click_time  \\\n",
       "54955  48646.0  12.0     1.0  19.0    178.0 2017-11-06 16:00:00   \n",
       "28314  93836.0  12.0     1.0  30.0    328.0 2017-11-06 16:00:09   \n",
       "31830   5314.0   8.0     1.0  13.0    145.0 2017-11-06 16:00:09   \n",
       "99357  73954.0  23.0     1.0  19.0    153.0 2017-11-06 16:00:11   \n",
       "83228  91574.0   3.0     1.0  17.0    135.0 2017-11-06 16:00:11   \n",
       "...        ...   ...     ...   ...      ...                 ...   \n",
       "75024  85592.0  12.0     1.0  13.0    145.0 2017-11-09 15:59:42   \n",
       "83818  91779.0  18.0     1.0  41.0    379.0 2017-11-09 15:59:43   \n",
       "17634  81374.0  14.0     1.0  25.0    118.0 2017-11-09 15:59:44   \n",
       "41817  11911.0   1.0     1.0  22.0    115.0 2017-11-09 15:59:46   \n",
       "23038  44018.0  13.0     1.0  19.0    477.0 2017-11-09 15:59:51   \n",
       "\n",
       "       is_attributed  real_clicks_1hr  real_clicks_6hr  \n",
       "54955              0                2                2  \n",
       "28314              0                2                2  \n",
       "31830              0                3                3  \n",
       "99357              0                2                3  \n",
       "83228              0                1                1  \n",
       "...              ...              ...              ...  \n",
       "75024              0                1                2  \n",
       "83818              0                1                1  \n",
       "17634              0                1                1  \n",
       "41817              0                1                1  \n",
       "23038              0                1                1  \n",
       "\n",
       "[100000 rows x 9 columns]"
      ]
     },
     "execution_count": 243,
     "metadata": {},
     "output_type": "execute_result"
    }
   ],
   "source": [
    "#train = train.drop('ip', axis = 1)\n",
    "#test = test.drop('ip', axis = 1)\n",
    "train"
   ]
  },
  {
   "cell_type": "code",
   "execution_count": 244,
   "metadata": {},
   "outputs": [],
   "source": [
    "# cols_to_drop = ['device', 'os', 'channel']\n",
    "# train = train.drop(cols_to_drop, axis=1)\n",
    "# test = test.drop(cols_to_drop, axis=1)\n",
    "# train"
   ]
  },
  {
   "cell_type": "code",
   "execution_count": 245,
   "metadata": {},
   "outputs": [],
   "source": [
    "if 'click_time' in train.columns :\n",
    "    train = train.drop('click_time', axis = 1)    "
   ]
  },
  {
   "cell_type": "code",
   "execution_count": 246,
   "metadata": {},
   "outputs": [
    {
     "data": {
      "text/plain": [
       "Index(['ip', 'app', 'device', 'os', 'channel', 'is_attributed',\n",
       "       'real_clicks_1hr', 'real_clicks_6hr'],\n",
       "      dtype='object')"
      ]
     },
     "execution_count": 246,
     "metadata": {},
     "output_type": "execute_result"
    }
   ],
   "source": [
    "train.columns"
   ]
  },
  {
   "cell_type": "code",
   "execution_count": 247,
   "metadata": {},
   "outputs": [],
   "source": [
    "if 'click_time' in test.columns :\n",
    "    test = test.drop('click_time', axis = 1)    "
   ]
  },
  {
   "cell_type": "code",
   "execution_count": 248,
   "metadata": {},
   "outputs": [
    {
     "data": {
      "text/plain": [
       "Index(['click_id', 'ip', 'app', 'device', 'os', 'channel', 'real_clicks_1hr',\n",
       "       'real_clicks_6hr'],\n",
       "      dtype='object')"
      ]
     },
     "execution_count": 248,
     "metadata": {},
     "output_type": "execute_result"
    }
   ],
   "source": [
    "test.columns"
   ]
  },
  {
   "cell_type": "markdown",
   "metadata": {
    "id": "IQPGDB2l9r0O"
   },
   "source": [
    "## LightGBM"
   ]
  },
  {
   "cell_type": "code",
   "execution_count": 249,
   "metadata": {
    "colab": {
     "base_uri": "https://localhost:8080/"
    },
    "executionInfo": {
     "elapsed": 26,
     "status": "ok",
     "timestamp": 1716950896586,
     "user": {
      "displayName": "Lee Minjik",
      "userId": "03992121075759719709"
     },
     "user_tz": -540
    },
    "id": "PTobfkB7vybx",
    "outputId": "9613c3ec-5378-483a-ad77-34b69eafb3f2"
   },
   "outputs": [
    {
     "data": {
      "text/plain": [
       "{'learning_rate': 0.1,\n",
       " 'objective': 'binary',\n",
       " 'metric': 'auc ',\n",
       " 'n_estimators': 1000,\n",
       " 'importance_type': 'gain',\n",
       " 'verbose': -1,\n",
       " 'random_state': 42}"
      ]
     },
     "execution_count": 249,
     "metadata": {},
     "output_type": "execute_result"
    }
   ],
   "source": [
    "if LGBM_Mode == 'ON':\n",
    "    lgbm_params.update({})\n",
    "    # lgbm_params.update({'n_estimators': 1000})\n",
    "\n",
    "lgbm_params"
   ]
  },
  {
   "cell_type": "code",
   "execution_count": 250,
   "metadata": {},
   "outputs": [],
   "source": [
    "if 'click_id' in test.columns :\n",
    "    test = test.drop('click_id', axis = 1)"
   ]
  },
  {
   "cell_type": "code",
   "execution_count": 251,
   "metadata": {
    "colab": {
     "base_uri": "https://localhost:8080/"
    },
    "executionInfo": {
     "elapsed": 21,
     "status": "ok",
     "timestamp": 1716950896586,
     "user": {
      "displayName": "Lee Minjik",
      "userId": "03992121075759719709"
     },
     "user_tz": -540
    },
    "id": "eM8NKNf6fdei",
    "outputId": "e742d1ea-3eb3-4019-f86b-ec836a72204e"
   },
   "outputs": [],
   "source": [
    "if LGBM_Mode != 'OFF':\n",
    "    X, y, X_tst = drop_sep(drop_fts_L)\n",
    "    LGBM_columns = X.columns"
   ]
  },
  {
   "cell_type": "code",
   "execution_count": 252,
   "metadata": {},
   "outputs": [],
   "source": [
    "if LGBM_Mode != 'OFF':\n",
    "    print(set(X_tst.columns) - set(X.columns))"
   ]
  },
  {
   "cell_type": "code",
   "execution_count": 253,
   "metadata": {},
   "outputs": [],
   "source": [
    "# sample_fraction = 0.01\n",
    "# X_sampled = X.sample(frac=sample_fraction, random_state=42)\n",
    "# y_sampled = y.loc[X_sampled.index]\n",
    "# X_sampled.shape"
   ]
  },
  {
   "cell_type": "code",
   "execution_count": 254,
   "metadata": {
    "colab": {
     "base_uri": "https://localhost:8080/"
    },
    "executionInfo": {
     "elapsed": 30277,
     "status": "ok",
     "timestamp": 1716950926847,
     "user": {
      "displayName": "Lee Minjik",
      "userId": "03992121075759719709"
     },
     "user_tz": -540
    },
    "id": "WqAtxfiWwev8",
    "outputId": "d991d7d2-063e-4ad4-f114-3cdf69dc9eff"
   },
   "outputs": [
    {
     "name": "stdout",
     "output_type": "stream",
     "text": [
      "CPU times: total: 0 ns\n",
      "Wall time: 0 ns\n"
     ]
    }
   ],
   "source": [
    "%%time\n",
    "if LGBM_Mode != 'OFF':\n",
    "    model = LGBM_model(**lgbm_params, early_stopping_round=LGBM_ESR)\n",
    "    # vld_pred_L, tst_pred_L, ft_gain_L = oofp('LGBM', model, X, y, X_tst, 100)\n",
    "    #vld_real_y, vld_pred_L, tst_pred_L, ft_gain_L = oofp_time('LGBM', model, X, y, X_tst, 100)\n",
    "    vld_pred_L, tst_pred_L, ft_gain_L = oofp('LGBM', model, X, y, X_tst, 100)\n",
    "    #result = validate(vld_real_y, vld_pred_L, Eval_Metric)\n",
    "    result = validate(y, vld_pred_L, Eval_Metric)\n",
    "    #result = validate(y_sampled, vld_pred_L, Eval_Metric)\n",
    "    print(f'\\nLGBM Validation: {result:.5f}')"
   ]
  },
  {
   "cell_type": "markdown",
   "metadata": {
    "id": "fwH5kNCYIu2m"
   },
   "source": [
    "## XGBoost"
   ]
  },
  {
   "cell_type": "code",
   "execution_count": 288,
   "metadata": {
    "colab": {
     "base_uri": "https://localhost:8080/"
    },
    "executionInfo": {
     "elapsed": 55,
     "status": "ok",
     "timestamp": 1716950926848,
     "user": {
      "displayName": "Lee Minjik",
      "userId": "03992121075759719709"
     },
     "user_tz": -540
    },
    "id": "87KnNcae_YpF",
    "outputId": "0cf54298-676e-4854-bd07-237d8550759d"
   },
   "outputs": [
    {
     "data": {
      "text/plain": [
       "{'objective': 'binary:logistic',\n",
       " 'eval_metric': 'auc',\n",
       " 'learning_rate': 0.1,\n",
       " 'tree_method': 'exact',\n",
       " 'n_estimators': 5000,\n",
       " 'importance_type': 'gain',\n",
       " 'verbosity': 0,\n",
       " 'random_state': 42}"
      ]
     },
     "execution_count": 288,
     "metadata": {},
     "output_type": "execute_result"
    }
   ],
   "source": [
    "if XGB_Mode == 'ON':\n",
    "    xgb_params.update({})\n",
    "    # xgb_params.update({'n_estimators': 1000})\n",
    "\n",
    "xgb_params"
   ]
  },
  {
   "cell_type": "code",
   "execution_count": 256,
   "metadata": {},
   "outputs": [
    {
     "data": {
      "text/plain": [
       "[]"
      ]
     },
     "execution_count": 256,
     "metadata": {},
     "output_type": "execute_result"
    }
   ],
   "source": [
    "drop_fts_X"
   ]
  },
  {
   "cell_type": "code",
   "execution_count": 289,
   "metadata": {
    "colab": {
     "base_uri": "https://localhost:8080/"
    },
    "executionInfo": {
     "elapsed": 47,
     "status": "ok",
     "timestamp": 1716950926849,
     "user": {
      "displayName": "Lee Minjik",
      "userId": "03992121075759719709"
     },
     "user_tz": -540
    },
    "id": "eWZI8fHaimhr",
    "outputId": "d372e6c1-e50c-4737-ddf7-0306bcc7e082"
   },
   "outputs": [
    {
     "name": "stdout",
     "output_type": "stream",
     "text": [
      "Index(['ip', 'app', 'device', 'os', 'channel', 'real_clicks_1hr',\n",
      "       'real_clicks_6hr'],\n",
      "      dtype='object')\n",
      "Index(['ip', 'app', 'device', 'os', 'channel', 'real_clicks_1hr',\n",
      "       'real_clicks_6hr'],\n",
      "      dtype='object')\n",
      "Train data shape: (100000, 7), Missing: 0\n",
      "Test  data shape: (18790469, 7), Missing: 0\n",
      "Index(['ip', 'app', 'device', 'os', 'channel', 'real_clicks_1hr',\n",
      "       'real_clicks_6hr'],\n",
      "      dtype='object')\n"
     ]
    }
   ],
   "source": [
    "if XGB_Mode != 'OFF':\n",
    "    X, y, X_tst = drop_sep(drop_fts_X)\n",
    "    #print(X.columns)\n",
    "    #print(y.columns)\n",
    "    XGB_columns = X.columns"
   ]
  },
  {
   "cell_type": "code",
   "execution_count": 258,
   "metadata": {},
   "outputs": [
    {
     "data": {
      "text/plain": [
       "set()"
      ]
     },
     "execution_count": 258,
     "metadata": {},
     "output_type": "execute_result"
    }
   ],
   "source": [
    "t1 = set(train.columns)\n",
    "t2 = set(test.columns)\n",
    "t2 - t1"
   ]
  },
  {
   "cell_type": "code",
   "execution_count": 259,
   "metadata": {},
   "outputs": [
    {
     "data": {
      "text/plain": [
       "(100000, 8)"
      ]
     },
     "execution_count": 259,
     "metadata": {},
     "output_type": "execute_result"
    }
   ],
   "source": [
    "train.shape"
   ]
  },
  {
   "cell_type": "code",
   "execution_count": 260,
   "metadata": {},
   "outputs": [
    {
     "data": {
      "text/plain": [
       "Index(['ip', 'app', 'device', 'os', 'channel', 'is_attributed',\n",
       "       'real_clicks_1hr', 'real_clicks_6hr'],\n",
       "      dtype='object')"
      ]
     },
     "execution_count": 260,
     "metadata": {},
     "output_type": "execute_result"
    }
   ],
   "source": [
    "train.columns"
   ]
  },
  {
   "cell_type": "code",
   "execution_count": 261,
   "metadata": {},
   "outputs": [
    {
     "name": "stdout",
     "output_type": "stream",
     "text": [
      "<class 'pandas.core.frame.DataFrame'>\n",
      "Index: 100000 entries, 54955 to 23038\n",
      "Data columns (total 8 columns):\n",
      " #   Column           Non-Null Count   Dtype  \n",
      "---  ------           --------------   -----  \n",
      " 0   ip               100000 non-null  float32\n",
      " 1   app              100000 non-null  float32\n",
      " 2   device           100000 non-null  float32\n",
      " 3   os               100000 non-null  float32\n",
      " 4   channel          100000 non-null  float32\n",
      " 5   is_attributed    100000 non-null  uint8  \n",
      " 6   real_clicks_1hr  100000 non-null  int64  \n",
      " 7   real_clicks_6hr  100000 non-null  int64  \n",
      "dtypes: float32(5), int64(2), uint8(1)\n",
      "memory usage: 4.3 MB\n"
     ]
    }
   ],
   "source": [
    "train.info()"
   ]
  },
  {
   "cell_type": "code",
   "execution_count": 290,
   "metadata": {},
   "outputs": [
    {
     "name": "stdout",
     "output_type": "stream",
     "text": [
      "<class 'pandas.core.frame.DataFrame'>\n",
      "RangeIndex: 18790469 entries, 0 to 18790468\n",
      "Data columns (total 7 columns):\n",
      " #   Column           Dtype  \n",
      "---  ------           -----  \n",
      " 0   ip               float32\n",
      " 1   app              float32\n",
      " 2   device           float32\n",
      " 3   os               float32\n",
      " 4   channel          float32\n",
      " 5   real_clicks_1hr  int64  \n",
      " 6   real_clicks_6hr  int64  \n",
      "dtypes: float32(5), int64(2)\n",
      "memory usage: 645.1 MB\n"
     ]
    }
   ],
   "source": [
    "test.info()"
   ]
  },
  {
   "cell_type": "code",
   "execution_count": 291,
   "metadata": {
    "colab": {
     "base_uri": "https://localhost:8080/"
    },
    "executionInfo": {
     "elapsed": 23912,
     "status": "ok",
     "timestamp": 1716950950722,
     "user": {
      "displayName": "Lee Minjik",
      "userId": "03992121075759719709"
     },
     "user_tz": -540
    },
    "id": "yFQ3xVyQ-A9b",
    "outputId": "6264b010-7eb4-4e79-ebe1-532045c40232"
   },
   "outputs": [
    {
     "name": "stdout",
     "output_type": "stream",
     "text": [
      "\n",
      " ######################################## Fold 1 / Fold 5 ########################################\n",
      "[0]\tvalidation_0-auc:0.83348\n",
      "[100]\tvalidation_0-auc:0.96202\n",
      "[160]\tvalidation_0-auc:0.95120\n",
      "\n",
      " ######################################## Fold 2 / Fold 5 ########################################\n",
      "[0]\tvalidation_0-auc:0.83657\n",
      "[100]\tvalidation_0-auc:0.93782\n",
      "[134]\tvalidation_0-auc:0.93743\n",
      "\n",
      " ######################################## Fold 3 / Fold 5 ########################################\n",
      "[0]\tvalidation_0-auc:0.88182\n",
      "[100]\tvalidation_0-auc:0.96160\n",
      "[200]\tvalidation_0-auc:0.96875\n",
      "[300]\tvalidation_0-auc:0.97002\n",
      "[400]\tvalidation_0-auc:0.96928\n",
      "[429]\tvalidation_0-auc:0.96918\n",
      "\n",
      " ######################################## Fold 4 / Fold 5 ########################################\n",
      "[0]\tvalidation_0-auc:0.86247\n",
      "[100]\tvalidation_0-auc:0.95430\n",
      "[156]\tvalidation_0-auc:0.95362\n",
      "\n",
      " ######################################## Fold 5 / Fold 5 ########################################\n",
      "[0]\tvalidation_0-auc:0.88182\n",
      "[100]\tvalidation_0-auc:0.93988\n",
      "[147]\tvalidation_0-auc:0.93612\n",
      "\n",
      "XGB Validation: 0.95047\n",
      "CPU times: total: 9min 48s\n",
      "Wall time: 1min 22s\n"
     ]
    }
   ],
   "source": [
    "%%time\n",
    "if XGB_Mode != 'OFF':\n",
    "    model = XGB_model(**xgb_params, early_stopping_rounds=XGB_ESR)\n",
    "    #model = XGB_model(**xgb_params, early_stopping_rounds=XGB_ESR, enable_categorical=True)\n",
    "    vld_pred_X, tst_pred_X, ft_gain_X = oofp('XGB', model, X, y, X_tst, 100)\n",
    "    result = validate(y, vld_pred_X, Eval_Metric)\n",
    "    print(f'\\nXGB Validation: {result:.5f}')"
   ]
  },
  {
   "cell_type": "markdown",
   "metadata": {
    "id": "IlKmemW1UsZa"
   },
   "source": [
    "## CatBoost"
   ]
  },
  {
   "cell_type": "code",
   "execution_count": 264,
   "metadata": {
    "colab": {
     "base_uri": "https://localhost:8080/"
    },
    "executionInfo": {
     "elapsed": 35,
     "status": "ok",
     "timestamp": 1716950950722,
     "user": {
      "displayName": "Lee Minjik",
      "userId": "03992121075759719709"
     },
     "user_tz": -540
    },
    "id": "hLTj0ZLyUsZa",
    "outputId": "4f051b60-71cf-4d2c-92ab-d7ab185b204a"
   },
   "outputs": [
    {
     "data": {
      "text/plain": [
       "{'objective': 'Logloss',\n",
       " 'eval_metric': 'AUC',\n",
       " 'n_estimators': 1000,\n",
       " 'verbose': 0,\n",
       " 'random_state': 42}"
      ]
     },
     "execution_count": 264,
     "metadata": {},
     "output_type": "execute_result"
    }
   ],
   "source": [
    "if CB_Mode == 'ON':\n",
    "    cb_params.update({})\n",
    "    # cb_params.update({'n_estimators': 3000})\n",
    "\n",
    "cb_params"
   ]
  },
  {
   "cell_type": "code",
   "execution_count": 265,
   "metadata": {
    "colab": {
     "base_uri": "https://localhost:8080/"
    },
    "executionInfo": {
     "elapsed": 31,
     "status": "ok",
     "timestamp": 1716950950723,
     "user": {
      "displayName": "Lee Minjik",
      "userId": "03992121075759719709"
     },
     "user_tz": -540
    },
    "id": "rddsSivIjAjE",
    "outputId": "aeec0e90-437c-4803-b5d3-d2cdce5f241d"
   },
   "outputs": [],
   "source": [
    "if CB_Mode != 'OFF':\n",
    "    X, y, X_tst = drop_sep(drop_fts_C)\n",
    "    CB_columns = X.columns"
   ]
  },
  {
   "cell_type": "code",
   "execution_count": 266,
   "metadata": {
    "colab": {
     "base_uri": "https://localhost:8080/"
    },
    "executionInfo": {
     "elapsed": 223468,
     "status": "ok",
     "timestamp": 1716951174163,
     "user": {
      "displayName": "Lee Minjik",
      "userId": "03992121075759719709"
     },
     "user_tz": -540
    },
    "id": "-F3zL028UsZb",
    "outputId": "2a52c6d0-a71e-4f57-d977-c6cf77cfbb2e"
   },
   "outputs": [
    {
     "name": "stdout",
     "output_type": "stream",
     "text": [
      "CPU times: total: 0 ns\n",
      "Wall time: 0 ns\n"
     ]
    }
   ],
   "source": [
    "%%time\n",
    "if CB_Mode != 'OFF':\n",
    "    model = CB_model(**cb_params, early_stopping_rounds=CB_ESR)\n",
    "    vld_pred_C, tst_pred_C, ft_gain_C = oofp('CB', model, X, y, X_tst, 100)\n",
    "    result = validate(y, vld_pred_C, Eval_Metric)\n",
    "    print(f'\\nCatBoost Validation: {result:.5f}')"
   ]
  },
  {
   "cell_type": "markdown",
   "metadata": {
    "id": "8ePx_55525ug"
   },
   "source": [
    "## RandomForest"
   ]
  },
  {
   "cell_type": "code",
   "execution_count": 267,
   "metadata": {
    "colab": {
     "base_uri": "https://localhost:8080/"
    },
    "executionInfo": {
     "elapsed": 29,
     "status": "ok",
     "timestamp": 1716951174507,
     "user": {
      "displayName": "Lee Minjik",
      "userId": "03992121075759719709"
     },
     "user_tz": -540
    },
    "id": "TvdgchA425uy",
    "outputId": "2ce1bab8-b95b-472b-ff13-10d5b27882d9"
   },
   "outputs": [
    {
     "data": {
      "text/plain": [
       "{'random_state': 42}"
      ]
     },
     "execution_count": 267,
     "metadata": {},
     "output_type": "execute_result"
    }
   ],
   "source": [
    "if RF_Mode == 'ON':\n",
    "    # rf_params.update({})\n",
    "    rf_params.update({'n_estimators': 1000})\n",
    "\n",
    "rf_params"
   ]
  },
  {
   "cell_type": "code",
   "execution_count": 268,
   "metadata": {
    "executionInfo": {
     "elapsed": 24,
     "status": "ok",
     "timestamp": 1716951174508,
     "user": {
      "displayName": "Lee Minjik",
      "userId": "03992121075759719709"
     },
     "user_tz": -540
    },
    "id": "2CJJRnbt25uz"
   },
   "outputs": [],
   "source": [
    "if RF_Mode != 'OFF':\n",
    "    X, y, X_tst = drop_sep(drop_fts_R)\n",
    "    RF_columns = X.columns"
   ]
  },
  {
   "cell_type": "code",
   "execution_count": 269,
   "metadata": {
    "colab": {
     "base_uri": "https://localhost:8080/"
    },
    "executionInfo": {
     "elapsed": 24,
     "status": "ok",
     "timestamp": 1716951174508,
     "user": {
      "displayName": "Lee Minjik",
      "userId": "03992121075759719709"
     },
     "user_tz": -540
    },
    "id": "8bYgF70D25uz",
    "outputId": "ae3a5814-5bb2-4944-fbd5-dba2f7f17d49"
   },
   "outputs": [
    {
     "name": "stdout",
     "output_type": "stream",
     "text": [
      "CPU times: total: 0 ns\n",
      "Wall time: 0 ns\n"
     ]
    }
   ],
   "source": [
    "%%time\n",
    "if RF_Mode != 'OFF':\n",
    "    model = RF_model(**rf_params)\n",
    "    vld_pred_R, tst_pred_R, ft_gain_R = oofp('RF', model, X, y, X_tst, 100)\n",
    "    result = validate(y, vld_pred_R, Eval_Metric)\n",
    "    print(f'\\nRandomForest Validation: {result:.5f}')"
   ]
  },
  {
   "cell_type": "markdown",
   "metadata": {},
   "source": [
    "## NN"
   ]
  },
  {
   "cell_type": "code",
   "execution_count": 270,
   "metadata": {},
   "outputs": [
    {
     "name": "stdout",
     "output_type": "stream",
     "text": [
      "Requirement already satisfied: tensorflow in c:\\users\\sklee\\anaconda3\\lib\\site-packages (2.16.1)\n",
      "Requirement already satisfied: pandas in c:\\users\\sklee\\anaconda3\\lib\\site-packages (2.1.4)\n",
      "Requirement already satisfied: scikit-learn in c:\\users\\sklee\\anaconda3\\lib\\site-packages (1.2.2)\n",
      "Requirement already satisfied: tensorflow-intel==2.16.1 in c:\\users\\sklee\\anaconda3\\lib\\site-packages (from tensorflow) (2.16.1)\n",
      "Requirement already satisfied: absl-py>=1.0.0 in c:\\users\\sklee\\anaconda3\\lib\\site-packages (from tensorflow-intel==2.16.1->tensorflow) (2.1.0)\n",
      "Requirement already satisfied: astunparse>=1.6.0 in c:\\users\\sklee\\anaconda3\\lib\\site-packages (from tensorflow-intel==2.16.1->tensorflow) (1.6.3)\n",
      "Requirement already satisfied: flatbuffers>=23.5.26 in c:\\users\\sklee\\anaconda3\\lib\\site-packages (from tensorflow-intel==2.16.1->tensorflow) (24.3.25)\n",
      "Requirement already satisfied: gast!=0.5.0,!=0.5.1,!=0.5.2,>=0.2.1 in c:\\users\\sklee\\anaconda3\\lib\\site-packages (from tensorflow-intel==2.16.1->tensorflow) (0.5.5)\n",
      "Requirement already satisfied: google-pasta>=0.1.1 in c:\\users\\sklee\\anaconda3\\lib\\site-packages (from tensorflow-intel==2.16.1->tensorflow) (0.2.0)\n",
      "Requirement already satisfied: h5py>=3.10.0 in c:\\users\\sklee\\anaconda3\\lib\\site-packages (from tensorflow-intel==2.16.1->tensorflow) (3.11.0)\n",
      "Requirement already satisfied: libclang>=13.0.0 in c:\\users\\sklee\\anaconda3\\lib\\site-packages (from tensorflow-intel==2.16.1->tensorflow) (18.1.1)\n",
      "Requirement already satisfied: ml-dtypes~=0.3.1 in c:\\users\\sklee\\anaconda3\\lib\\site-packages (from tensorflow-intel==2.16.1->tensorflow) (0.3.2)\n",
      "Requirement already satisfied: opt-einsum>=2.3.2 in c:\\users\\sklee\\anaconda3\\lib\\site-packages (from tensorflow-intel==2.16.1->tensorflow) (3.3.0)\n",
      "Requirement already satisfied: packaging in c:\\users\\sklee\\anaconda3\\lib\\site-packages (from tensorflow-intel==2.16.1->tensorflow) (23.1)\n",
      "Requirement already satisfied: protobuf!=4.21.0,!=4.21.1,!=4.21.2,!=4.21.3,!=4.21.4,!=4.21.5,<5.0.0dev,>=3.20.3 in c:\\users\\sklee\\anaconda3\\lib\\site-packages (from tensorflow-intel==2.16.1->tensorflow) (3.20.3)\n",
      "Requirement already satisfied: requests<3,>=2.21.0 in c:\\users\\sklee\\anaconda3\\lib\\site-packages (from tensorflow-intel==2.16.1->tensorflow) (2.31.0)\n",
      "Requirement already satisfied: setuptools in c:\\users\\sklee\\anaconda3\\lib\\site-packages (from tensorflow-intel==2.16.1->tensorflow) (68.2.2)\n",
      "Requirement already satisfied: six>=1.12.0 in c:\\users\\sklee\\anaconda3\\lib\\site-packages (from tensorflow-intel==2.16.1->tensorflow) (1.16.0)\n",
      "Requirement already satisfied: termcolor>=1.1.0 in c:\\users\\sklee\\anaconda3\\lib\\site-packages (from tensorflow-intel==2.16.1->tensorflow) (2.4.0)\n",
      "Requirement already satisfied: typing-extensions>=3.6.6 in c:\\users\\sklee\\anaconda3\\lib\\site-packages (from tensorflow-intel==2.16.1->tensorflow) (4.9.0)\n",
      "Requirement already satisfied: wrapt>=1.11.0 in c:\\users\\sklee\\anaconda3\\lib\\site-packages (from tensorflow-intel==2.16.1->tensorflow) (1.14.1)\n",
      "Requirement already satisfied: grpcio<2.0,>=1.24.3 in c:\\users\\sklee\\anaconda3\\lib\\site-packages (from tensorflow-intel==2.16.1->tensorflow) (1.64.1)\n",
      "Requirement already satisfied: tensorboard<2.17,>=2.16 in c:\\users\\sklee\\anaconda3\\lib\\site-packages (from tensorflow-intel==2.16.1->tensorflow) (2.16.2)\n",
      "Requirement already satisfied: keras>=3.0.0 in c:\\users\\sklee\\anaconda3\\lib\\site-packages (from tensorflow-intel==2.16.1->tensorflow) (3.4.1)\n",
      "Requirement already satisfied: tensorflow-io-gcs-filesystem>=0.23.1 in c:\\users\\sklee\\anaconda3\\lib\\site-packages (from tensorflow-intel==2.16.1->tensorflow) (0.31.0)\n",
      "Requirement already satisfied: numpy<2.0.0,>=1.23.5 in c:\\users\\sklee\\anaconda3\\lib\\site-packages (from tensorflow-intel==2.16.1->tensorflow) (1.26.4)\n",
      "Requirement already satisfied: python-dateutil>=2.8.2 in c:\\users\\sklee\\anaconda3\\lib\\site-packages (from pandas) (2.8.2)\n",
      "Requirement already satisfied: pytz>=2020.1 in c:\\users\\sklee\\anaconda3\\lib\\site-packages (from pandas) (2023.3.post1)\n",
      "Requirement already satisfied: tzdata>=2022.1 in c:\\users\\sklee\\anaconda3\\lib\\site-packages (from pandas) (2023.3)\n",
      "Requirement already satisfied: scipy>=1.3.2 in c:\\users\\sklee\\anaconda3\\lib\\site-packages (from scikit-learn) (1.11.4)\n",
      "Requirement already satisfied: joblib>=1.1.1 in c:\\users\\sklee\\anaconda3\\lib\\site-packages (from scikit-learn) (1.2.0)\n",
      "Requirement already satisfied: threadpoolctl>=2.0.0 in c:\\users\\sklee\\anaconda3\\lib\\site-packages (from scikit-learn) (2.2.0)\n",
      "Requirement already satisfied: wheel<1.0,>=0.23.0 in c:\\users\\sklee\\anaconda3\\lib\\site-packages (from astunparse>=1.6.0->tensorflow-intel==2.16.1->tensorflow) (0.41.2)\n",
      "Requirement already satisfied: rich in c:\\users\\sklee\\anaconda3\\lib\\site-packages (from keras>=3.0.0->tensorflow-intel==2.16.1->tensorflow) (13.3.5)\n",
      "Requirement already satisfied: namex in c:\\users\\sklee\\anaconda3\\lib\\site-packages (from keras>=3.0.0->tensorflow-intel==2.16.1->tensorflow) (0.0.8)\n",
      "Requirement already satisfied: optree in c:\\users\\sklee\\anaconda3\\lib\\site-packages (from keras>=3.0.0->tensorflow-intel==2.16.1->tensorflow) (0.11.0)\n",
      "Requirement already satisfied: charset-normalizer<4,>=2 in c:\\users\\sklee\\anaconda3\\lib\\site-packages (from requests<3,>=2.21.0->tensorflow-intel==2.16.1->tensorflow) (2.0.4)\n",
      "Requirement already satisfied: idna<4,>=2.5 in c:\\users\\sklee\\anaconda3\\lib\\site-packages (from requests<3,>=2.21.0->tensorflow-intel==2.16.1->tensorflow) (3.4)\n",
      "Requirement already satisfied: urllib3<3,>=1.21.1 in c:\\users\\sklee\\anaconda3\\lib\\site-packages (from requests<3,>=2.21.0->tensorflow-intel==2.16.1->tensorflow) (2.0.7)\n",
      "Requirement already satisfied: certifi>=2017.4.17 in c:\\users\\sklee\\anaconda3\\lib\\site-packages (from requests<3,>=2.21.0->tensorflow-intel==2.16.1->tensorflow) (2024.2.2)\n",
      "Requirement already satisfied: markdown>=2.6.8 in c:\\users\\sklee\\anaconda3\\lib\\site-packages (from tensorboard<2.17,>=2.16->tensorflow-intel==2.16.1->tensorflow) (3.4.1)\n",
      "Requirement already satisfied: tensorboard-data-server<0.8.0,>=0.7.0 in c:\\users\\sklee\\anaconda3\\lib\\site-packages (from tensorboard<2.17,>=2.16->tensorflow-intel==2.16.1->tensorflow) (0.7.2)\n",
      "Requirement already satisfied: werkzeug>=1.0.1 in c:\\users\\sklee\\anaconda3\\lib\\site-packages (from tensorboard<2.17,>=2.16->tensorflow-intel==2.16.1->tensorflow) (2.2.3)\n",
      "Requirement already satisfied: MarkupSafe>=2.1.1 in c:\\users\\sklee\\anaconda3\\lib\\site-packages (from werkzeug>=1.0.1->tensorboard<2.17,>=2.16->tensorflow-intel==2.16.1->tensorflow) (2.1.3)\n",
      "Requirement already satisfied: markdown-it-py<3.0.0,>=2.2.0 in c:\\users\\sklee\\anaconda3\\lib\\site-packages (from rich->keras>=3.0.0->tensorflow-intel==2.16.1->tensorflow) (2.2.0)\n",
      "Requirement already satisfied: pygments<3.0.0,>=2.13.0 in c:\\users\\sklee\\anaconda3\\lib\\site-packages (from rich->keras>=3.0.0->tensorflow-intel==2.16.1->tensorflow) (2.15.1)\n",
      "Requirement already satisfied: mdurl~=0.1 in c:\\users\\sklee\\anaconda3\\lib\\site-packages (from markdown-it-py<3.0.0,>=2.2.0->rich->keras>=3.0.0->tensorflow-intel==2.16.1->tensorflow) (0.1.0)\n",
      "Note: you may need to restart the kernel to use updated packages.\n"
     ]
    }
   ],
   "source": [
    "pip install tensorflow pandas scikit-learn"
   ]
  },
  {
   "cell_type": "code",
   "execution_count": 271,
   "metadata": {},
   "outputs": [],
   "source": [
    "# import tensorflow as tf\n",
    "# from tensorflow.keras.models import Sequential\n",
    "# from tensorflow.keras.layers import Dense, Dropout\n",
    "# from tensorflow.keras.optimizers import Adam\n",
    "# from tensorflow.keras.losses import BinaryCrossentropy\n",
    "# from tensorflow.keras.metrics import AUC\n",
    "# import pandas as pd\n",
    "# from sklearn.model_selection import train_test_split\n",
    "# from sklearn.preprocessing import StandardScaler\n",
    "# from sklearn.metrics import classification_report, roc_auc_score"
   ]
  },
  {
   "cell_type": "code",
   "execution_count": 272,
   "metadata": {},
   "outputs": [],
   "source": [
    "if RNN_Mode == 'ON' :\n",
    "    X, y, X_tst = drop_sep(drop_fts_X)"
   ]
  },
  {
   "cell_type": "code",
   "execution_count": 273,
   "metadata": {},
   "outputs": [],
   "source": [
    "# Feature와 Target 변수 분리\n",
    "\n",
    "if RNN_Mode == 'ON' :\n",
    "    X_train = X.copy()\n",
    "    y_train = y.copy()\n",
    "    X_test = X_tst.copy()\n",
    "    #y_test = test_data['Target']\n",
    "    \n",
    "    # 데이터 정규화 (옵션으로 적용, 필요시 사용)\n",
    "    scaler = StandardScaler()\n",
    "    X_train = scaler.fit_transform(X_train)\n",
    "    X_test = scaler.transform(X_test)\n",
    "    \n",
    "    # 모델 구성\n",
    "    model = Sequential([\n",
    "        Dense(64, input_dim=X_train.shape[1], activation='relu'),\n",
    "        Dropout(0.5),\n",
    "        Dense(32, activation='relu'),\n",
    "        Dropout(0.5),\n",
    "        Dense(1, activation='sigmoid')\n",
    "    ])\n",
    "    \n",
    "    # 모델 컴파일\n",
    "    model.compile(optimizer=Adam(),\n",
    "                  loss=BinaryCrossentropy(),\n",
    "                  metrics=[AUC()])\n",
    "    \n",
    "    # 모델 훈련\n",
    "    history = model.fit(X_train, y_train, epochs=50, batch_size=32, validation_split=0.2)\n",
    "\n"
   ]
  },
  {
   "cell_type": "code",
   "execution_count": 274,
   "metadata": {},
   "outputs": [],
   "source": [
    "if RNN_Mode == 'ON' :\n",
    "    X.shape"
   ]
  },
  {
   "cell_type": "code",
   "execution_count": 275,
   "metadata": {},
   "outputs": [],
   "source": [
    "def oofp_RNN(X, y, X_tst, verbose):\n",
    "\n",
    "    folds = StratifiedKFold(n_splits=3, shuffle=True, random_state=42)\n",
    "    vld_pred = np.zeros(len(X))\n",
    "    tst_pred = np.zeros(len(X_tst))\n",
    "\n",
    "    for fold_id, (trn_idx, vld_idx) in enumerate(folds.split(X, y)):\n",
    "        if verbose > 0:\n",
    "            print('\\n', '#'*40, f'Fold {fold_id+1} / Fold {folds.n_splits}', '#'*40)\n",
    "        X_trn, X_vld = X[trn_idx], X[vld_idx]\n",
    "        y_trn, y_vld = y[trn_idx], y[vld_idx]\n",
    "\n",
    "        model.fit(\n",
    "            X_trn, y_trn,\n",
    "            epochs=50,\n",
    "            batch_size=32,\n",
    "            validation_data=(X_vld, y_vld),\n",
    "            verbose=verbose\n",
    "        )\n",
    "\n",
    "        vld_pred[vld_idx] = model.predict(X_vld).flatten()\n",
    "        tst_pred += model.predict(X_tst).flatten() / folds.n_splits\n",
    "\n",
    "    return vld_pred, tst_pred, ft_gain\n",
    "\n",
    "if RNN_Mode == 'ON' :\n",
    "    vld_pred_RNN, tst_pred_RNN = oofp_RNN(X_train, y, X_test, 100)\n",
    "    result = validate(y, vld_pred_L, Eval_Metric)\n",
    "    print(f'\\nLGBM Validation: {result:.5f}')"
   ]
  },
  {
   "cell_type": "markdown",
   "metadata": {
    "id": "h2lyutAw_cNe"
   },
   "source": [
    "## Ensemble"
   ]
  },
  {
   "cell_type": "code",
   "execution_count": 276,
   "metadata": {
    "colab": {
     "base_uri": "https://localhost:8080/"
    },
    "executionInfo": {
     "elapsed": 16,
     "status": "ok",
     "timestamp": 1716951174508,
     "user": {
      "displayName": "Lee Minjik",
      "userId": "03992121075759719709"
     },
     "user_tz": -540
    },
    "id": "6x_rYUWA_eXy",
    "outputId": "cc4bd4c9-cd5a-4b2d-8a88-583c386e4242"
   },
   "outputs": [],
   "source": [
    "# %%time\n",
    "# if Ensemble_Mode == 'ON':\n",
    "#     L_weight, X_weight, C_weight, R_weight = 1, 1, 1, 0\n",
    "#     vld_pred_E, tst_pred_E, weight_sum = 0, 0, 0\n",
    "#     if LGBM_Mode != 'OFF': weight_sum += L_weight\n",
    "#     if XGB_Mode  != 'OFF': weight_sum += X_weight\n",
    "#     if CB_Mode   != 'OFF': weight_sum += C_weight\n",
    "#     if RF_Mode   != 'OFF': weight_sum += R_weight\n",
    "\n",
    "#     if LGBM_Mode != 'OFF':\n",
    "#         vld_pred_E += (vld_pred_L * L_weight) / weight_sum\n",
    "#         tst_pred_E += (tst_pred_L * L_weight) / weight_sum\n",
    "#     if XGB_Mode != 'OFF':\n",
    "#         vld_pred_E += (vld_pred_X * X_weight) / weight_sum\n",
    "#         tst_pred_E += (tst_pred_X * X_weight) / weight_sum\n",
    "#     if CB_Mode != 'OFF':\n",
    "#         vld_pred_E += (vld_pred_C * C_weight) / weight_sum\n",
    "#         tst_pred_E += (tst_pred_C * C_weight) / weight_sum\n",
    "#     if RF_Mode != 'OFF':\n",
    "#         vld_pred_E += (vld_pred_R * R_weight) / weight_sum\n",
    "#         tst_pred_E += (tst_pred_R * R_weight) / weight_sum\n",
    "\n",
    "#     result = validate(y, vld_pred_E, Eval_Metric)\n",
    "#     print(f'Ensemble Validation: {result:.5f}')"
   ]
  },
  {
   "cell_type": "code",
   "execution_count": 277,
   "metadata": {},
   "outputs": [
    {
     "data": {
      "text/html": [
       "<div>\n",
       "<style scoped>\n",
       "    .dataframe tbody tr th:only-of-type {\n",
       "        vertical-align: middle;\n",
       "    }\n",
       "\n",
       "    .dataframe tbody tr th {\n",
       "        vertical-align: top;\n",
       "    }\n",
       "\n",
       "    .dataframe thead th {\n",
       "        text-align: right;\n",
       "    }\n",
       "</style>\n",
       "<table border=\"1\" class=\"dataframe\">\n",
       "  <thead>\n",
       "    <tr style=\"text-align: right;\">\n",
       "      <th></th>\n",
       "      <th>click_id</th>\n",
       "      <th>is_attributed</th>\n",
       "    </tr>\n",
       "  </thead>\n",
       "  <tbody>\n",
       "    <tr>\n",
       "      <th>0</th>\n",
       "      <td>0</td>\n",
       "      <td>0</td>\n",
       "    </tr>\n",
       "    <tr>\n",
       "      <th>1</th>\n",
       "      <td>1</td>\n",
       "      <td>0</td>\n",
       "    </tr>\n",
       "    <tr>\n",
       "      <th>2</th>\n",
       "      <td>2</td>\n",
       "      <td>0</td>\n",
       "    </tr>\n",
       "    <tr>\n",
       "      <th>3</th>\n",
       "      <td>3</td>\n",
       "      <td>0</td>\n",
       "    </tr>\n",
       "    <tr>\n",
       "      <th>4</th>\n",
       "      <td>4</td>\n",
       "      <td>0</td>\n",
       "    </tr>\n",
       "    <tr>\n",
       "      <th>...</th>\n",
       "      <td>...</td>\n",
       "      <td>...</td>\n",
       "    </tr>\n",
       "    <tr>\n",
       "      <th>18790464</th>\n",
       "      <td>18790464</td>\n",
       "      <td>0</td>\n",
       "    </tr>\n",
       "    <tr>\n",
       "      <th>18790465</th>\n",
       "      <td>18790465</td>\n",
       "      <td>0</td>\n",
       "    </tr>\n",
       "    <tr>\n",
       "      <th>18790466</th>\n",
       "      <td>18790467</td>\n",
       "      <td>0</td>\n",
       "    </tr>\n",
       "    <tr>\n",
       "      <th>18790467</th>\n",
       "      <td>18790466</td>\n",
       "      <td>0</td>\n",
       "    </tr>\n",
       "    <tr>\n",
       "      <th>18790468</th>\n",
       "      <td>18790468</td>\n",
       "      <td>0</td>\n",
       "    </tr>\n",
       "  </tbody>\n",
       "</table>\n",
       "<p>18790469 rows × 2 columns</p>\n",
       "</div>"
      ],
      "text/plain": [
       "          click_id  is_attributed\n",
       "0                0              0\n",
       "1                1              0\n",
       "2                2              0\n",
       "3                3              0\n",
       "4                4              0\n",
       "...            ...            ...\n",
       "18790464  18790464              0\n",
       "18790465  18790465              0\n",
       "18790466  18790467              0\n",
       "18790467  18790466              0\n",
       "18790468  18790468              0\n",
       "\n",
       "[18790469 rows x 2 columns]"
      ]
     },
     "execution_count": 277,
     "metadata": {},
     "output_type": "execute_result"
    }
   ],
   "source": [
    "sub = submission.copy()\n",
    "sub"
   ]
  },
  {
   "cell_type": "code",
   "execution_count": 278,
   "metadata": {},
   "outputs": [
    {
     "ename": "NameError",
     "evalue": "name 'tst_pred_X' is not defined",
     "output_type": "error",
     "traceback": [
      "\u001b[1;31m---------------------------------------------------------------------------\u001b[0m",
      "\u001b[1;31mNameError\u001b[0m                                 Traceback (most recent call last)",
      "Cell \u001b[1;32mIn[278], line 1\u001b[0m\n\u001b[1;32m----> 1\u001b[0m tst_pred_X\n",
      "\u001b[1;31mNameError\u001b[0m: name 'tst_pred_X' is not defined"
     ]
    }
   ],
   "source": [
    "tst_pred_X"
   ]
  },
  {
   "cell_type": "code",
   "execution_count": null,
   "metadata": {},
   "outputs": [],
   "source": [
    "test"
   ]
  },
  {
   "cell_type": "markdown",
   "metadata": {
    "id": "UV8_HUEsJAKf"
   },
   "source": [
    "# Output"
   ]
  },
  {
   "cell_type": "code",
   "execution_count": 280,
   "metadata": {},
   "outputs": [],
   "source": [
    "def output(filename, tst_pred):\n",
    "    sub = submission.copy()\n",
    "    sub.iloc[:, 1:] = tst_pred\n",
    "    sub.to_csv(filename, index=False)\n",
    "    print(filename, 'has been created.')\n",
    "    print(sub, '\\n\\n')"
   ]
  },
  {
   "cell_type": "markdown",
   "metadata": {},
   "source": [
    "## Base model"
   ]
  },
  {
   "cell_type": "code",
   "execution_count": 292,
   "metadata": {
    "colab": {
     "base_uri": "https://localhost:8080/"
    },
    "executionInfo": {
     "elapsed": 443,
     "status": "ok",
     "timestamp": 1716951174938,
     "user": {
      "displayName": "Lee Minjik",
      "userId": "03992121075759719709"
     },
     "user_tz": -540
    },
    "id": "Fm2SZn6AawdQ",
    "outputId": "f537ffbf-ac82-448f-fc22-343e82c1bd1d"
   },
   "outputs": [
    {
     "name": "stdout",
     "output_type": "stream",
     "text": [
      "output_1X.csv has been created.\n",
      "          click_id  is_attributed\n",
      "0                0       0.006841\n",
      "1                1       0.001945\n",
      "2                2       0.001218\n",
      "3                3       0.007094\n",
      "4                4       0.001512\n",
      "...            ...            ...\n",
      "18790464  18790464       0.001137\n",
      "18790465  18790465       0.001178\n",
      "18790466  18790467       0.001323\n",
      "18790467  18790466       0.001195\n",
      "18790468  18790468       0.001314\n",
      "\n",
      "[18790469 rows x 2 columns] \n",
      "\n",
      "\n"
     ]
    }
   ],
   "source": [
    "filename_L = 'output_1L.csv'\n",
    "filename_X = 'output_1X.csv'\n",
    "filename_C = 'output_1C.csv'\n",
    "filename_R = 'output_1R.csv'\n",
    "filename_E = 'output_1E.csv'\n",
    "\n",
    "\n",
    "if LGBM_Mode != 'OFF':\n",
    "    output(filename_L, tst_pred_L)\n",
    "if XGB_Mode != 'OFF':\n",
    "    output(filename_X, tst_pred_X)\n",
    "if CB_Mode != 'OFF':\n",
    "    output(filename_C, tst_pred_C)\n",
    "if RF_Mode != 'OFF':\n",
    "    output(filename_R, tst_pred_R)\n",
    "if Ensemble_Mode != 'OFF':\n",
    "    output(filename_E, tst_pred_E)\n",
    "if RNN_Mode != 'OFF':\n",
    "    output('output_full_RNN', tst_pred_RNN)\n",
    "\n"
   ]
  },
  {
   "cell_type": "code",
   "execution_count": null,
   "metadata": {},
   "outputs": [],
   "source": [
    "train.columns"
   ]
  },
  {
   "cell_type": "code",
   "execution_count": null,
   "metadata": {},
   "outputs": [],
   "source": [
    "test.head()"
   ]
  },
  {
   "cell_type": "code",
   "execution_count": null,
   "metadata": {},
   "outputs": [],
   "source": [
    "tst_pred_X.shape"
   ]
  },
  {
   "cell_type": "code",
   "execution_count": 293,
   "metadata": {},
   "outputs": [
    {
     "data": {
      "text/plain": [
       "0.001079210715715817"
      ]
     },
     "execution_count": 293,
     "metadata": {},
     "output_type": "execute_result"
    }
   ],
   "source": [
    "min(tst_pred_X)"
   ]
  },
  {
   "cell_type": "code",
   "execution_count": 294,
   "metadata": {},
   "outputs": [
    {
     "data": {
      "text/plain": [
       "0.6666718646883965"
      ]
     },
     "execution_count": 294,
     "metadata": {},
     "output_type": "execute_result"
    }
   ],
   "source": [
    "max(tst_pred_X)"
   ]
  },
  {
   "cell_type": "code",
   "execution_count": null,
   "metadata": {},
   "outputs": [],
   "source": [
    "test.shape"
   ]
  },
  {
   "cell_type": "code",
   "execution_count": null,
   "metadata": {},
   "outputs": [],
   "source": [
    "test['target'] = tst_pred_X\n",
    "test.head()"
   ]
  },
  {
   "cell_type": "code",
   "execution_count": null,
   "metadata": {},
   "outputs": [],
   "source": [
    "test"
   ]
  },
  {
   "cell_type": "markdown",
   "metadata": {},
   "source": [
    "-------------------------- End --------------------------------------------"
   ]
  },
  {
   "cell_type": "markdown",
   "metadata": {},
   "source": [
    "## user"
   ]
  },
  {
   "cell_type": "code",
   "execution_count": null,
   "metadata": {},
   "outputs": [],
   "source": [
    "test"
   ]
  },
  {
   "cell_type": "code",
   "execution_count": null,
   "metadata": {},
   "outputs": [],
   "source": [
    "test['target'] = tst_pred_X\n",
    "test.head()"
   ]
  },
  {
   "cell_type": "code",
   "execution_count": null,
   "metadata": {},
   "outputs": [],
   "source": [
    "test['target'].mean()"
   ]
  },
  {
   "cell_type": "code",
   "execution_count": null,
   "metadata": {},
   "outputs": [],
   "source": [
    "# group_vars = ['ip']\n",
    "group_vars = ['ip']\n",
    "\n",
    "df_grouped = test.groupby(group_vars)['target'].mean().reset_index()\n",
    "\n",
    "# 평균 target 값을 기준으로 사기꾼(1)과 사기꾼이 아닌 사람(0)으로 분류\n",
    "df_grouped['fraud'] = (df_grouped['target'] >= 0.5).astype(int)\n",
    "\n",
    "test2 = test.merge(df_grouped, on=group_vars, how='left')\n",
    "\n",
    "mse = mean_absolute_error(test2['fraud'], test2['target_x'])\n",
    "\n",
    "t1 = set(test2.loc[test2['fraud'] == 1, 'ip'])\n",
    "print(len(t1))\n",
    "# 결과 출력\n",
    "print(f'mean_absolute_error: {mse:.9f}')"
   ]
  },
  {
   "cell_type": "code",
   "execution_count": null,
   "metadata": {},
   "outputs": [],
   "source": [
    "test2"
   ]
  },
  {
   "cell_type": "code",
   "execution_count": null,
   "metadata": {},
   "outputs": [],
   "source": [
    "test2['target_x'].mean()"
   ]
  },
  {
   "cell_type": "code",
   "execution_count": null,
   "metadata": {},
   "outputs": [],
   "source": [
    "threshold = 0.2\n",
    "for threshold in [0.1, 0.2, 0.3, 0.4, 0.5, 0.6, 0.7, 0.8] : \n",
    "# group_vars = ['ip']\n",
    "    print(f'{threshold}:')\n",
    "    group_vars = ['ip', 'app', 'os', 'device', 'channel']\n",
    "\n",
    "    df_grouped = test.groupby(group_vars)['target'].mean().reset_index()\n",
    "\n",
    "    # 평균 target 값을 기준으로 사기꾼(1)과 사기꾼이 아닌 사람(0)으로 분류\n",
    "    df_grouped['fraud'] = (df_grouped['target'] >= threshold).astype(int)\n",
    "\n",
    "    test2 = test.merge(df_grouped, on=group_vars, how='left')\n",
    "\n",
    "    mse = mean_absolute_error(test2['fraud'], test2['target_x'])\n",
    "\n",
    "    t1 = set(test2.loc[test2['fraud'] == 1, 'ip'])\n",
    "    print(len(t1))\n",
    "    # 결과 출력\n",
    "    print(f'mean_absolute_error: {mse:.9f}')\n",
    "    \n",
    "    unique_combinations_count_all = test2.groupby(group_vars).ngroups\n",
    "    unique_combinations_count_1 = test2[test2['fraud'] == 1].groupby(group_vars).ngroups\n",
    "    print(f'{unique_combinations_count_1 / unique_combinations_count_all*100}%')\n",
    "    print()"
   ]
  },
  {
   "cell_type": "code",
   "execution_count": null,
   "metadata": {},
   "outputs": [],
   "source": [
    "test2['fraud'].describe()"
   ]
  },
  {
   "cell_type": "code",
   "execution_count": null,
   "metadata": {},
   "outputs": [],
   "source": [
    "threshold = 0.5\n",
    "\n",
    "# group_vars = ['ip']\n",
    "print(f'{threshold}:')\n",
    "group_vars = ['ip', 'app', 'os', 'device', 'channel']\n",
    "\n",
    "df_grouped = test.groupby(group_vars)['target'].mean().reset_index()\n",
    "\n",
    "# 평균 target 값을 기준으로 사기꾼(1)과 사기꾼이 아닌 사람(0)으로 분류\n",
    "df_grouped['fraud'] = (df_grouped['target'] >= threshold).astype(int)\n",
    "\n",
    "test2 = test.merge(df_grouped, on=group_vars, how='left')\n",
    "\n",
    "mse = mean_absolute_error(test2['fraud'], test2['target_x'])\n",
    "\n",
    "t1 = set(test2.loc[test2['fraud'] == 1, 'ip'])\n",
    "print(len(t1))\n",
    "# 결과 출력\n",
    "print(f'mean_absolute_error: {mse:.9f}')\n",
    "\n",
    "unique_combinations_count_all = test2.groupby(group_vars).ngroups\n",
    "unique_combinations_count_1 = test2[test2['fraud'] == 1].groupby(group_vars).ngroups\n",
    "print(f'{unique_combinations_count_1 / unique_combinations_count_all*100}%')\n",
    "print()"
   ]
  },
  {
   "cell_type": "code",
   "execution_count": null,
   "metadata": {},
   "outputs": [],
   "source": [
    "test2"
   ]
  },
  {
   "cell_type": "code",
   "execution_count": null,
   "metadata": {},
   "outputs": [],
   "source": [
    "test2['target_x'].describe()"
   ]
  },
  {
   "cell_type": "code",
   "execution_count": null,
   "metadata": {},
   "outputs": [],
   "source": [
    "for threshold in np.arange(0.01, 0.11, 0.01):\n",
    "    print(threshold)"
   ]
  },
  {
   "cell_type": "code",
   "execution_count": null,
   "metadata": {},
   "outputs": [],
   "source": [
    "\n",
    "for threshold in np.arange(0.01, 0.11, 0.01) :\n",
    "# group_vars = ['ip']\n",
    "    print(f'{threshold}:')\n",
    "    group_vars = ['ip', 'app', 'os', 'device', 'channel']\n",
    "\n",
    "    df_grouped = test.groupby(group_vars)['target'].mean().reset_index()\n",
    "\n",
    "    # 평균 target 값을 기준으로 사기꾼(1)과 사기꾼이 아닌 사람(0)으로 분류\n",
    "    df_grouped['fraud'] = (df_grouped['target'] >= threshold).astype(int)\n",
    "\n",
    "    test2 = test.merge(df_grouped, on=group_vars, how='left')\n",
    "\n",
    "    mse = mean_absolute_error(test2['fraud'], test2['target_x'])\n",
    "\n",
    "    t1 = set(test2.loc[test2['fraud'] == 1, 'ip'])\n",
    "    print(len(t1))\n",
    "    # 결과 출력\n",
    "    print(f'mean_absolute_error: {mse:.9f}')\n",
    "    \n",
    "    unique_combinations_count_all = test2.groupby(group_vars).ngroups\n",
    "    unique_combinations_count_1 = test2[test2['fraud'] == 1].groupby(group_vars).ngroups\n",
    "    print(f'{unique_combinations_count_1 / unique_combinations_count_all*100}%')\n",
    "    print()"
   ]
  },
  {
   "cell_type": "code",
   "execution_count": null,
   "metadata": {},
   "outputs": [],
   "source": [
    "unique_combinations_count_all = test2.groupby(group_vars).ngroups\n",
    "unique_combinations_count_1 = test2[test2['fraud'] == 1].groupby(group_vars).ngroups\n",
    "print(f'{unique_combinations_count_1 / unique_combinations_count_all*100}%')"
   ]
  },
  {
   "cell_type": "code",
   "execution_count": null,
   "metadata": {},
   "outputs": [],
   "source": [
    "test.shape"
   ]
  },
  {
   "cell_type": "code",
   "execution_count": null,
   "metadata": {},
   "outputs": [],
   "source": []
  },
  {
   "cell_type": "code",
   "execution_count": null,
   "metadata": {},
   "outputs": [],
   "source": [
    "df_grouped"
   ]
  },
  {
   "cell_type": "code",
   "execution_count": null,
   "metadata": {},
   "outputs": [],
   "source": [
    "\n",
    "for threshold in range() : \n",
    "# group_vars = ['ip']\n",
    "    print(f'{threshold}:')\n",
    "    group_vars = ['ip', 'app', 'os', 'device', 'channel']\n",
    "\n",
    "    df_grouped = test.groupby(group_vars)['target'].mean().reset_index()\n",
    "\n",
    "    # 평균 target 값을 기준으로 사기꾼(1)과 사기꾼이 아닌 사람(0)으로 분류\n",
    "    df_grouped['fraud'] = (df_grouped['target'] >= threshold).astype(int)\n",
    "\n",
    "    test2 = test.merge(df_grouped, on=group_vars, how='left')\n",
    "\n",
    "    mse = mean_absolute_error(test2['fraud'], test2['target_x'])\n",
    "\n",
    "    t1 = set(test2.loc[test2['fraud'] == 1, 'ip'])\n",
    "    print(len(t1))\n",
    "    # 결과 출력\n",
    "    print(f'mean_absolute_error: {mse:.9f}')\n",
    "    \n",
    "    unique_combinations_count_all = test2.groupby(group_vars).ngroups\n",
    "    unique_combinations_count_1 = test2[test2['fraud'] == 1].groupby(group_vars).ngroups\n",
    "    print(f'{unique_combinations_count_1 / unique_combinations_count_all*100}%')\n",
    "    print()"
   ]
  },
  {
   "cell_type": "code",
   "execution_count": null,
   "metadata": {},
   "outputs": [],
   "source": [
    "len(df_grouped[df_grouped['fraud'] == 1])"
   ]
  },
  {
   "cell_type": "code",
   "execution_count": null,
   "metadata": {},
   "outputs": [],
   "source": [
    "test2"
   ]
  },
  {
   "cell_type": "code",
   "execution_count": null,
   "metadata": {},
   "outputs": [],
   "source": [
    "unique_combinations_count_all = test2.groupby(group_vars).ngroups\n",
    "unique_combinations_count_all"
   ]
  },
  {
   "cell_type": "code",
   "execution_count": null,
   "metadata": {},
   "outputs": [],
   "source": [
    "unique_combinations_count_1 = test2[test2['fraud'] == 1].groupby(group_vars).ngroups\n",
    "unique_combinations_count_1"
   ]
  },
  {
   "cell_type": "code",
   "execution_count": null,
   "metadata": {},
   "outputs": [],
   "source": [
    "print(f'{unique_combinations_count_1 / unique_combinations_count_all*100}%')"
   ]
  },
  {
   "cell_type": "markdown",
   "metadata": {},
   "source": [
    "## rank-based weighted averaging"
   ]
  },
  {
   "cell_type": "code",
   "execution_count": null,
   "metadata": {},
   "outputs": [],
   "source": [
    "import numpy as np\n",
    "\n",
    "def rank_based_weighted_ensemble(predictions, scores):\n",
    "    # 모델 성능을 기준으로 랭크 계산\n",
    "    ranks = scores\n",
    "    # 가중치 계산\n",
    "    weights = ranks / np.sum(ranks)\n",
    "    # 각 모델의 예측에 가중치를 곱한 후 평균\n",
    "    weighted_avg = np.average(predictions, axis=0, weights=weights)\n",
    "    return weighted_avg\n"
   ]
  },
  {
   "cell_type": "code",
   "execution_count": null,
   "metadata": {},
   "outputs": [],
   "source": [
    "if RBWA_Mode == 'ON' :\n",
    "    # 예제 데이터\n",
    "    predictions = np.array([tst_pred_L, tst_pred_X])\n",
    "    scores = np.array([0.88010, 0.91796])  # 모델 성능 점수\n",
    "    result = rank_based_weighted_ensemble(predictions, scores)\n",
    "    output('output_1RBWA.csv', result)"
   ]
  },
  {
   "cell_type": "code",
   "execution_count": null,
   "metadata": {},
   "outputs": [],
   "source": [
    "if RBWA_Mode == 'ON' :\n",
    "    predictions = np.array([vld_pred_L, vld_pred_X])\n",
    "    vld_pred_RBWA = rank_based_weighted_ensemble(predictions, scores)\n",
    "    result = validate(y, vld_pred_RBWA, Eval_Metric)\n",
    "    print(f'\\nRank-based Weighted Averaging Validation: {result:.5f}')"
   ]
  },
  {
   "cell_type": "markdown",
   "metadata": {},
   "source": [
    "## RNN"
   ]
  },
  {
   "cell_type": "code",
   "execution_count": null,
   "metadata": {},
   "outputs": [],
   "source": [
    "if RNN_Mode == 'ON' :\n",
    "    \n",
    "    result = validate(y, y_vld_prob, Eval_Metric)\n",
    "    print(f'\\nRNN: {result:.5f}')\n",
    "    output('output_1RNN.csv', y_pred_prob)"
   ]
  },
  {
   "cell_type": "markdown",
   "metadata": {
    "id": "6mwRIRNJLZAO"
   },
   "source": [
    "# 분석"
   ]
  },
  {
   "cell_type": "markdown",
   "metadata": {
    "id": "q5ptmNaeiump"
   },
   "source": [
    "## Corr. Matrix"
   ]
  },
  {
   "cell_type": "code",
   "execution_count": null,
   "metadata": {
    "colab": {
     "base_uri": "https://localhost:8080/",
     "height": 1000
    },
    "executionInfo": {
     "elapsed": 1441,
     "status": "ok",
     "timestamp": 1716951176372,
     "user": {
      "displayName": "Lee Minjik",
      "userId": "03992121075759719709"
     },
     "user_tz": -540
    },
    "id": "edhFKEVsixto",
    "outputId": "68d6ad3f-5dcd-4f05-cd14-1e53213fd83b"
   },
   "outputs": [],
   "source": [
    "corr_matrix(train, Target, 20)"
   ]
  },
  {
   "cell_type": "code",
   "execution_count": null,
   "metadata": {
    "colab": {
     "base_uri": "https://localhost:8080/",
     "height": 542
    },
    "executionInfo": {
     "elapsed": 29,
     "status": "ok",
     "timestamp": 1716951176373,
     "user": {
      "displayName": "Lee Minjik",
      "userId": "03992121075759719709"
     },
     "user_tz": -540
    },
    "id": "uiupekpFR_VN",
    "outputId": "dc182332-682a-41bb-80b0-4cae1822c6fb"
   },
   "outputs": [],
   "source": [
    "corr_ft(train, Target, 10)"
   ]
  },
  {
   "cell_type": "markdown",
   "metadata": {
    "id": "EgKLsvgXjuAy"
   },
   "source": [
    "## Confusion Matrix"
   ]
  },
  {
   "cell_type": "code",
   "execution_count": null,
   "metadata": {
    "colab": {
     "base_uri": "https://localhost:8080/",
     "height": 542
    },
    "executionInfo": {
     "elapsed": 690,
     "status": "ok",
     "timestamp": 1716951177037,
     "user": {
      "displayName": "Lee Minjik",
      "userId": "03992121075759719709"
     },
     "user_tz": -540
    },
    "id": "9ElGSsyBb6pz",
    "outputId": "577e0648-b88d-4362-f9c4-cd2ca912cbc8"
   },
   "outputs": [],
   "source": [
    "def conf_matrix(pred):\n",
    "    conf_matrix = confusion_matrix(y, pred)\n",
    "    conf_labels = [f'{i}' for i in range(conf_matrix.shape[0])]\n",
    "    conf_matrix_df = pd.DataFrame(conf_matrix, columns=conf_labels, index=conf_labels)\n",
    "\n",
    "    plt.figure(figsize=(15, 6))\n",
    "    plt.imshow(conf_matrix, interpolation='nearest', cmap=plt.cm.Blues)\n",
    "    plt.xticks(np.arange(conf_matrix.shape[0]), conf_labels)\n",
    "    plt.yticks(np.arange(conf_matrix.shape[0]), conf_labels)\n",
    "    plt.xlabel('Predicted Label')\n",
    "    plt.ylabel('True Label')\n",
    "    for i in range(conf_matrix.shape[0]):\n",
    "        for j in range(conf_matrix.shape[1]):\n",
    "            plt.text(j, i, str(conf_matrix[i, j]), ha='center', va='center', color='black')\n",
    "    plt.grid(False)\n",
    "    plt.show()\n",
    "\n",
    "if Objective == 'binary':\n",
    "    conf_matrix(vld_pred_L>=0.5)\n",
    "elif Objective == 'multi':\n",
    "    conf_matrix(np.argmax(vld_pred_L, axis=1))"
   ]
  },
  {
   "cell_type": "markdown",
   "metadata": {
    "id": "JPVR-FIybFVS"
   },
   "source": [
    "## Feature Importance"
   ]
  },
  {
   "cell_type": "code",
   "execution_count": null,
   "metadata": {
    "executionInfo": {
     "elapsed": 59,
     "status": "ok",
     "timestamp": 1716951177038,
     "user": {
      "displayName": "Lee Minjik",
      "userId": "03992121075759719709"
     },
     "user_tz": -540
    },
    "id": "8DGP-W96a7Nt"
   },
   "outputs": [],
   "source": [
    "def ft_importance(importance_value, cols, count, title):\n",
    "    fi_df = pd.DataFrame({\n",
    "        'Feature': cols,\n",
    "        'Importance': importance_value\n",
    "    })\n",
    "\n",
    "    ft_sum = fi_df.Importance.sum()\n",
    "    fi_df['Ratio'] = round(fi_df.Importance / ft_sum * 100, 2)\n",
    "    fi_df = fi_df.sort_values(by='Ratio', ascending=False).head(count).reset_index(drop=True)\n",
    "\n",
    "    fig = px.bar(fi_df,\n",
    "        x='Importance',\n",
    "        y='Feature',\n",
    "        orientation = 'h',\n",
    "        text='Ratio',\n",
    "        color='Feature',\n",
    "        title=title\n",
    "    )\n",
    "    fig.update_traces(textposition='outside')\n",
    "    fig.show()"
   ]
  },
  {
   "cell_type": "code",
   "execution_count": null,
   "metadata": {
    "colab": {
     "base_uri": "https://localhost:8080/",
     "height": 542
    },
    "executionInfo": {
     "elapsed": 54,
     "status": "ok",
     "timestamp": 1716951177039,
     "user": {
      "displayName": "Lee Minjik",
      "userId": "03992121075759719709"
     },
     "user_tz": -540
    },
    "id": "FXs3Qkyq1RpO",
    "outputId": "de465d92-9fcb-4578-e506-f673ae769633"
   },
   "outputs": [],
   "source": [
    "if LGBM_Mode != 'OFF':\n",
    "    ft_importance(ft_gain_L, LGBM_columns, 10, \"LGBM Feature Importance\")"
   ]
  },
  {
   "cell_type": "code",
   "execution_count": null,
   "metadata": {
    "colab": {
     "base_uri": "https://localhost:8080/",
     "height": 542
    },
    "executionInfo": {
     "elapsed": 48,
     "status": "ok",
     "timestamp": 1716951177039,
     "user": {
      "displayName": "Lee Minjik",
      "userId": "03992121075759719709"
     },
     "user_tz": -540
    },
    "id": "E6KhRtLR6kAq",
    "outputId": "5557c920-02ca-4d08-a861-27808522fb10"
   },
   "outputs": [],
   "source": [
    "if XGB_Mode != 'OFF':\n",
    "    ft_importance(ft_gain_X, XGB_columns, 10, \"XGB Feature Importance\")"
   ]
  },
  {
   "cell_type": "code",
   "execution_count": null,
   "metadata": {
    "colab": {
     "base_uri": "https://localhost:8080/",
     "height": 542
    },
    "executionInfo": {
     "elapsed": 46,
     "status": "ok",
     "timestamp": 1716951177040,
     "user": {
      "displayName": "Lee Minjik",
      "userId": "03992121075759719709"
     },
     "user_tz": -540
    },
    "id": "VEGDFCXTSpGF",
    "outputId": "e9498221-7911-4c50-a594-f3cab94c9aa6"
   },
   "outputs": [],
   "source": [
    "if CB_Mode != 'OFF':\n",
    "    ft_importance(ft_gain_C, CB_columns, 10, \"CatBoost Feature Importance\")"
   ]
  },
  {
   "cell_type": "code",
   "execution_count": null,
   "metadata": {
    "executionInfo": {
     "elapsed": 43,
     "status": "ok",
     "timestamp": 1716951177041,
     "user": {
      "displayName": "Lee Minjik",
      "userId": "03992121075759719709"
     },
     "user_tz": -540
    },
    "id": "erjRGUVlrJU2"
   },
   "outputs": [],
   "source": [
    "if RF_Mode != 'OFF':\n",
    "    ft_importance(ft_gain_R, RF_columns, 10, \"RandomForest Feature Importance\")"
   ]
  }
 ],
 "metadata": {
  "colab": {
   "authorship_tag": "ABX9TyMRa0Nqz0eHOqeotwUiPYgq",
   "collapsed_sections": [
    "7l-cWTg4UQbj"
   ],
   "provenance": [],
   "toc_visible": true
  },
  "kernelspec": {
   "display_name": "Python 3 (ipykernel)",
   "language": "python",
   "name": "python3"
  },
  "language_info": {
   "codemirror_mode": {
    "name": "ipython",
    "version": 3
   },
   "file_extension": ".py",
   "mimetype": "text/x-python",
   "name": "python",
   "nbconvert_exporter": "python",
   "pygments_lexer": "ipython3",
   "version": "3.11.7"
  }
 },
 "nbformat": 4,
 "nbformat_minor": 4
}
